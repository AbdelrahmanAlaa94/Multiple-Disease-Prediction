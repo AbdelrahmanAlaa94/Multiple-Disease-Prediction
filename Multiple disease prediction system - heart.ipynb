{
 "cells": [
  {
   "cell_type": "markdown",
   "metadata": {},
   "source": [
    "# Heart Disease Dataset Analysis and Machine Learning\n"
   ]
  },
  {
   "cell_type": "markdown",
   "metadata": {},
   "source": [
    "---"
   ]
  },
  {
   "cell_type": "markdown",
   "metadata": {
    "id": "aTb-9TFFqprC"
   },
   "source": [
    "## Importing the Dependencies"
   ]
  },
  {
   "cell_type": "code",
   "execution_count": 1,
   "metadata": {},
   "outputs": [],
   "source": [
    "import pandas as pd\n",
    "import numpy as np"
   ]
  },
  {
   "cell_type": "markdown",
   "metadata": {
    "id": "egMd5zeurTMR"
   },
   "source": [
    "## Data Collection and Processing"
   ]
  },
  {
   "cell_type": "code",
   "execution_count": 2,
   "metadata": {},
   "outputs": [],
   "source": [
    "heart_data=pd.read_csv(r\"E:/College/Training/NTI/multiple-disease-prediction-streamlit-app-main/dataset/heart_expanded.csv\")"
   ]
  },
  {
   "cell_type": "code",
   "execution_count": 3,
   "metadata": {},
   "outputs": [
    {
     "data": {
      "text/html": [
       "<div>\n",
       "<style scoped>\n",
       "    .dataframe tbody tr th:only-of-type {\n",
       "        vertical-align: middle;\n",
       "    }\n",
       "\n",
       "    .dataframe tbody tr th {\n",
       "        vertical-align: top;\n",
       "    }\n",
       "\n",
       "    .dataframe thead th {\n",
       "        text-align: right;\n",
       "    }\n",
       "</style>\n",
       "<table border=\"1\" class=\"dataframe\">\n",
       "  <thead>\n",
       "    <tr style=\"text-align: right;\">\n",
       "      <th></th>\n",
       "      <th>age</th>\n",
       "      <th>sex</th>\n",
       "      <th>cp</th>\n",
       "      <th>trestbps</th>\n",
       "      <th>chol</th>\n",
       "      <th>fbs</th>\n",
       "      <th>restecg</th>\n",
       "      <th>thalach</th>\n",
       "      <th>exang</th>\n",
       "      <th>oldpeak</th>\n",
       "      <th>slope</th>\n",
       "      <th>ca</th>\n",
       "      <th>thal</th>\n",
       "      <th>target</th>\n",
       "    </tr>\n",
       "  </thead>\n",
       "  <tbody>\n",
       "    <tr>\n",
       "      <th>0</th>\n",
       "      <td>63.0</td>\n",
       "      <td>1.0</td>\n",
       "      <td>3.0</td>\n",
       "      <td>145.0</td>\n",
       "      <td>233.0</td>\n",
       "      <td>1.0</td>\n",
       "      <td>0.0</td>\n",
       "      <td>150.0</td>\n",
       "      <td>0.0</td>\n",
       "      <td>2.3</td>\n",
       "      <td>0.0</td>\n",
       "      <td>0.0</td>\n",
       "      <td>1.0</td>\n",
       "      <td>1.0</td>\n",
       "    </tr>\n",
       "    <tr>\n",
       "      <th>1</th>\n",
       "      <td>37.0</td>\n",
       "      <td>1.0</td>\n",
       "      <td>2.0</td>\n",
       "      <td>130.0</td>\n",
       "      <td>250.0</td>\n",
       "      <td>0.0</td>\n",
       "      <td>1.0</td>\n",
       "      <td>187.0</td>\n",
       "      <td>0.0</td>\n",
       "      <td>3.5</td>\n",
       "      <td>0.0</td>\n",
       "      <td>0.0</td>\n",
       "      <td>2.0</td>\n",
       "      <td>1.0</td>\n",
       "    </tr>\n",
       "    <tr>\n",
       "      <th>2</th>\n",
       "      <td>41.0</td>\n",
       "      <td>0.0</td>\n",
       "      <td>1.0</td>\n",
       "      <td>130.0</td>\n",
       "      <td>204.0</td>\n",
       "      <td>0.0</td>\n",
       "      <td>0.0</td>\n",
       "      <td>172.0</td>\n",
       "      <td>0.0</td>\n",
       "      <td>1.4</td>\n",
       "      <td>2.0</td>\n",
       "      <td>0.0</td>\n",
       "      <td>2.0</td>\n",
       "      <td>1.0</td>\n",
       "    </tr>\n",
       "    <tr>\n",
       "      <th>3</th>\n",
       "      <td>56.0</td>\n",
       "      <td>1.0</td>\n",
       "      <td>1.0</td>\n",
       "      <td>120.0</td>\n",
       "      <td>236.0</td>\n",
       "      <td>0.0</td>\n",
       "      <td>1.0</td>\n",
       "      <td>178.0</td>\n",
       "      <td>0.0</td>\n",
       "      <td>0.8</td>\n",
       "      <td>2.0</td>\n",
       "      <td>0.0</td>\n",
       "      <td>2.0</td>\n",
       "      <td>1.0</td>\n",
       "    </tr>\n",
       "    <tr>\n",
       "      <th>4</th>\n",
       "      <td>57.0</td>\n",
       "      <td>0.0</td>\n",
       "      <td>0.0</td>\n",
       "      <td>120.0</td>\n",
       "      <td>354.0</td>\n",
       "      <td>0.0</td>\n",
       "      <td>1.0</td>\n",
       "      <td>163.0</td>\n",
       "      <td>1.0</td>\n",
       "      <td>0.6</td>\n",
       "      <td>2.0</td>\n",
       "      <td>0.0</td>\n",
       "      <td>2.0</td>\n",
       "      <td>1.0</td>\n",
       "    </tr>\n",
       "  </tbody>\n",
       "</table>\n",
       "</div>"
      ],
      "text/plain": [
       "    age  sex   cp  trestbps   chol  fbs  restecg  thalach  exang  oldpeak  \\\n",
       "0  63.0  1.0  3.0     145.0  233.0  1.0      0.0    150.0    0.0      2.3   \n",
       "1  37.0  1.0  2.0     130.0  250.0  0.0      1.0    187.0    0.0      3.5   \n",
       "2  41.0  0.0  1.0     130.0  204.0  0.0      0.0    172.0    0.0      1.4   \n",
       "3  56.0  1.0  1.0     120.0  236.0  0.0      1.0    178.0    0.0      0.8   \n",
       "4  57.0  0.0  0.0     120.0  354.0  0.0      1.0    163.0    1.0      0.6   \n",
       "\n",
       "   slope   ca  thal  target  \n",
       "0    0.0  0.0   1.0     1.0  \n",
       "1    0.0  0.0   2.0     1.0  \n",
       "2    2.0  0.0   2.0     1.0  \n",
       "3    2.0  0.0   2.0     1.0  \n",
       "4    2.0  0.0   2.0     1.0  "
      ]
     },
     "execution_count": 3,
     "metadata": {},
     "output_type": "execute_result"
    }
   ],
   "source": [
    "heart_data.head()"
   ]
  },
  {
   "cell_type": "code",
   "execution_count": 4,
   "metadata": {},
   "outputs": [
    {
     "data": {
      "text/plain": [
       "(3500, 14)"
      ]
     },
     "execution_count": 4,
     "metadata": {},
     "output_type": "execute_result"
    }
   ],
   "source": [
    "heart_data.shape"
   ]
  },
  {
   "cell_type": "code",
   "execution_count": 5,
   "metadata": {},
   "outputs": [
    {
     "name": "stdout",
     "output_type": "stream",
     "text": [
      "<class 'pandas.core.frame.DataFrame'>\n",
      "RangeIndex: 3500 entries, 0 to 3499\n",
      "Data columns (total 14 columns):\n",
      " #   Column    Non-Null Count  Dtype  \n",
      "---  ------    --------------  -----  \n",
      " 0   age       3500 non-null   float64\n",
      " 1   sex       3500 non-null   float64\n",
      " 2   cp        3500 non-null   float64\n",
      " 3   trestbps  3500 non-null   float64\n",
      " 4   chol      3500 non-null   float64\n",
      " 5   fbs       3500 non-null   float64\n",
      " 6   restecg   3500 non-null   float64\n",
      " 7   thalach   3500 non-null   float64\n",
      " 8   exang     3500 non-null   float64\n",
      " 9   oldpeak   3500 non-null   float64\n",
      " 10  slope     3500 non-null   float64\n",
      " 11  ca        3500 non-null   float64\n",
      " 12  thal      3500 non-null   float64\n",
      " 13  target    3500 non-null   float64\n",
      "dtypes: float64(14)\n",
      "memory usage: 382.9 KB\n"
     ]
    }
   ],
   "source": [
    "heart_data.info()"
   ]
  },
  {
   "cell_type": "code",
   "execution_count": 6,
   "metadata": {},
   "outputs": [
    {
     "data": {
      "text/html": [
       "<style type=\"text/css\">\n",
       "#T_503d5_row0_col0, #T_503d5_row0_col1, #T_503d5_row0_col2, #T_503d5_row0_col3, #T_503d5_row0_col4, #T_503d5_row0_col5, #T_503d5_row0_col6, #T_503d5_row0_col7, #T_503d5_row0_col8, #T_503d5_row0_col9, #T_503d5_row0_col10, #T_503d5_row0_col11, #T_503d5_row0_col12, #T_503d5_row0_col13 {\n",
       "  background-color: #fde725;\n",
       "  color: #000000;\n",
       "}\n",
       "#T_503d5_row1_col0, #T_503d5_row3_col7, #T_503d5_row5_col0, #T_503d5_row6_col0 {\n",
       "  background-color: #450559;\n",
       "  color: #f1f1f1;\n",
       "}\n",
       "#T_503d5_row1_col1, #T_503d5_row1_col2, #T_503d5_row1_col5, #T_503d5_row1_col6, #T_503d5_row1_col8, #T_503d5_row1_col9, #T_503d5_row1_col10, #T_503d5_row1_col11, #T_503d5_row1_col12, #T_503d5_row1_col13, #T_503d5_row2_col0, #T_503d5_row2_col1, #T_503d5_row2_col2, #T_503d5_row2_col3, #T_503d5_row2_col4, #T_503d5_row2_col5, #T_503d5_row2_col6, #T_503d5_row2_col7, #T_503d5_row2_col8, #T_503d5_row2_col9, #T_503d5_row2_col10, #T_503d5_row2_col11, #T_503d5_row2_col12, #T_503d5_row2_col13, #T_503d5_row3_col1, #T_503d5_row3_col2, #T_503d5_row3_col5, #T_503d5_row3_col6, #T_503d5_row3_col8, #T_503d5_row3_col9, #T_503d5_row3_col10, #T_503d5_row3_col11, #T_503d5_row3_col12, #T_503d5_row3_col13, #T_503d5_row4_col1, #T_503d5_row4_col2, #T_503d5_row4_col5, #T_503d5_row4_col6, #T_503d5_row4_col8, #T_503d5_row4_col9, #T_503d5_row4_col10, #T_503d5_row4_col11, #T_503d5_row4_col12, #T_503d5_row4_col13, #T_503d5_row5_col1, #T_503d5_row5_col2, #T_503d5_row5_col5, #T_503d5_row5_col6, #T_503d5_row5_col8, #T_503d5_row5_col9, #T_503d5_row5_col10, #T_503d5_row5_col11, #T_503d5_row5_col12, #T_503d5_row5_col13, #T_503d5_row6_col1, #T_503d5_row6_col2, #T_503d5_row6_col5, #T_503d5_row6_col6, #T_503d5_row6_col8, #T_503d5_row6_col9, #T_503d5_row6_col10, #T_503d5_row6_col11, #T_503d5_row6_col12, #T_503d5_row6_col13, #T_503d5_row7_col1, #T_503d5_row7_col2, #T_503d5_row7_col5, #T_503d5_row7_col6, #T_503d5_row7_col8, #T_503d5_row7_col9, #T_503d5_row7_col10, #T_503d5_row7_col11, #T_503d5_row7_col12, #T_503d5_row7_col13 {\n",
       "  background-color: #440154;\n",
       "  color: #f1f1f1;\n",
       "}\n",
       "#T_503d5_row1_col3, #T_503d5_row4_col7, #T_503d5_row5_col3 {\n",
       "  background-color: #470d60;\n",
       "  color: #f1f1f1;\n",
       "}\n",
       "#T_503d5_row1_col4 {\n",
       "  background-color: #481668;\n",
       "  color: #f1f1f1;\n",
       "}\n",
       "#T_503d5_row1_col7, #T_503d5_row5_col7, #T_503d5_row6_col3 {\n",
       "  background-color: #470e61;\n",
       "  color: #f1f1f1;\n",
       "}\n",
       "#T_503d5_row3_col0 {\n",
       "  background-color: #440256;\n",
       "  color: #f1f1f1;\n",
       "}\n",
       "#T_503d5_row3_col3, #T_503d5_row3_col4 {\n",
       "  background-color: #46085c;\n",
       "  color: #f1f1f1;\n",
       "}\n",
       "#T_503d5_row4_col0 {\n",
       "  background-color: #450457;\n",
       "  color: #f1f1f1;\n",
       "}\n",
       "#T_503d5_row4_col3 {\n",
       "  background-color: #460b5e;\n",
       "  color: #f1f1f1;\n",
       "}\n",
       "#T_503d5_row4_col4 {\n",
       "  background-color: #471164;\n",
       "  color: #f1f1f1;\n",
       "}\n",
       "#T_503d5_row5_col4, #T_503d5_row7_col3, #T_503d5_row7_col7 {\n",
       "  background-color: #481467;\n",
       "  color: #f1f1f1;\n",
       "}\n",
       "#T_503d5_row6_col4 {\n",
       "  background-color: #48186a;\n",
       "  color: #f1f1f1;\n",
       "}\n",
       "#T_503d5_row6_col7 {\n",
       "  background-color: #471063;\n",
       "  color: #f1f1f1;\n",
       "}\n",
       "#T_503d5_row7_col0 {\n",
       "  background-color: #46075a;\n",
       "  color: #f1f1f1;\n",
       "}\n",
       "#T_503d5_row7_col4 {\n",
       "  background-color: #46337f;\n",
       "  color: #f1f1f1;\n",
       "}\n",
       "</style>\n",
       "<table id=\"T_503d5\">\n",
       "  <thead>\n",
       "    <tr>\n",
       "      <th class=\"blank level0\" >&nbsp;</th>\n",
       "      <th id=\"T_503d5_level0_col0\" class=\"col_heading level0 col0\" >age</th>\n",
       "      <th id=\"T_503d5_level0_col1\" class=\"col_heading level0 col1\" >sex</th>\n",
       "      <th id=\"T_503d5_level0_col2\" class=\"col_heading level0 col2\" >cp</th>\n",
       "      <th id=\"T_503d5_level0_col3\" class=\"col_heading level0 col3\" >trestbps</th>\n",
       "      <th id=\"T_503d5_level0_col4\" class=\"col_heading level0 col4\" >chol</th>\n",
       "      <th id=\"T_503d5_level0_col5\" class=\"col_heading level0 col5\" >fbs</th>\n",
       "      <th id=\"T_503d5_level0_col6\" class=\"col_heading level0 col6\" >restecg</th>\n",
       "      <th id=\"T_503d5_level0_col7\" class=\"col_heading level0 col7\" >thalach</th>\n",
       "      <th id=\"T_503d5_level0_col8\" class=\"col_heading level0 col8\" >exang</th>\n",
       "      <th id=\"T_503d5_level0_col9\" class=\"col_heading level0 col9\" >oldpeak</th>\n",
       "      <th id=\"T_503d5_level0_col10\" class=\"col_heading level0 col10\" >slope</th>\n",
       "      <th id=\"T_503d5_level0_col11\" class=\"col_heading level0 col11\" >ca</th>\n",
       "      <th id=\"T_503d5_level0_col12\" class=\"col_heading level0 col12\" >thal</th>\n",
       "      <th id=\"T_503d5_level0_col13\" class=\"col_heading level0 col13\" >target</th>\n",
       "    </tr>\n",
       "  </thead>\n",
       "  <tbody>\n",
       "    <tr>\n",
       "      <th id=\"T_503d5_level0_row0\" class=\"row_heading level0 row0\" >count</th>\n",
       "      <td id=\"T_503d5_row0_col0\" class=\"data row0 col0\" >3500.000000</td>\n",
       "      <td id=\"T_503d5_row0_col1\" class=\"data row0 col1\" >3500.000000</td>\n",
       "      <td id=\"T_503d5_row0_col2\" class=\"data row0 col2\" >3500.000000</td>\n",
       "      <td id=\"T_503d5_row0_col3\" class=\"data row0 col3\" >3500.000000</td>\n",
       "      <td id=\"T_503d5_row0_col4\" class=\"data row0 col4\" >3500.000000</td>\n",
       "      <td id=\"T_503d5_row0_col5\" class=\"data row0 col5\" >3500.000000</td>\n",
       "      <td id=\"T_503d5_row0_col6\" class=\"data row0 col6\" >3500.000000</td>\n",
       "      <td id=\"T_503d5_row0_col7\" class=\"data row0 col7\" >3500.000000</td>\n",
       "      <td id=\"T_503d5_row0_col8\" class=\"data row0 col8\" >3500.000000</td>\n",
       "      <td id=\"T_503d5_row0_col9\" class=\"data row0 col9\" >3500.000000</td>\n",
       "      <td id=\"T_503d5_row0_col10\" class=\"data row0 col10\" >3500.000000</td>\n",
       "      <td id=\"T_503d5_row0_col11\" class=\"data row0 col11\" >3500.000000</td>\n",
       "      <td id=\"T_503d5_row0_col12\" class=\"data row0 col12\" >3500.000000</td>\n",
       "      <td id=\"T_503d5_row0_col13\" class=\"data row0 col13\" >3500.000000</td>\n",
       "    </tr>\n",
       "    <tr>\n",
       "      <th id=\"T_503d5_level0_row1\" class=\"row_heading level0 row1\" >mean</th>\n",
       "      <td id=\"T_503d5_row1_col0\" class=\"data row1 col0\" >54.387143</td>\n",
       "      <td id=\"T_503d5_row1_col1\" class=\"data row1 col1\" >0.684571</td>\n",
       "      <td id=\"T_503d5_row1_col2\" class=\"data row1 col2\" >0.956000</td>\n",
       "      <td id=\"T_503d5_row1_col3\" class=\"data row1 col3\" >131.607143</td>\n",
       "      <td id=\"T_503d5_row1_col4\" class=\"data row1 col4\" >246.637429</td>\n",
       "      <td id=\"T_503d5_row1_col5\" class=\"data row1 col5\" >0.145143</td>\n",
       "      <td id=\"T_503d5_row1_col6\" class=\"data row1 col6\" >0.530857</td>\n",
       "      <td id=\"T_503d5_row1_col7\" class=\"data row1 col7\" >149.477714</td>\n",
       "      <td id=\"T_503d5_row1_col8\" class=\"data row1 col8\" >0.333143</td>\n",
       "      <td id=\"T_503d5_row1_col9\" class=\"data row1 col9\" >1.045914</td>\n",
       "      <td id=\"T_503d5_row1_col10\" class=\"data row1 col10\" >1.387429</td>\n",
       "      <td id=\"T_503d5_row1_col11\" class=\"data row1 col11\" >0.737429</td>\n",
       "      <td id=\"T_503d5_row1_col12\" class=\"data row1 col12\" >2.330857</td>\n",
       "      <td id=\"T_503d5_row1_col13\" class=\"data row1 col13\" >0.535429</td>\n",
       "    </tr>\n",
       "    <tr>\n",
       "      <th id=\"T_503d5_level0_row2\" class=\"row_heading level0 row2\" >std</th>\n",
       "      <td id=\"T_503d5_row2_col0\" class=\"data row2 col0\" >9.033019</td>\n",
       "      <td id=\"T_503d5_row2_col1\" class=\"data row2 col1\" >0.464753</td>\n",
       "      <td id=\"T_503d5_row2_col2\" class=\"data row2 col2\" >1.025988</td>\n",
       "      <td id=\"T_503d5_row2_col3\" class=\"data row2 col3\" >17.492797</td>\n",
       "      <td id=\"T_503d5_row2_col4\" class=\"data row2 col4\" >53.542217</td>\n",
       "      <td id=\"T_503d5_row2_col5\" class=\"data row2 col5\" >0.352295</td>\n",
       "      <td id=\"T_503d5_row2_col6\" class=\"data row2 col6\" >0.529676</td>\n",
       "      <td id=\"T_503d5_row2_col7\" class=\"data row2 col7\" >23.176308</td>\n",
       "      <td id=\"T_503d5_row2_col8\" class=\"data row2 col8\" >0.471404</td>\n",
       "      <td id=\"T_503d5_row2_col9\" class=\"data row2 col9\" >1.184231</td>\n",
       "      <td id=\"T_503d5_row2_col10\" class=\"data row2 col10\" >0.620376</td>\n",
       "      <td id=\"T_503d5_row2_col11\" class=\"data row2 col11\" >1.032993</td>\n",
       "      <td id=\"T_503d5_row2_col12\" class=\"data row2 col12\" >0.612079</td>\n",
       "      <td id=\"T_503d5_row2_col13\" class=\"data row2 col13\" >0.498815</td>\n",
       "    </tr>\n",
       "    <tr>\n",
       "      <th id=\"T_503d5_level0_row3\" class=\"row_heading level0 row3\" >min</th>\n",
       "      <td id=\"T_503d5_row3_col0\" class=\"data row3 col0\" >29.000000</td>\n",
       "      <td id=\"T_503d5_row3_col1\" class=\"data row3 col1\" >0.000000</td>\n",
       "      <td id=\"T_503d5_row3_col2\" class=\"data row3 col2\" >0.000000</td>\n",
       "      <td id=\"T_503d5_row3_col3\" class=\"data row3 col3\" >94.000000</td>\n",
       "      <td id=\"T_503d5_row3_col4\" class=\"data row3 col4\" >126.000000</td>\n",
       "      <td id=\"T_503d5_row3_col5\" class=\"data row3 col5\" >0.000000</td>\n",
       "      <td id=\"T_503d5_row3_col6\" class=\"data row3 col6\" >0.000000</td>\n",
       "      <td id=\"T_503d5_row3_col7\" class=\"data row3 col7\" >71.000000</td>\n",
       "      <td id=\"T_503d5_row3_col8\" class=\"data row3 col8\" >0.000000</td>\n",
       "      <td id=\"T_503d5_row3_col9\" class=\"data row3 col9\" >0.000000</td>\n",
       "      <td id=\"T_503d5_row3_col10\" class=\"data row3 col10\" >0.000000</td>\n",
       "      <td id=\"T_503d5_row3_col11\" class=\"data row3 col11\" >0.000000</td>\n",
       "      <td id=\"T_503d5_row3_col12\" class=\"data row3 col12\" >0.000000</td>\n",
       "      <td id=\"T_503d5_row3_col13\" class=\"data row3 col13\" >0.000000</td>\n",
       "    </tr>\n",
       "    <tr>\n",
       "      <th id=\"T_503d5_level0_row4\" class=\"row_heading level0 row4\" >25%</th>\n",
       "      <td id=\"T_503d5_row4_col0\" class=\"data row4 col0\" >48.000000</td>\n",
       "      <td id=\"T_503d5_row4_col1\" class=\"data row4 col1\" >0.000000</td>\n",
       "      <td id=\"T_503d5_row4_col2\" class=\"data row4 col2\" >0.000000</td>\n",
       "      <td id=\"T_503d5_row4_col3\" class=\"data row4 col3\" >120.000000</td>\n",
       "      <td id=\"T_503d5_row4_col4\" class=\"data row4 col4\" >211.000000</td>\n",
       "      <td id=\"T_503d5_row4_col5\" class=\"data row4 col5\" >0.000000</td>\n",
       "      <td id=\"T_503d5_row4_col6\" class=\"data row4 col6\" >0.000000</td>\n",
       "      <td id=\"T_503d5_row4_col7\" class=\"data row4 col7\" >133.000000</td>\n",
       "      <td id=\"T_503d5_row4_col8\" class=\"data row4 col8\" >0.000000</td>\n",
       "      <td id=\"T_503d5_row4_col9\" class=\"data row4 col9\" >0.000000</td>\n",
       "      <td id=\"T_503d5_row4_col10\" class=\"data row4 col10\" >1.000000</td>\n",
       "      <td id=\"T_503d5_row4_col11\" class=\"data row4 col11\" >0.000000</td>\n",
       "      <td id=\"T_503d5_row4_col12\" class=\"data row4 col12\" >2.000000</td>\n",
       "      <td id=\"T_503d5_row4_col13\" class=\"data row4 col13\" >0.000000</td>\n",
       "    </tr>\n",
       "    <tr>\n",
       "      <th id=\"T_503d5_level0_row5\" class=\"row_heading level0 row5\" >50%</th>\n",
       "      <td id=\"T_503d5_row5_col0\" class=\"data row5 col0\" >55.000000</td>\n",
       "      <td id=\"T_503d5_row5_col1\" class=\"data row5 col1\" >1.000000</td>\n",
       "      <td id=\"T_503d5_row5_col2\" class=\"data row5 col2\" >1.000000</td>\n",
       "      <td id=\"T_503d5_row5_col3\" class=\"data row5 col3\" >130.000000</td>\n",
       "      <td id=\"T_503d5_row5_col4\" class=\"data row5 col4\" >240.000000</td>\n",
       "      <td id=\"T_503d5_row5_col5\" class=\"data row5 col5\" >0.000000</td>\n",
       "      <td id=\"T_503d5_row5_col6\" class=\"data row5 col6\" >1.000000</td>\n",
       "      <td id=\"T_503d5_row5_col7\" class=\"data row5 col7\" >153.000000</td>\n",
       "      <td id=\"T_503d5_row5_col8\" class=\"data row5 col8\" >0.000000</td>\n",
       "      <td id=\"T_503d5_row5_col9\" class=\"data row5 col9\" >0.800000</td>\n",
       "      <td id=\"T_503d5_row5_col10\" class=\"data row5 col10\" >1.000000</td>\n",
       "      <td id=\"T_503d5_row5_col11\" class=\"data row5 col11\" >0.000000</td>\n",
       "      <td id=\"T_503d5_row5_col12\" class=\"data row5 col12\" >2.000000</td>\n",
       "      <td id=\"T_503d5_row5_col13\" class=\"data row5 col13\" >1.000000</td>\n",
       "    </tr>\n",
       "    <tr>\n",
       "      <th id=\"T_503d5_level0_row6\" class=\"row_heading level0 row6\" >75%</th>\n",
       "      <td id=\"T_503d5_row6_col0\" class=\"data row6 col0\" >61.000000</td>\n",
       "      <td id=\"T_503d5_row6_col1\" class=\"data row6 col1\" >1.000000</td>\n",
       "      <td id=\"T_503d5_row6_col2\" class=\"data row6 col2\" >2.000000</td>\n",
       "      <td id=\"T_503d5_row6_col3\" class=\"data row6 col3\" >140.000000</td>\n",
       "      <td id=\"T_503d5_row6_col4\" class=\"data row6 col4\" >274.000000</td>\n",
       "      <td id=\"T_503d5_row6_col5\" class=\"data row6 col5\" >0.000000</td>\n",
       "      <td id=\"T_503d5_row6_col6\" class=\"data row6 col6\" >1.000000</td>\n",
       "      <td id=\"T_503d5_row6_col7\" class=\"data row6 col7\" >166.000000</td>\n",
       "      <td id=\"T_503d5_row6_col8\" class=\"data row6 col8\" >1.000000</td>\n",
       "      <td id=\"T_503d5_row6_col9\" class=\"data row6 col9\" >1.600000</td>\n",
       "      <td id=\"T_503d5_row6_col10\" class=\"data row6 col10\" >2.000000</td>\n",
       "      <td id=\"T_503d5_row6_col11\" class=\"data row6 col11\" >1.000000</td>\n",
       "      <td id=\"T_503d5_row6_col12\" class=\"data row6 col12\" >3.000000</td>\n",
       "      <td id=\"T_503d5_row6_col13\" class=\"data row6 col13\" >1.000000</td>\n",
       "    </tr>\n",
       "    <tr>\n",
       "      <th id=\"T_503d5_level0_row7\" class=\"row_heading level0 row7\" >max</th>\n",
       "      <td id=\"T_503d5_row7_col0\" class=\"data row7 col0\" >77.000000</td>\n",
       "      <td id=\"T_503d5_row7_col1\" class=\"data row7 col1\" >1.000000</td>\n",
       "      <td id=\"T_503d5_row7_col2\" class=\"data row7 col2\" >3.000000</td>\n",
       "      <td id=\"T_503d5_row7_col3\" class=\"data row7 col3\" >200.000000</td>\n",
       "      <td id=\"T_503d5_row7_col4\" class=\"data row7 col4\" >564.000000</td>\n",
       "      <td id=\"T_503d5_row7_col5\" class=\"data row7 col5\" >1.000000</td>\n",
       "      <td id=\"T_503d5_row7_col6\" class=\"data row7 col6\" >2.000000</td>\n",
       "      <td id=\"T_503d5_row7_col7\" class=\"data row7 col7\" >202.000000</td>\n",
       "      <td id=\"T_503d5_row7_col8\" class=\"data row7 col8\" >1.000000</td>\n",
       "      <td id=\"T_503d5_row7_col9\" class=\"data row7 col9\" >6.200000</td>\n",
       "      <td id=\"T_503d5_row7_col10\" class=\"data row7 col10\" >2.000000</td>\n",
       "      <td id=\"T_503d5_row7_col11\" class=\"data row7 col11\" >4.000000</td>\n",
       "      <td id=\"T_503d5_row7_col12\" class=\"data row7 col12\" >3.000000</td>\n",
       "      <td id=\"T_503d5_row7_col13\" class=\"data row7 col13\" >1.000000</td>\n",
       "    </tr>\n",
       "  </tbody>\n",
       "</table>\n"
      ],
      "text/plain": [
       "<pandas.io.formats.style.Styler at 0x14fe6a7d6a0>"
      ]
     },
     "execution_count": 6,
     "metadata": {},
     "output_type": "execute_result"
    }
   ],
   "source": [
    "heart_data.describe().style.background_gradient(cmap='viridis')"
   ]
  },
  {
   "cell_type": "code",
   "execution_count": 7,
   "metadata": {},
   "outputs": [
    {
     "data": {
      "text/plain": [
       "age         0\n",
       "sex         0\n",
       "cp          0\n",
       "trestbps    0\n",
       "chol        0\n",
       "fbs         0\n",
       "restecg     0\n",
       "thalach     0\n",
       "exang       0\n",
       "oldpeak     0\n",
       "slope       0\n",
       "ca          0\n",
       "thal        0\n",
       "target      0\n",
       "dtype: int64"
      ]
     },
     "execution_count": 7,
     "metadata": {},
     "output_type": "execute_result"
    }
   ],
   "source": [
    "heart_data.isnull().sum()"
   ]
  },
  {
   "cell_type": "markdown",
   "metadata": {
    "id": "aSOBu4qDtJy5"
   },
   "source": [
    "1 --> Defective Heart\n",
    "\n",
    "0 --> Healthy Heart"
   ]
  },
  {
   "cell_type": "markdown",
   "metadata": {},
   "source": [
    "## Exploratory Data Analysis (EDA)"
   ]
  },
  {
   "cell_type": "code",
   "execution_count": 8,
   "metadata": {},
   "outputs": [],
   "source": [
    "import matplotlib.pyplot as plt\n",
    "import seaborn as sns\n",
    "import plotly.graph_objects as go\n",
    "import plotly.express as px"
   ]
  },
  {
   "cell_type": "code",
   "execution_count": 9,
   "metadata": {},
   "outputs": [
    {
     "data": {
      "application/vnd.plotly.v1+json": {
       "config": {
        "plotlyServerURL": "https://plot.ly"
       },
       "data": [
        {
         "domain": {
          "x": [
           0,
           1
          ],
          "y": [
           0,
           1
          ]
         },
         "hovertemplate": "target=%{label}<br>value=%{value}<extra></extra>",
         "labels": [
          1,
          0
         ],
         "legendgroup": "",
         "marker": {
          "line": {
           "color": "white",
           "width": 2
          }
         },
         "name": "",
         "showlegend": true,
         "textinfo": "percent+label",
         "textposition": "inside",
         "type": "pie",
         "values": [
          1874,
          1626
         ]
        }
       ],
       "layout": {
        "legend": {
         "tracegroupgap": 0
        },
        "margin": {
         "t": 60
        },
        "piecolorway": [
         "rgb(103,0,31)",
         "rgb(178,24,43)",
         "rgb(214,96,77)",
         "rgb(244,165,130)",
         "rgb(253,219,199)",
         "rgb(247,247,247)",
         "rgb(209,229,240)",
         "rgb(146,197,222)",
         "rgb(67,147,195)",
         "rgb(33,102,172)",
         "rgb(5,48,97)"
        ],
        "template": {
         "data": {
          "bar": [
           {
            "error_x": {
             "color": "#2a3f5f"
            },
            "error_y": {
             "color": "#2a3f5f"
            },
            "marker": {
             "line": {
              "color": "#E5ECF6",
              "width": 0.5
             },
             "pattern": {
              "fillmode": "overlay",
              "size": 10,
              "solidity": 0.2
             }
            },
            "type": "bar"
           }
          ],
          "barpolar": [
           {
            "marker": {
             "line": {
              "color": "#E5ECF6",
              "width": 0.5
             },
             "pattern": {
              "fillmode": "overlay",
              "size": 10,
              "solidity": 0.2
             }
            },
            "type": "barpolar"
           }
          ],
          "carpet": [
           {
            "aaxis": {
             "endlinecolor": "#2a3f5f",
             "gridcolor": "white",
             "linecolor": "white",
             "minorgridcolor": "white",
             "startlinecolor": "#2a3f5f"
            },
            "baxis": {
             "endlinecolor": "#2a3f5f",
             "gridcolor": "white",
             "linecolor": "white",
             "minorgridcolor": "white",
             "startlinecolor": "#2a3f5f"
            },
            "type": "carpet"
           }
          ],
          "choropleth": [
           {
            "colorbar": {
             "outlinewidth": 0,
             "ticks": ""
            },
            "type": "choropleth"
           }
          ],
          "contour": [
           {
            "colorbar": {
             "outlinewidth": 0,
             "ticks": ""
            },
            "colorscale": [
             [
              0,
              "#0d0887"
             ],
             [
              0.1111111111111111,
              "#46039f"
             ],
             [
              0.2222222222222222,
              "#7201a8"
             ],
             [
              0.3333333333333333,
              "#9c179e"
             ],
             [
              0.4444444444444444,
              "#bd3786"
             ],
             [
              0.5555555555555556,
              "#d8576b"
             ],
             [
              0.6666666666666666,
              "#ed7953"
             ],
             [
              0.7777777777777778,
              "#fb9f3a"
             ],
             [
              0.8888888888888888,
              "#fdca26"
             ],
             [
              1,
              "#f0f921"
             ]
            ],
            "type": "contour"
           }
          ],
          "contourcarpet": [
           {
            "colorbar": {
             "outlinewidth": 0,
             "ticks": ""
            },
            "type": "contourcarpet"
           }
          ],
          "heatmap": [
           {
            "colorbar": {
             "outlinewidth": 0,
             "ticks": ""
            },
            "colorscale": [
             [
              0,
              "#0d0887"
             ],
             [
              0.1111111111111111,
              "#46039f"
             ],
             [
              0.2222222222222222,
              "#7201a8"
             ],
             [
              0.3333333333333333,
              "#9c179e"
             ],
             [
              0.4444444444444444,
              "#bd3786"
             ],
             [
              0.5555555555555556,
              "#d8576b"
             ],
             [
              0.6666666666666666,
              "#ed7953"
             ],
             [
              0.7777777777777778,
              "#fb9f3a"
             ],
             [
              0.8888888888888888,
              "#fdca26"
             ],
             [
              1,
              "#f0f921"
             ]
            ],
            "type": "heatmap"
           }
          ],
          "heatmapgl": [
           {
            "colorbar": {
             "outlinewidth": 0,
             "ticks": ""
            },
            "colorscale": [
             [
              0,
              "#0d0887"
             ],
             [
              0.1111111111111111,
              "#46039f"
             ],
             [
              0.2222222222222222,
              "#7201a8"
             ],
             [
              0.3333333333333333,
              "#9c179e"
             ],
             [
              0.4444444444444444,
              "#bd3786"
             ],
             [
              0.5555555555555556,
              "#d8576b"
             ],
             [
              0.6666666666666666,
              "#ed7953"
             ],
             [
              0.7777777777777778,
              "#fb9f3a"
             ],
             [
              0.8888888888888888,
              "#fdca26"
             ],
             [
              1,
              "#f0f921"
             ]
            ],
            "type": "heatmapgl"
           }
          ],
          "histogram": [
           {
            "marker": {
             "pattern": {
              "fillmode": "overlay",
              "size": 10,
              "solidity": 0.2
             }
            },
            "type": "histogram"
           }
          ],
          "histogram2d": [
           {
            "colorbar": {
             "outlinewidth": 0,
             "ticks": ""
            },
            "colorscale": [
             [
              0,
              "#0d0887"
             ],
             [
              0.1111111111111111,
              "#46039f"
             ],
             [
              0.2222222222222222,
              "#7201a8"
             ],
             [
              0.3333333333333333,
              "#9c179e"
             ],
             [
              0.4444444444444444,
              "#bd3786"
             ],
             [
              0.5555555555555556,
              "#d8576b"
             ],
             [
              0.6666666666666666,
              "#ed7953"
             ],
             [
              0.7777777777777778,
              "#fb9f3a"
             ],
             [
              0.8888888888888888,
              "#fdca26"
             ],
             [
              1,
              "#f0f921"
             ]
            ],
            "type": "histogram2d"
           }
          ],
          "histogram2dcontour": [
           {
            "colorbar": {
             "outlinewidth": 0,
             "ticks": ""
            },
            "colorscale": [
             [
              0,
              "#0d0887"
             ],
             [
              0.1111111111111111,
              "#46039f"
             ],
             [
              0.2222222222222222,
              "#7201a8"
             ],
             [
              0.3333333333333333,
              "#9c179e"
             ],
             [
              0.4444444444444444,
              "#bd3786"
             ],
             [
              0.5555555555555556,
              "#d8576b"
             ],
             [
              0.6666666666666666,
              "#ed7953"
             ],
             [
              0.7777777777777778,
              "#fb9f3a"
             ],
             [
              0.8888888888888888,
              "#fdca26"
             ],
             [
              1,
              "#f0f921"
             ]
            ],
            "type": "histogram2dcontour"
           }
          ],
          "mesh3d": [
           {
            "colorbar": {
             "outlinewidth": 0,
             "ticks": ""
            },
            "type": "mesh3d"
           }
          ],
          "parcoords": [
           {
            "line": {
             "colorbar": {
              "outlinewidth": 0,
              "ticks": ""
             }
            },
            "type": "parcoords"
           }
          ],
          "pie": [
           {
            "automargin": true,
            "type": "pie"
           }
          ],
          "scatter": [
           {
            "fillpattern": {
             "fillmode": "overlay",
             "size": 10,
             "solidity": 0.2
            },
            "type": "scatter"
           }
          ],
          "scatter3d": [
           {
            "line": {
             "colorbar": {
              "outlinewidth": 0,
              "ticks": ""
             }
            },
            "marker": {
             "colorbar": {
              "outlinewidth": 0,
              "ticks": ""
             }
            },
            "type": "scatter3d"
           }
          ],
          "scattercarpet": [
           {
            "marker": {
             "colorbar": {
              "outlinewidth": 0,
              "ticks": ""
             }
            },
            "type": "scattercarpet"
           }
          ],
          "scattergeo": [
           {
            "marker": {
             "colorbar": {
              "outlinewidth": 0,
              "ticks": ""
             }
            },
            "type": "scattergeo"
           }
          ],
          "scattergl": [
           {
            "marker": {
             "colorbar": {
              "outlinewidth": 0,
              "ticks": ""
             }
            },
            "type": "scattergl"
           }
          ],
          "scattermapbox": [
           {
            "marker": {
             "colorbar": {
              "outlinewidth": 0,
              "ticks": ""
             }
            },
            "type": "scattermapbox"
           }
          ],
          "scatterpolar": [
           {
            "marker": {
             "colorbar": {
              "outlinewidth": 0,
              "ticks": ""
             }
            },
            "type": "scatterpolar"
           }
          ],
          "scatterpolargl": [
           {
            "marker": {
             "colorbar": {
              "outlinewidth": 0,
              "ticks": ""
             }
            },
            "type": "scatterpolargl"
           }
          ],
          "scatterternary": [
           {
            "marker": {
             "colorbar": {
              "outlinewidth": 0,
              "ticks": ""
             }
            },
            "type": "scatterternary"
           }
          ],
          "surface": [
           {
            "colorbar": {
             "outlinewidth": 0,
             "ticks": ""
            },
            "colorscale": [
             [
              0,
              "#0d0887"
             ],
             [
              0.1111111111111111,
              "#46039f"
             ],
             [
              0.2222222222222222,
              "#7201a8"
             ],
             [
              0.3333333333333333,
              "#9c179e"
             ],
             [
              0.4444444444444444,
              "#bd3786"
             ],
             [
              0.5555555555555556,
              "#d8576b"
             ],
             [
              0.6666666666666666,
              "#ed7953"
             ],
             [
              0.7777777777777778,
              "#fb9f3a"
             ],
             [
              0.8888888888888888,
              "#fdca26"
             ],
             [
              1,
              "#f0f921"
             ]
            ],
            "type": "surface"
           }
          ],
          "table": [
           {
            "cells": {
             "fill": {
              "color": "#EBF0F8"
             },
             "line": {
              "color": "white"
             }
            },
            "header": {
             "fill": {
              "color": "#C8D4E3"
             },
             "line": {
              "color": "white"
             }
            },
            "type": "table"
           }
          ]
         },
         "layout": {
          "annotationdefaults": {
           "arrowcolor": "#2a3f5f",
           "arrowhead": 0,
           "arrowwidth": 1
          },
          "autotypenumbers": "strict",
          "coloraxis": {
           "colorbar": {
            "outlinewidth": 0,
            "ticks": ""
           }
          },
          "colorscale": {
           "diverging": [
            [
             0,
             "#8e0152"
            ],
            [
             0.1,
             "#c51b7d"
            ],
            [
             0.2,
             "#de77ae"
            ],
            [
             0.3,
             "#f1b6da"
            ],
            [
             0.4,
             "#fde0ef"
            ],
            [
             0.5,
             "#f7f7f7"
            ],
            [
             0.6,
             "#e6f5d0"
            ],
            [
             0.7,
             "#b8e186"
            ],
            [
             0.8,
             "#7fbc41"
            ],
            [
             0.9,
             "#4d9221"
            ],
            [
             1,
             "#276419"
            ]
           ],
           "sequential": [
            [
             0,
             "#0d0887"
            ],
            [
             0.1111111111111111,
             "#46039f"
            ],
            [
             0.2222222222222222,
             "#7201a8"
            ],
            [
             0.3333333333333333,
             "#9c179e"
            ],
            [
             0.4444444444444444,
             "#bd3786"
            ],
            [
             0.5555555555555556,
             "#d8576b"
            ],
            [
             0.6666666666666666,
             "#ed7953"
            ],
            [
             0.7777777777777778,
             "#fb9f3a"
            ],
            [
             0.8888888888888888,
             "#fdca26"
            ],
            [
             1,
             "#f0f921"
            ]
           ],
           "sequentialminus": [
            [
             0,
             "#0d0887"
            ],
            [
             0.1111111111111111,
             "#46039f"
            ],
            [
             0.2222222222222222,
             "#7201a8"
            ],
            [
             0.3333333333333333,
             "#9c179e"
            ],
            [
             0.4444444444444444,
             "#bd3786"
            ],
            [
             0.5555555555555556,
             "#d8576b"
            ],
            [
             0.6666666666666666,
             "#ed7953"
            ],
            [
             0.7777777777777778,
             "#fb9f3a"
            ],
            [
             0.8888888888888888,
             "#fdca26"
            ],
            [
             1,
             "#f0f921"
            ]
           ]
          },
          "colorway": [
           "#636efa",
           "#EF553B",
           "#00cc96",
           "#ab63fa",
           "#FFA15A",
           "#19d3f3",
           "#FF6692",
           "#B6E880",
           "#FF97FF",
           "#FECB52"
          ],
          "font": {
           "color": "#2a3f5f"
          },
          "geo": {
           "bgcolor": "white",
           "lakecolor": "white",
           "landcolor": "#E5ECF6",
           "showlakes": true,
           "showland": true,
           "subunitcolor": "white"
          },
          "hoverlabel": {
           "align": "left"
          },
          "hovermode": "closest",
          "mapbox": {
           "style": "light"
          },
          "paper_bgcolor": "white",
          "plot_bgcolor": "#E5ECF6",
          "polar": {
           "angularaxis": {
            "gridcolor": "white",
            "linecolor": "white",
            "ticks": ""
           },
           "bgcolor": "#E5ECF6",
           "radialaxis": {
            "gridcolor": "white",
            "linecolor": "white",
            "ticks": ""
           }
          },
          "scene": {
           "xaxis": {
            "backgroundcolor": "#E5ECF6",
            "gridcolor": "white",
            "gridwidth": 2,
            "linecolor": "white",
            "showbackground": true,
            "ticks": "",
            "zerolinecolor": "white"
           },
           "yaxis": {
            "backgroundcolor": "#E5ECF6",
            "gridcolor": "white",
            "gridwidth": 2,
            "linecolor": "white",
            "showbackground": true,
            "ticks": "",
            "zerolinecolor": "white"
           },
           "zaxis": {
            "backgroundcolor": "#E5ECF6",
            "gridcolor": "white",
            "gridwidth": 2,
            "linecolor": "white",
            "showbackground": true,
            "ticks": "",
            "zerolinecolor": "white"
           }
          },
          "shapedefaults": {
           "line": {
            "color": "#2a3f5f"
           }
          },
          "ternary": {
           "aaxis": {
            "gridcolor": "white",
            "linecolor": "white",
            "ticks": ""
           },
           "baxis": {
            "gridcolor": "white",
            "linecolor": "white",
            "ticks": ""
           },
           "bgcolor": "#E5ECF6",
           "caxis": {
            "gridcolor": "white",
            "linecolor": "white",
            "ticks": ""
           }
          },
          "title": {
           "x": 0.05
          },
          "xaxis": {
           "automargin": true,
           "gridcolor": "white",
           "linecolor": "white",
           "ticks": "",
           "title": {
            "standoff": 15
           },
           "zerolinecolor": "white",
           "zerolinewidth": 2
          },
          "yaxis": {
           "automargin": true,
           "gridcolor": "white",
           "linecolor": "white",
           "ticks": "",
           "title": {
            "standoff": 15
           },
           "zerolinecolor": "white",
           "zerolinewidth": 2
          }
         }
        }
       }
      }
     },
     "metadata": {},
     "output_type": "display_data"
    }
   ],
   "source": [
    "target_counts = heart_data['target'].value_counts()\n",
    "\n",
    "fig = px.pie(target_counts, \n",
    "             values=target_counts.values, \n",
    "             names=target_counts.index, \n",
    "             color_discrete_sequence=px.colors.sequential.RdBu)\n",
    "\n",
    "fig.update_traces(textposition='inside', \n",
    "                  textinfo='percent+label', \n",
    "                  marker=dict(line=dict(color='white', width=2)))\n",
    "\n",
    "fig.show()\n"
   ]
  },
  {
   "cell_type": "code",
   "execution_count": 10,
   "metadata": {},
   "outputs": [
    {
     "data": {
      "image/png": "[encoded data removed]",
      "text/plain": [
       "<Figure size 1200x500 with 1 Axes>"
      ]
     },
     "metadata": {},
     "output_type": "display_data"
    }
   ],
   "source": [
    "plt.figure(figsize=(12, 5))\n",
    "sns.histplot(heart_data['age'], bins=20, kde=True, color='blue')\n",
    "plt.title('Distribution of Age')\n",
    "plt.xlabel('Age')\n",
    "plt.ylabel('Frequency')\n",
    "plt.show()"
   ]
  },
  {
   "cell_type": "code",
   "execution_count": 11,
   "metadata": {},
   "outputs": [
    {
     "data": {
      "image/png": "[encoded data removed]",
      "text/plain": [
       "<Figure size 1000x600 with 2 Axes>"
      ]
     },
     "metadata": {},
     "output_type": "display_data"
    }
   ],
   "source": [
    "corr_matrix = heart_data.corr()\n",
    "\n",
    "plt.figure(figsize=(10, 6))\n",
    "sns.heatmap(corr_matrix, annot=True, cmap='coolwarm', fmt='.2f', linewidths=0.5)\n",
    "plt.title('Heatmap of Feature Correlations')\n",
    "plt.show()\n"
   ]
  },
  {
   "cell_type": "markdown",
   "metadata": {
    "id": "tW8i4igjtPRC"
   },
   "source": [
    "## Splitting the Features and Target"
   ]
  },
  {
   "cell_type": "code",
   "execution_count": 12,
   "metadata": {},
   "outputs": [],
   "source": [
    "Features =heart_data.drop(columns='target',axis=1)\n",
    "Target =heart_data['target']"
   ]
  },
  {
   "cell_type": "code",
   "execution_count": 13,
   "metadata": {},
   "outputs": [
    {
     "data": {
      "text/html": [
       "<div>\n",
       "<style scoped>\n",
       "    .dataframe tbody tr th:only-of-type {\n",
       "        vertical-align: middle;\n",
       "    }\n",
       "\n",
       "    .dataframe tbody tr th {\n",
       "        vertical-align: top;\n",
       "    }\n",
       "\n",
       "    .dataframe thead th {\n",
       "        text-align: right;\n",
       "    }\n",
       "</style>\n",
       "<table border=\"1\" class=\"dataframe\">\n",
       "  <thead>\n",
       "    <tr style=\"text-align: right;\">\n",
       "      <th></th>\n",
       "      <th>age</th>\n",
       "      <th>sex</th>\n",
       "      <th>cp</th>\n",
       "      <th>trestbps</th>\n",
       "      <th>chol</th>\n",
       "      <th>fbs</th>\n",
       "      <th>restecg</th>\n",
       "      <th>thalach</th>\n",
       "      <th>exang</th>\n",
       "      <th>oldpeak</th>\n",
       "      <th>slope</th>\n",
       "      <th>ca</th>\n",
       "      <th>thal</th>\n",
       "    </tr>\n",
       "  </thead>\n",
       "  <tbody>\n",
       "    <tr>\n",
       "      <th>0</th>\n",
       "      <td>63.0</td>\n",
       "      <td>1.0</td>\n",
       "      <td>3.0</td>\n",
       "      <td>145.0</td>\n",
       "      <td>233.0</td>\n",
       "      <td>1.0</td>\n",
       "      <td>0.0</td>\n",
       "      <td>150.0</td>\n",
       "      <td>0.0</td>\n",
       "      <td>2.3</td>\n",
       "      <td>0.0</td>\n",
       "      <td>0.0</td>\n",
       "      <td>1.0</td>\n",
       "    </tr>\n",
       "    <tr>\n",
       "      <th>1</th>\n",
       "      <td>37.0</td>\n",
       "      <td>1.0</td>\n",
       "      <td>2.0</td>\n",
       "      <td>130.0</td>\n",
       "      <td>250.0</td>\n",
       "      <td>0.0</td>\n",
       "      <td>1.0</td>\n",
       "      <td>187.0</td>\n",
       "      <td>0.0</td>\n",
       "      <td>3.5</td>\n",
       "      <td>0.0</td>\n",
       "      <td>0.0</td>\n",
       "      <td>2.0</td>\n",
       "    </tr>\n",
       "    <tr>\n",
       "      <th>2</th>\n",
       "      <td>41.0</td>\n",
       "      <td>0.0</td>\n",
       "      <td>1.0</td>\n",
       "      <td>130.0</td>\n",
       "      <td>204.0</td>\n",
       "      <td>0.0</td>\n",
       "      <td>0.0</td>\n",
       "      <td>172.0</td>\n",
       "      <td>0.0</td>\n",
       "      <td>1.4</td>\n",
       "      <td>2.0</td>\n",
       "      <td>0.0</td>\n",
       "      <td>2.0</td>\n",
       "    </tr>\n",
       "    <tr>\n",
       "      <th>3</th>\n",
       "      <td>56.0</td>\n",
       "      <td>1.0</td>\n",
       "      <td>1.0</td>\n",
       "      <td>120.0</td>\n",
       "      <td>236.0</td>\n",
       "      <td>0.0</td>\n",
       "      <td>1.0</td>\n",
       "      <td>178.0</td>\n",
       "      <td>0.0</td>\n",
       "      <td>0.8</td>\n",
       "      <td>2.0</td>\n",
       "      <td>0.0</td>\n",
       "      <td>2.0</td>\n",
       "    </tr>\n",
       "    <tr>\n",
       "      <th>4</th>\n",
       "      <td>57.0</td>\n",
       "      <td>0.0</td>\n",
       "      <td>0.0</td>\n",
       "      <td>120.0</td>\n",
       "      <td>354.0</td>\n",
       "      <td>0.0</td>\n",
       "      <td>1.0</td>\n",
       "      <td>163.0</td>\n",
       "      <td>1.0</td>\n",
       "      <td>0.6</td>\n",
       "      <td>2.0</td>\n",
       "      <td>0.0</td>\n",
       "      <td>2.0</td>\n",
       "    </tr>\n",
       "    <tr>\n",
       "      <th>...</th>\n",
       "      <td>...</td>\n",
       "      <td>...</td>\n",
       "      <td>...</td>\n",
       "      <td>...</td>\n",
       "      <td>...</td>\n",
       "      <td>...</td>\n",
       "      <td>...</td>\n",
       "      <td>...</td>\n",
       "      <td>...</td>\n",
       "      <td>...</td>\n",
       "      <td>...</td>\n",
       "      <td>...</td>\n",
       "      <td>...</td>\n",
       "    </tr>\n",
       "    <tr>\n",
       "      <th>3495</th>\n",
       "      <td>44.0</td>\n",
       "      <td>1.0</td>\n",
       "      <td>1.0</td>\n",
       "      <td>120.0</td>\n",
       "      <td>263.0</td>\n",
       "      <td>0.0</td>\n",
       "      <td>1.0</td>\n",
       "      <td>173.0</td>\n",
       "      <td>0.0</td>\n",
       "      <td>0.0</td>\n",
       "      <td>2.0</td>\n",
       "      <td>0.0</td>\n",
       "      <td>3.0</td>\n",
       "    </tr>\n",
       "    <tr>\n",
       "      <th>3496</th>\n",
       "      <td>59.0</td>\n",
       "      <td>0.0</td>\n",
       "      <td>0.0</td>\n",
       "      <td>174.0</td>\n",
       "      <td>249.0</td>\n",
       "      <td>0.0</td>\n",
       "      <td>1.0</td>\n",
       "      <td>143.0</td>\n",
       "      <td>1.0</td>\n",
       "      <td>0.0</td>\n",
       "      <td>1.0</td>\n",
       "      <td>0.0</td>\n",
       "      <td>2.0</td>\n",
       "    </tr>\n",
       "    <tr>\n",
       "      <th>3497</th>\n",
       "      <td>61.0</td>\n",
       "      <td>1.0</td>\n",
       "      <td>0.0</td>\n",
       "      <td>148.0</td>\n",
       "      <td>203.0</td>\n",
       "      <td>0.0</td>\n",
       "      <td>1.0</td>\n",
       "      <td>161.0</td>\n",
       "      <td>0.0</td>\n",
       "      <td>0.0</td>\n",
       "      <td>2.0</td>\n",
       "      <td>1.0</td>\n",
       "      <td>3.0</td>\n",
       "    </tr>\n",
       "    <tr>\n",
       "      <th>3498</th>\n",
       "      <td>54.0</td>\n",
       "      <td>1.0</td>\n",
       "      <td>1.0</td>\n",
       "      <td>192.0</td>\n",
       "      <td>283.0</td>\n",
       "      <td>0.0</td>\n",
       "      <td>0.0</td>\n",
       "      <td>195.0</td>\n",
       "      <td>0.0</td>\n",
       "      <td>0.0</td>\n",
       "      <td>2.0</td>\n",
       "      <td>1.0</td>\n",
       "      <td>3.0</td>\n",
       "    </tr>\n",
       "    <tr>\n",
       "      <th>3499</th>\n",
       "      <td>60.0</td>\n",
       "      <td>1.0</td>\n",
       "      <td>0.0</td>\n",
       "      <td>125.0</td>\n",
       "      <td>258.0</td>\n",
       "      <td>0.0</td>\n",
       "      <td>0.0</td>\n",
       "      <td>141.0</td>\n",
       "      <td>1.0</td>\n",
       "      <td>2.8</td>\n",
       "      <td>1.0</td>\n",
       "      <td>1.0</td>\n",
       "      <td>3.0</td>\n",
       "    </tr>\n",
       "  </tbody>\n",
       "</table>\n",
       "<p>3500 rows × 13 columns</p>\n",
       "</div>"
      ],
      "text/plain": [
       "       age  sex   cp  trestbps   chol  fbs  restecg  thalach  exang  oldpeak  \\\n",
       "0     63.0  1.0  3.0     145.0  233.0  1.0      0.0    150.0    0.0      2.3   \n",
       "1     37.0  1.0  2.0     130.0  250.0  0.0      1.0    187.0    0.0      3.5   \n",
       "2     41.0  0.0  1.0     130.0  204.0  0.0      0.0    172.0    0.0      1.4   \n",
       "3     56.0  1.0  1.0     120.0  236.0  0.0      1.0    178.0    0.0      0.8   \n",
       "4     57.0  0.0  0.0     120.0  354.0  0.0      1.0    163.0    1.0      0.6   \n",
       "...    ...  ...  ...       ...    ...  ...      ...      ...    ...      ...   \n",
       "3495  44.0  1.0  1.0     120.0  263.0  0.0      1.0    173.0    0.0      0.0   \n",
       "3496  59.0  0.0  0.0     174.0  249.0  0.0      1.0    143.0    1.0      0.0   \n",
       "3497  61.0  1.0  0.0     148.0  203.0  0.0      1.0    161.0    0.0      0.0   \n",
       "3498  54.0  1.0  1.0     192.0  283.0  0.0      0.0    195.0    0.0      0.0   \n",
       "3499  60.0  1.0  0.0     125.0  258.0  0.0      0.0    141.0    1.0      2.8   \n",
       "\n",
       "      slope   ca  thal  \n",
       "0       0.0  0.0   1.0  \n",
       "1       0.0  0.0   2.0  \n",
       "2       2.0  0.0   2.0  \n",
       "3       2.0  0.0   2.0  \n",
       "4       2.0  0.0   2.0  \n",
       "...     ...  ...   ...  \n",
       "3495    2.0  0.0   3.0  \n",
       "3496    1.0  0.0   2.0  \n",
       "3497    2.0  1.0   3.0  \n",
       "3498    2.0  1.0   3.0  \n",
       "3499    1.0  1.0   3.0  \n",
       "\n",
       "[3500 rows x 13 columns]"
      ]
     },
     "execution_count": 13,
     "metadata": {},
     "output_type": "execute_result"
    }
   ],
   "source": [
    "Features"
   ]
  },
  {
   "cell_type": "code",
   "execution_count": 14,
   "metadata": {},
   "outputs": [
    {
     "data": {
      "text/plain": [
       "0       1.0\n",
       "1       1.0\n",
       "2       1.0\n",
       "3       1.0\n",
       "4       1.0\n",
       "       ... \n",
       "3495    1.0\n",
       "3496    0.0\n",
       "3497    0.0\n",
       "3498    0.0\n",
       "3499    0.0\n",
       "Name: target, Length: 3500, dtype: float64"
      ]
     },
     "execution_count": 14,
     "metadata": {},
     "output_type": "execute_result"
    }
   ],
   "source": [
    "Target"
   ]
  },
  {
   "cell_type": "code",
   "execution_count": 15,
   "metadata": {},
   "outputs": [],
   "source": [
    "from sklearn.model_selection import GridSearchCV,train_test_split\n",
    "import xgboost as xgb\n",
    "from sklearn.metrics import classification_report"
   ]
  },
  {
   "cell_type": "markdown",
   "metadata": {
    "id": "_EcjSE3Et18n"
   },
   "source": [
    "## Splitting the Data into Training data & Test Data"
   ]
  },
  {
   "cell_type": "code",
   "execution_count": 16,
   "metadata": {},
   "outputs": [],
   "source": [
    "X_train,X_test,y_train,y_test=train_test_split(Features,Target,test_size=0.2,random_state=42,stratify=Target)"
   ]
  },
  {
   "cell_type": "markdown",
   "metadata": {
    "id": "beSkZmpVuvn9"
   },
   "source": [
    "##  Define XGBoost classifier\n"
   ]
  },
  {
   "cell_type": "code",
   "execution_count": 17,
   "metadata": {},
   "outputs": [],
   "source": [
    "xgb_clf=xgb.XGBClassifier(use_label_encoder=False, eval_metric='logloss')"
   ]
  },
  {
   "cell_type": "markdown",
   "metadata": {
    "id": "gi2NOWZjuxzw"
   },
   "source": [
    "## Hyperparameter tuning using GridSearchCV\n"
   ]
  },
  {
   "cell_type": "code",
   "execution_count": 18,
   "metadata": {},
   "outputs": [
    {
     "name": "stdout",
     "output_type": "stream",
     "text": [
      "Best Parameters: {'learning_rate': 0.02, 'max_depth': 4, 'min_child_weight': 5, 'n_estimators': 125, 'reg_alpha': 0.5, 'reg_lambda': 2.0, 'subsample': 0.8}\n"
     ]
    },
    {
     "name": "stderr",
     "output_type": "stream",
     "text": [
      "c:\\Users\\lenovo\\AppData\\Local\\Programs\\Python\\Python312\\Lib\\site-packages\\xgboost\\training.py:183: UserWarning:\n",
      "\n",
      "[16:07:23] WARNING: C:\\actions-runner\\_work\\xgboost\\xgboost\\src\\learner.cc:738: \n",
      "Parameters: { \"use_label_encoder\" } are not used.\n",
      "\n",
      "\n"
     ]
    }
   ],
   "source": [
    "param_grid = {\n",
    "    'n_estimators': [100, 125],  # Increase estimators for better learning\n",
    "    'learning_rate': [0.01, 0.02],  # Slightly faster convergence\n",
    "    'max_depth': [3, 4],  # Allow more complex decision boundaries\n",
    "    'subsample': [0.7, 0.8],  # Utilize more data per tree\n",
    "    'reg_lambda': [2.0, 3.0],  # Reduce L2 regularization slightly\n",
    "    'reg_alpha': [0.5, 1.0],  # Reduce L1 regularization slightly\n",
    "    'min_child_weight': [5, 7]  # Allow smaller splits\n",
    "}\n",
    "\n",
    "grid_search = GridSearchCV(xgb_clf, param_grid, cv=7, scoring='accuracy', n_jobs=-1)\n",
    "grid_search.fit(X_train, y_train)\n",
    "\n",
    "best_xgb = grid_search.best_estimator_\n",
    "\n",
    "print(\"Best Parameters:\", grid_search.best_params_)\n",
    "\n",
    "train_acc = best_xgb.score(X_train, y_train) * 100\n",
    "test_acc = best_xgb.score(X_test, y_test) * 100"
   ]
  },
  {
   "cell_type": "markdown",
   "metadata": {
    "id": "ZYIw8Gi9vXfU"
   },
   "source": [
    "## Accuracy Score"
   ]
  },
  {
   "cell_type": "code",
   "execution_count": 20,
   "metadata": {},
   "outputs": [
    {
     "name": "stdout",
     "output_type": "stream",
     "text": [
      "XGBoost Train Accuracy: 95.93%\n",
      "XGBoost Test Accuracy: 95.00%\n",
      "Classification Report:\n",
      "              precision    recall  f1-score   support\n",
      "\n",
      "         0.0       0.96      0.93      0.95       325\n",
      "         1.0       0.94      0.97      0.95       375\n",
      "\n",
      "    accuracy                           0.95       700\n",
      "   macro avg       0.95      0.95      0.95       700\n",
      "weighted avg       0.95      0.95      0.95       700\n",
      "\n"
     ]
    }
   ],
   "source": [
    "print(f\"XGBoost Train Accuracy: {train_acc:.2f}%\")\n",
    "print(f\"XGBoost Test Accuracy: {test_acc:.2f}%\")\n",
    "\n",
    "# Classification Report\n",
    "y_pred = best_xgb.predict(X_test)\n",
    "print(\"Classification Report:\")\n",
    "print(classification_report(y_test, y_pred))"
   ]
  },
  {
   "cell_type": "code",
   "execution_count": 21,
   "metadata": {},
   "outputs": [
    {
     "data": {
      "image/png": "[encoded data removed]",
      "text/plain": [
       "<Figure size 800x500 with 1 Axes>"
      ]
     },
     "metadata": {},
     "output_type": "display_data"
    }
   ],
   "source": [
    "models = ['Heart Model']\n",
    "training_accuracy = [95.93]\n",
    "testing_accuracy = [95]\n",
    "\n",
    "x = np.arange(len(models))  # Label locations\n",
    "width = 0.3  # Reduced bar width for more spacing\n",
    "spacing = 0.2  # Additional spacing between bars\n",
    "\n",
    "fig, ax = plt.subplots(figsize=(8, 5))\n",
    "\n",
    "# Bars\n",
    "bars1 = ax.barh(x - (width + spacing)/2, training_accuracy, width, label='Training Accuracy', color='lightseagreen')\n",
    "bars2 = ax.barh(x + (width + spacing)/2, testing_accuracy, width, label='Testing Accuracy', color='seagreen')\n",
    "\n",
    "# Labels and Title\n",
    "ax.set_xlabel('Accuracy (%)')\n",
    "ax.set_ylabel('Models')\n",
    "ax.set_yticks(x)\n",
    "ax.set_yticklabels(models)\n",
    "ax.legend()\n",
    "\n",
    "# Adding percentage labels\n",
    "for bars in [bars1, bars2]:\n",
    "    for bar in bars:\n",
    "        ax.text(bar.get_width() + 1, bar.get_y() + bar.get_height()/2, f'{bar.get_width()}%', va='center', fontsize=10)\n",
    "\n",
    "plt.show()\n"
   ]
  },
  {
   "cell_type": "markdown",
   "metadata": {
    "id": "jIruVh3Qwq0e"
   },
   "source": [
    "## Test model"
   ]
  },
  {
   "cell_type": "code",
   "execution_count": 22,
   "metadata": {
    "colab": {
     "base_uri": "https://localhost:8080/"
    },
    "executionInfo": {
     "elapsed": 12,
     "status": "ok",
     "timestamp": 1653200234909,
     "user": {
      "displayName": "siddhardh selvam",
      "userId": "13966379820454708749"
     },
     "user_tz": -330
    },
    "id": "9ercruC9wb4C",
    "outputId": "e4cddd3b-acdb-482c-a25f-b720f02111c9"
   },
   "outputs": [
    {
     "name": "stdout",
     "output_type": "stream",
     "text": [
      "[0]\n",
      "The Person does not have a Heart Disease\n"
     ]
    }
   ],
   "source": [
    "input_data = (62,0,0,140,268,0,0,160,0,3.6,0,2,2)\n",
    "\n",
    "# change the input data to a numpy array\n",
    "input_data_as_numpy_array= np.asarray(input_data)\n",
    "\n",
    "# reshape the numpy array as we are predicting for only on instance\n",
    "input_data_reshaped = input_data_as_numpy_array.reshape(1,-1)\n",
    "\n",
    "prediction = best_xgb.predict(input_data_reshaped)\n",
    "print(prediction)\n",
    "\n",
    "if (prediction[0]== 0):\n",
    "  print('The Person does not have a Heart Disease')\n",
    "else:\n",
    "  print('The Person has Heart Disease')\n"
   ]
  },
  {
   "cell_type": "markdown",
   "metadata": {
    "id": "FCHCMHpshHU4"
   },
   "source": [
    "## Saving the trained model"
   ]
  },
  {
   "cell_type": "code",
   "execution_count": null,
   "metadata": {
    "executionInfo": {
     "elapsed": 11,
     "status": "ok",
     "timestamp": 1653200234910,
     "user": {
      "displayName": "siddhardh selvam",
      "userId": "13966379820454708749"
     },
     "user_tz": -330
    },
    "id": "cdmTOR4MhHCB"
   },
   "outputs": [],
   "source": [
    "import pickle"
   ]
  },
  {
   "cell_type": "code",
   "execution_count": null,
   "metadata": {
    "executionInfo": {
     "elapsed": 10,
     "status": "ok",
     "timestamp": 1653200234910,
     "user": {
      "displayName": "siddhardh selvam",
      "userId": "13966379820454708749"
     },
     "user_tz": -330
    },
    "id": "4gN09lokhKuZ"
   },
   "outputs": [],
   "source": [
    "filename = 'heart_disease_model.sav'\n",
    "pickle.dump(best_xgb, open(filename, 'wb'))"
   ]
  },
  {
   "cell_type": "code",
   "execution_count": null,
   "metadata": {
    "executionInfo": {
     "elapsed": 11,
     "status": "ok",
     "timestamp": 1653200234911,
     "user": {
      "displayName": "siddhardh selvam",
      "userId": "13966379820454708749"
     },
     "user_tz": -330
    },
    "id": "IKW4D5CqhP5X"
   },
   "outputs": [],
   "source": [
    "loaded_model = pickle.load(open('heart_disease_model.sav', 'rb'))"
   ]
  }
 ],
 "metadata": {
  "colab": {
   "authorship_tag": "ABX9TyNkEJ4hIKtyX260ZMlxNVm4",
   "name": "Multiple disease prediction system - heart.ipynb",
   "provenance": []
  },
  "kernelspec": {
   "display_name": "Python 3",
   "name": "python3"
  },
  "language_info": {
   "codemirror_mode": {
    "name": "ipython",
    "version": 3
   },
   "file_extension": ".py",
   "mimetype": "text/x-python",
   "name": "python",
   "nbconvert_exporter": "python",
   "pygments_lexer": "ipython3",
   "version": "3.12.2"
  }
 },
 "nbformat": 4,
 "nbformat_minor": 0
}
