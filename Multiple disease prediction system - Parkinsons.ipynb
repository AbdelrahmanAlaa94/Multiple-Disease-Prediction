{
 "cells": [
  {
   "cell_type": "markdown",
   "metadata": {},
   "source": [
    "# Parkinson's Disease Dataset Analysis and Machine Learning\n"
   ]
  },
  {
   "cell_type": "markdown",
   "metadata": {},
   "source": [
    "---"
   ]
  },
  {
   "cell_type": "markdown",
   "metadata": {},
   "source": [
    "## Importing the Dependencies"
   ]
  },
  {
   "cell_type": "code",
   "execution_count": 47,
   "metadata": {},
   "outputs": [],
   "source": [
    "import numpy as np\n",
    "import pandas as pd "
   ]
  },
  {
   "cell_type": "markdown",
   "metadata": {},
   "source": [
    "## Data Collection and Processing"
   ]
  },
  {
   "cell_type": "code",
   "execution_count": 48,
   "metadata": {},
   "outputs": [],
   "source": [
    "parkinsons_data=pd.read_csv(r\"E:/College/Training/NTI/multiple-disease-prediction-streamlit-app-main/dataset/parkinsons_disease_data_test.csv\")\n"
   ]
  },
  {
   "cell_type": "code",
   "execution_count": 49,
   "metadata": {},
   "outputs": [
    {
     "data": {
      "text/html": [
       "<div>\n",
       "<style scoped>\n",
       "    .dataframe tbody tr th:only-of-type {\n",
       "        vertical-align: middle;\n",
       "    }\n",
       "\n",
       "    .dataframe tbody tr th {\n",
       "        vertical-align: top;\n",
       "    }\n",
       "\n",
       "    .dataframe thead th {\n",
       "        text-align: right;\n",
       "    }\n",
       "</style>\n",
       "<table border=\"1\" class=\"dataframe\">\n",
       "  <thead>\n",
       "    <tr style=\"text-align: right;\">\n",
       "      <th></th>\n",
       "      <th>Age</th>\n",
       "      <th>Gender</th>\n",
       "      <th>BMI</th>\n",
       "      <th>Smoking</th>\n",
       "      <th>AlcoholConsumption</th>\n",
       "      <th>PhysicalActivity</th>\n",
       "      <th>FamilyHistoryParkinsons</th>\n",
       "      <th>TraumaticBrainInjury</th>\n",
       "      <th>Hypertension</th>\n",
       "      <th>Diabetes</th>\n",
       "      <th>...</th>\n",
       "      <th>UPDRS</th>\n",
       "      <th>MoCA</th>\n",
       "      <th>Tremor</th>\n",
       "      <th>Rigidity</th>\n",
       "      <th>Bradykinesia</th>\n",
       "      <th>PosturalInstability</th>\n",
       "      <th>SpeechProblems</th>\n",
       "      <th>SleepDisorders</th>\n",
       "      <th>Constipation</th>\n",
       "      <th>Diagnosis</th>\n",
       "    </tr>\n",
       "  </thead>\n",
       "  <tbody>\n",
       "    <tr>\n",
       "      <th>0</th>\n",
       "      <td>85</td>\n",
       "      <td>0</td>\n",
       "      <td>19.619878</td>\n",
       "      <td>0</td>\n",
       "      <td>5.108241</td>\n",
       "      <td>1.380660</td>\n",
       "      <td>0</td>\n",
       "      <td>0</td>\n",
       "      <td>0</td>\n",
       "      <td>0</td>\n",
       "      <td>...</td>\n",
       "      <td>6.458713</td>\n",
       "      <td>29.181289</td>\n",
       "      <td>1</td>\n",
       "      <td>0</td>\n",
       "      <td>0</td>\n",
       "      <td>0</td>\n",
       "      <td>0</td>\n",
       "      <td>0</td>\n",
       "      <td>0</td>\n",
       "      <td>0</td>\n",
       "    </tr>\n",
       "    <tr>\n",
       "      <th>1</th>\n",
       "      <td>75</td>\n",
       "      <td>0</td>\n",
       "      <td>16.247339</td>\n",
       "      <td>1</td>\n",
       "      <td>6.027648</td>\n",
       "      <td>8.409804</td>\n",
       "      <td>0</td>\n",
       "      <td>0</td>\n",
       "      <td>0</td>\n",
       "      <td>0</td>\n",
       "      <td>...</td>\n",
       "      <td>37.306703</td>\n",
       "      <td>12.332639</td>\n",
       "      <td>0</td>\n",
       "      <td>1</td>\n",
       "      <td>0</td>\n",
       "      <td>1</td>\n",
       "      <td>0</td>\n",
       "      <td>1</td>\n",
       "      <td>0</td>\n",
       "      <td>1</td>\n",
       "    </tr>\n",
       "    <tr>\n",
       "      <th>2</th>\n",
       "      <td>70</td>\n",
       "      <td>1</td>\n",
       "      <td>15.368239</td>\n",
       "      <td>0</td>\n",
       "      <td>2.242135</td>\n",
       "      <td>0.213275</td>\n",
       "      <td>0</td>\n",
       "      <td>0</td>\n",
       "      <td>0</td>\n",
       "      <td>1</td>\n",
       "      <td>...</td>\n",
       "      <td>67.838170</td>\n",
       "      <td>29.927783</td>\n",
       "      <td>1</td>\n",
       "      <td>0</td>\n",
       "      <td>0</td>\n",
       "      <td>0</td>\n",
       "      <td>1</td>\n",
       "      <td>0</td>\n",
       "      <td>1</td>\n",
       "      <td>1</td>\n",
       "    </tr>\n",
       "    <tr>\n",
       "      <th>3</th>\n",
       "      <td>52</td>\n",
       "      <td>0</td>\n",
       "      <td>15.454557</td>\n",
       "      <td>0</td>\n",
       "      <td>5.997788</td>\n",
       "      <td>1.375045</td>\n",
       "      <td>0</td>\n",
       "      <td>0</td>\n",
       "      <td>0</td>\n",
       "      <td>0</td>\n",
       "      <td>...</td>\n",
       "      <td>52.964696</td>\n",
       "      <td>21.304268</td>\n",
       "      <td>1</td>\n",
       "      <td>1</td>\n",
       "      <td>1</td>\n",
       "      <td>0</td>\n",
       "      <td>0</td>\n",
       "      <td>0</td>\n",
       "      <td>1</td>\n",
       "      <td>1</td>\n",
       "    </tr>\n",
       "    <tr>\n",
       "      <th>4</th>\n",
       "      <td>87</td>\n",
       "      <td>0</td>\n",
       "      <td>18.616042</td>\n",
       "      <td>0</td>\n",
       "      <td>9.775243</td>\n",
       "      <td>1.188607</td>\n",
       "      <td>0</td>\n",
       "      <td>0</td>\n",
       "      <td>0</td>\n",
       "      <td>0</td>\n",
       "      <td>...</td>\n",
       "      <td>21.804880</td>\n",
       "      <td>8.336364</td>\n",
       "      <td>0</td>\n",
       "      <td>0</td>\n",
       "      <td>0</td>\n",
       "      <td>1</td>\n",
       "      <td>0</td>\n",
       "      <td>1</td>\n",
       "      <td>0</td>\n",
       "      <td>0</td>\n",
       "    </tr>\n",
       "  </tbody>\n",
       "</table>\n",
       "<p>5 rows × 28 columns</p>\n",
       "</div>"
      ],
      "text/plain": [
       "   Age  Gender        BMI  Smoking  AlcoholConsumption  PhysicalActivity  \\\n",
       "0   85       0  19.619878        0            5.108241          1.380660   \n",
       "1   75       0  16.247339        1            6.027648          8.409804   \n",
       "2   70       1  15.368239        0            2.242135          0.213275   \n",
       "3   52       0  15.454557        0            5.997788          1.375045   \n",
       "4   87       0  18.616042        0            9.775243          1.188607   \n",
       "\n",
       "   FamilyHistoryParkinsons  TraumaticBrainInjury  Hypertension  Diabetes  ...  \\\n",
       "0                        0                     0             0         0  ...   \n",
       "1                        0                     0             0         0  ...   \n",
       "2                        0                     0             0         1  ...   \n",
       "3                        0                     0             0         0  ...   \n",
       "4                        0                     0             0         0  ...   \n",
       "\n",
       "       UPDRS       MoCA  Tremor  Rigidity  Bradykinesia  PosturalInstability  \\\n",
       "0   6.458713  29.181289       1         0             0                    0   \n",
       "1  37.306703  12.332639       0         1             0                    1   \n",
       "2  67.838170  29.927783       1         0             0                    0   \n",
       "3  52.964696  21.304268       1         1             1                    0   \n",
       "4  21.804880   8.336364       0         0             0                    1   \n",
       "\n",
       "   SpeechProblems  SleepDisorders  Constipation  Diagnosis  \n",
       "0               0               0             0          0  \n",
       "1               0               1             0          1  \n",
       "2               1               0             1          1  \n",
       "3               0               0             1          1  \n",
       "4               0               1             0          0  \n",
       "\n",
       "[5 rows x 28 columns]"
      ]
     },
     "execution_count": 49,
     "metadata": {},
     "output_type": "execute_result"
    }
   ],
   "source": [
    "parkinsons_data.head()"
   ]
  },
  {
   "cell_type": "code",
   "execution_count": 50,
   "metadata": {},
   "outputs": [
    {
     "name": "stdout",
     "output_type": "stream",
     "text": [
      "<class 'pandas.core.frame.DataFrame'>\n",
      "RangeIndex: 2105 entries, 0 to 2104\n",
      "Data columns (total 28 columns):\n",
      " #   Column                    Non-Null Count  Dtype  \n",
      "---  ------                    --------------  -----  \n",
      " 0   Age                       2105 non-null   int64  \n",
      " 1   Gender                    2105 non-null   int64  \n",
      " 2   BMI                       2105 non-null   float64\n",
      " 3   Smoking                   2105 non-null   int64  \n",
      " 4   AlcoholConsumption        2105 non-null   float64\n",
      " 5   PhysicalActivity          2105 non-null   float64\n",
      " 6   FamilyHistoryParkinsons   2105 non-null   int64  \n",
      " 7   TraumaticBrainInjury      2105 non-null   int64  \n",
      " 8   Hypertension              2105 non-null   int64  \n",
      " 9   Diabetes                  2105 non-null   int64  \n",
      " 10  Depression                2105 non-null   int64  \n",
      " 11  Stroke                    2105 non-null   int64  \n",
      " 12  SystolicBP                2105 non-null   int64  \n",
      " 13  DiastolicBP               2105 non-null   int64  \n",
      " 14  CholesterolTotal          2105 non-null   float64\n",
      " 15  CholesterolLDL            2105 non-null   float64\n",
      " 16  CholesterolHDL            2105 non-null   float64\n",
      " 17  CholesterolTriglycerides  2105 non-null   float64\n",
      " 18  UPDRS                     2105 non-null   float64\n",
      " 19  MoCA                      2105 non-null   float64\n",
      " 20  Tremor                    2105 non-null   int64  \n",
      " 21  Rigidity                  2105 non-null   int64  \n",
      " 22  Bradykinesia              2105 non-null   int64  \n",
      " 23  PosturalInstability       2105 non-null   int64  \n",
      " 24  SpeechProblems            2105 non-null   int64  \n",
      " 25  SleepDisorders            2105 non-null   int64  \n",
      " 26  Constipation              2105 non-null   int64  \n",
      " 27  Diagnosis                 2105 non-null   int64  \n",
      "dtypes: float64(9), int64(19)\n",
      "memory usage: 460.6 KB\n"
     ]
    }
   ],
   "source": [
    "parkinsons_data.info()"
   ]
  },
  {
   "cell_type": "code",
   "execution_count": 51,
   "metadata": {},
   "outputs": [
    {
     "data": {
      "text/html": [
       "<style type=\"text/css\">\n",
       "#T_e8b9d_row0_col0, #T_e8b9d_row0_col1, #T_e8b9d_row0_col2, #T_e8b9d_row0_col3, #T_e8b9d_row0_col4, #T_e8b9d_row0_col5, #T_e8b9d_row0_col6, #T_e8b9d_row0_col7, #T_e8b9d_row0_col8, #T_e8b9d_row0_col9, #T_e8b9d_row0_col10, #T_e8b9d_row0_col11, #T_e8b9d_row0_col12, #T_e8b9d_row0_col13, #T_e8b9d_row0_col14, #T_e8b9d_row0_col15, #T_e8b9d_row0_col16, #T_e8b9d_row0_col17, #T_e8b9d_row0_col18, #T_e8b9d_row0_col19, #T_e8b9d_row0_col20, #T_e8b9d_row0_col21, #T_e8b9d_row0_col22, #T_e8b9d_row0_col23, #T_e8b9d_row0_col24, #T_e8b9d_row0_col25, #T_e8b9d_row0_col26, #T_e8b9d_row0_col27 {\n",
       "  background-color: #f0f921;\n",
       "  color: #000000;\n",
       "}\n",
       "#T_e8b9d_row1_col0, #T_e8b9d_row3_col12, #T_e8b9d_row4_col13, #T_e8b9d_row5_col0, #T_e8b9d_row6_col16 {\n",
       "  background-color: #20068f;\n",
       "  color: #f1f1f1;\n",
       "}\n",
       "#T_e8b9d_row1_col1, #T_e8b9d_row1_col3, #T_e8b9d_row1_col5, #T_e8b9d_row1_col6, #T_e8b9d_row1_col7, #T_e8b9d_row1_col8, #T_e8b9d_row1_col9, #T_e8b9d_row1_col10, #T_e8b9d_row1_col11, #T_e8b9d_row1_col20, #T_e8b9d_row1_col21, #T_e8b9d_row1_col22, #T_e8b9d_row1_col23, #T_e8b9d_row1_col24, #T_e8b9d_row1_col25, #T_e8b9d_row1_col26, #T_e8b9d_row1_col27, #T_e8b9d_row2_col0, #T_e8b9d_row2_col1, #T_e8b9d_row2_col2, #T_e8b9d_row2_col3, #T_e8b9d_row2_col4, #T_e8b9d_row2_col5, #T_e8b9d_row2_col6, #T_e8b9d_row2_col7, #T_e8b9d_row2_col8, #T_e8b9d_row2_col9, #T_e8b9d_row2_col10, #T_e8b9d_row2_col11, #T_e8b9d_row2_col12, #T_e8b9d_row2_col13, #T_e8b9d_row2_col14, #T_e8b9d_row2_col15, #T_e8b9d_row2_col16, #T_e8b9d_row2_col20, #T_e8b9d_row2_col21, #T_e8b9d_row2_col22, #T_e8b9d_row2_col23, #T_e8b9d_row2_col24, #T_e8b9d_row2_col25, #T_e8b9d_row2_col26, #T_e8b9d_row2_col27, #T_e8b9d_row3_col1, #T_e8b9d_row3_col2, #T_e8b9d_row3_col3, #T_e8b9d_row3_col4, #T_e8b9d_row3_col5, #T_e8b9d_row3_col6, #T_e8b9d_row3_col7, #T_e8b9d_row3_col8, #T_e8b9d_row3_col9, #T_e8b9d_row3_col10, #T_e8b9d_row3_col11, #T_e8b9d_row3_col15, #T_e8b9d_row3_col16, #T_e8b9d_row3_col17, #T_e8b9d_row3_col18, #T_e8b9d_row3_col19, #T_e8b9d_row3_col20, #T_e8b9d_row3_col21, #T_e8b9d_row3_col22, #T_e8b9d_row3_col23, #T_e8b9d_row3_col24, #T_e8b9d_row3_col25, #T_e8b9d_row3_col26, #T_e8b9d_row3_col27, #T_e8b9d_row4_col1, #T_e8b9d_row4_col3, #T_e8b9d_row4_col4, #T_e8b9d_row4_col5, #T_e8b9d_row4_col6, #T_e8b9d_row4_col7, #T_e8b9d_row4_col8, #T_e8b9d_row4_col9, #T_e8b9d_row4_col10, #T_e8b9d_row4_col11, #T_e8b9d_row4_col19, #T_e8b9d_row4_col20, #T_e8b9d_row4_col21, #T_e8b9d_row4_col22, #T_e8b9d_row4_col23, #T_e8b9d_row4_col24, #T_e8b9d_row4_col25, #T_e8b9d_row4_col26, #T_e8b9d_row4_col27, #T_e8b9d_row5_col1, #T_e8b9d_row5_col3, #T_e8b9d_row5_col5, #T_e8b9d_row5_col6, #T_e8b9d_row5_col7, #T_e8b9d_row5_col8, #T_e8b9d_row5_col9, #T_e8b9d_row5_col10, #T_e8b9d_row5_col11, #T_e8b9d_row5_col20, #T_e8b9d_row5_col21, #T_e8b9d_row5_col22, #T_e8b9d_row5_col23, #T_e8b9d_row5_col24, #T_e8b9d_row5_col25, #T_e8b9d_row5_col26, #T_e8b9d_row5_col27, #T_e8b9d_row6_col1, #T_e8b9d_row6_col3, #T_e8b9d_row6_col5, #T_e8b9d_row6_col6, #T_e8b9d_row6_col7, #T_e8b9d_row6_col8, #T_e8b9d_row6_col9, #T_e8b9d_row6_col10, #T_e8b9d_row6_col11, #T_e8b9d_row6_col20, #T_e8b9d_row6_col21, #T_e8b9d_row6_col22, #T_e8b9d_row6_col23, #T_e8b9d_row6_col24, #T_e8b9d_row6_col25, #T_e8b9d_row6_col26, #T_e8b9d_row6_col27, #T_e8b9d_row7_col1, #T_e8b9d_row7_col3, #T_e8b9d_row7_col6, #T_e8b9d_row7_col7, #T_e8b9d_row7_col8, #T_e8b9d_row7_col9, #T_e8b9d_row7_col10, #T_e8b9d_row7_col11, #T_e8b9d_row7_col20, #T_e8b9d_row7_col21, #T_e8b9d_row7_col22, #T_e8b9d_row7_col23, #T_e8b9d_row7_col24, #T_e8b9d_row7_col25, #T_e8b9d_row7_col26, #T_e8b9d_row7_col27 {\n",
       "  background-color: #0d0887;\n",
       "  color: #f1f1f1;\n",
       "}\n",
       "#T_e8b9d_row1_col2, #T_e8b9d_row4_col16, #T_e8b9d_row5_col2, #T_e8b9d_row6_col19, #T_e8b9d_row7_col4 {\n",
       "  background-color: #130789;\n",
       "  color: #f1f1f1;\n",
       "}\n",
       "#T_e8b9d_row1_col4, #T_e8b9d_row1_col19, #T_e8b9d_row2_col19, #T_e8b9d_row4_col2, #T_e8b9d_row5_col4, #T_e8b9d_row5_col19, #T_e8b9d_row6_col4, #T_e8b9d_row7_col5 {\n",
       "  background-color: #100788;\n",
       "  color: #f1f1f1;\n",
       "}\n",
       "#T_e8b9d_row1_col12, #T_e8b9d_row3_col14, #T_e8b9d_row5_col12 {\n",
       "  background-color: #2c0594;\n",
       "  color: #f1f1f1;\n",
       "}\n",
       "#T_e8b9d_row1_col13, #T_e8b9d_row6_col0 {\n",
       "  background-color: #220690;\n",
       "  color: #f1f1f1;\n",
       "}\n",
       "#T_e8b9d_row1_col14, #T_e8b9d_row5_col14 {\n",
       "  background-color: #3c049b;\n",
       "  color: #f1f1f1;\n",
       "}\n",
       "#T_e8b9d_row1_col15, #T_e8b9d_row4_col12, #T_e8b9d_row4_col17, #T_e8b9d_row5_col15, #T_e8b9d_row6_col13 {\n",
       "  background-color: #260591;\n",
       "  color: #f1f1f1;\n",
       "}\n",
       "#T_e8b9d_row1_col16, #T_e8b9d_row3_col0, #T_e8b9d_row5_col16, #T_e8b9d_row7_col2 {\n",
       "  background-color: #19068c;\n",
       "  color: #f1f1f1;\n",
       "}\n",
       "#T_e8b9d_row1_col17, #T_e8b9d_row5_col17 {\n",
       "  background-color: #3a049a;\n",
       "  color: #f1f1f1;\n",
       "}\n",
       "#T_e8b9d_row1_col18, #T_e8b9d_row5_col18, #T_e8b9d_row7_col13 {\n",
       "  background-color: #2a0593;\n",
       "  color: #f1f1f1;\n",
       "}\n",
       "#T_e8b9d_row2_col17, #T_e8b9d_row2_col18, #T_e8b9d_row4_col18 {\n",
       "  background-color: #1d068e;\n",
       "  color: #f1f1f1;\n",
       "}\n",
       "#T_e8b9d_row3_col13, #T_e8b9d_row4_col0, #T_e8b9d_row4_col15 {\n",
       "  background-color: #1b068d;\n",
       "  color: #f1f1f1;\n",
       "}\n",
       "#T_e8b9d_row4_col14, #T_e8b9d_row6_col18, #T_e8b9d_row7_col12 {\n",
       "  background-color: #350498;\n",
       "  color: #f1f1f1;\n",
       "}\n",
       "#T_e8b9d_row5_col13, #T_e8b9d_row7_col0, #T_e8b9d_row7_col16 {\n",
       "  background-color: #240691;\n",
       "  color: #f1f1f1;\n",
       "}\n",
       "#T_e8b9d_row6_col2, #T_e8b9d_row7_col19 {\n",
       "  background-color: #16078a;\n",
       "  color: #f1f1f1;\n",
       "}\n",
       "#T_e8b9d_row6_col12 {\n",
       "  background-color: #310597;\n",
       "  color: #f1f1f1;\n",
       "}\n",
       "#T_e8b9d_row6_col14 {\n",
       "  background-color: #44039e;\n",
       "  color: #f1f1f1;\n",
       "}\n",
       "#T_e8b9d_row6_col15 {\n",
       "  background-color: #2e0595;\n",
       "  color: #f1f1f1;\n",
       "}\n",
       "#T_e8b9d_row6_col17 {\n",
       "  background-color: #4c02a1;\n",
       "  color: #f1f1f1;\n",
       "}\n",
       "#T_e8b9d_row7_col14 {\n",
       "  background-color: #4b03a1;\n",
       "  color: #f1f1f1;\n",
       "}\n",
       "#T_e8b9d_row7_col15 {\n",
       "  background-color: #370499;\n",
       "  color: #f1f1f1;\n",
       "}\n",
       "#T_e8b9d_row7_col17 {\n",
       "  background-color: #5e01a6;\n",
       "  color: #f1f1f1;\n",
       "}\n",
       "#T_e8b9d_row7_col18 {\n",
       "  background-color: #3f049c;\n",
       "  color: #f1f1f1;\n",
       "}\n",
       "</style>\n",
       "<table id=\"T_e8b9d\">\n",
       "  <thead>\n",
       "    <tr>\n",
       "      <th class=\"blank level0\" >&nbsp;</th>\n",
       "      <th id=\"T_e8b9d_level0_col0\" class=\"col_heading level0 col0\" >Age</th>\n",
       "      <th id=\"T_e8b9d_level0_col1\" class=\"col_heading level0 col1\" >Gender</th>\n",
       "      <th id=\"T_e8b9d_level0_col2\" class=\"col_heading level0 col2\" >BMI</th>\n",
       "      <th id=\"T_e8b9d_level0_col3\" class=\"col_heading level0 col3\" >Smoking</th>\n",
       "      <th id=\"T_e8b9d_level0_col4\" class=\"col_heading level0 col4\" >AlcoholConsumption</th>\n",
       "      <th id=\"T_e8b9d_level0_col5\" class=\"col_heading level0 col5\" >PhysicalActivity</th>\n",
       "      <th id=\"T_e8b9d_level0_col6\" class=\"col_heading level0 col6\" >FamilyHistoryParkinsons</th>\n",
       "      <th id=\"T_e8b9d_level0_col7\" class=\"col_heading level0 col7\" >TraumaticBrainInjury</th>\n",
       "      <th id=\"T_e8b9d_level0_col8\" class=\"col_heading level0 col8\" >Hypertension</th>\n",
       "      <th id=\"T_e8b9d_level0_col9\" class=\"col_heading level0 col9\" >Diabetes</th>\n",
       "      <th id=\"T_e8b9d_level0_col10\" class=\"col_heading level0 col10\" >Depression</th>\n",
       "      <th id=\"T_e8b9d_level0_col11\" class=\"col_heading level0 col11\" >Stroke</th>\n",
       "      <th id=\"T_e8b9d_level0_col12\" class=\"col_heading level0 col12\" >SystolicBP</th>\n",
       "      <th id=\"T_e8b9d_level0_col13\" class=\"col_heading level0 col13\" >DiastolicBP</th>\n",
       "      <th id=\"T_e8b9d_level0_col14\" class=\"col_heading level0 col14\" >CholesterolTotal</th>\n",
       "      <th id=\"T_e8b9d_level0_col15\" class=\"col_heading level0 col15\" >CholesterolLDL</th>\n",
       "      <th id=\"T_e8b9d_level0_col16\" class=\"col_heading level0 col16\" >CholesterolHDL</th>\n",
       "      <th id=\"T_e8b9d_level0_col17\" class=\"col_heading level0 col17\" >CholesterolTriglycerides</th>\n",
       "      <th id=\"T_e8b9d_level0_col18\" class=\"col_heading level0 col18\" >UPDRS</th>\n",
       "      <th id=\"T_e8b9d_level0_col19\" class=\"col_heading level0 col19\" >MoCA</th>\n",
       "      <th id=\"T_e8b9d_level0_col20\" class=\"col_heading level0 col20\" >Tremor</th>\n",
       "      <th id=\"T_e8b9d_level0_col21\" class=\"col_heading level0 col21\" >Rigidity</th>\n",
       "      <th id=\"T_e8b9d_level0_col22\" class=\"col_heading level0 col22\" >Bradykinesia</th>\n",
       "      <th id=\"T_e8b9d_level0_col23\" class=\"col_heading level0 col23\" >PosturalInstability</th>\n",
       "      <th id=\"T_e8b9d_level0_col24\" class=\"col_heading level0 col24\" >SpeechProblems</th>\n",
       "      <th id=\"T_e8b9d_level0_col25\" class=\"col_heading level0 col25\" >SleepDisorders</th>\n",
       "      <th id=\"T_e8b9d_level0_col26\" class=\"col_heading level0 col26\" >Constipation</th>\n",
       "      <th id=\"T_e8b9d_level0_col27\" class=\"col_heading level0 col27\" >Diagnosis</th>\n",
       "    </tr>\n",
       "  </thead>\n",
       "  <tbody>\n",
       "    <tr>\n",
       "      <th id=\"T_e8b9d_level0_row0\" class=\"row_heading level0 row0\" >count</th>\n",
       "      <td id=\"T_e8b9d_row0_col0\" class=\"data row0 col0\" >2105.000000</td>\n",
       "      <td id=\"T_e8b9d_row0_col1\" class=\"data row0 col1\" >2105.000000</td>\n",
       "      <td id=\"T_e8b9d_row0_col2\" class=\"data row0 col2\" >2105.000000</td>\n",
       "      <td id=\"T_e8b9d_row0_col3\" class=\"data row0 col3\" >2105.000000</td>\n",
       "      <td id=\"T_e8b9d_row0_col4\" class=\"data row0 col4\" >2105.000000</td>\n",
       "      <td id=\"T_e8b9d_row0_col5\" class=\"data row0 col5\" >2105.000000</td>\n",
       "      <td id=\"T_e8b9d_row0_col6\" class=\"data row0 col6\" >2105.000000</td>\n",
       "      <td id=\"T_e8b9d_row0_col7\" class=\"data row0 col7\" >2105.000000</td>\n",
       "      <td id=\"T_e8b9d_row0_col8\" class=\"data row0 col8\" >2105.000000</td>\n",
       "      <td id=\"T_e8b9d_row0_col9\" class=\"data row0 col9\" >2105.000000</td>\n",
       "      <td id=\"T_e8b9d_row0_col10\" class=\"data row0 col10\" >2105.000000</td>\n",
       "      <td id=\"T_e8b9d_row0_col11\" class=\"data row0 col11\" >2105.000000</td>\n",
       "      <td id=\"T_e8b9d_row0_col12\" class=\"data row0 col12\" >2105.000000</td>\n",
       "      <td id=\"T_e8b9d_row0_col13\" class=\"data row0 col13\" >2105.000000</td>\n",
       "      <td id=\"T_e8b9d_row0_col14\" class=\"data row0 col14\" >2105.000000</td>\n",
       "      <td id=\"T_e8b9d_row0_col15\" class=\"data row0 col15\" >2105.000000</td>\n",
       "      <td id=\"T_e8b9d_row0_col16\" class=\"data row0 col16\" >2105.000000</td>\n",
       "      <td id=\"T_e8b9d_row0_col17\" class=\"data row0 col17\" >2105.000000</td>\n",
       "      <td id=\"T_e8b9d_row0_col18\" class=\"data row0 col18\" >2105.000000</td>\n",
       "      <td id=\"T_e8b9d_row0_col19\" class=\"data row0 col19\" >2105.000000</td>\n",
       "      <td id=\"T_e8b9d_row0_col20\" class=\"data row0 col20\" >2105.000000</td>\n",
       "      <td id=\"T_e8b9d_row0_col21\" class=\"data row0 col21\" >2105.000000</td>\n",
       "      <td id=\"T_e8b9d_row0_col22\" class=\"data row0 col22\" >2105.000000</td>\n",
       "      <td id=\"T_e8b9d_row0_col23\" class=\"data row0 col23\" >2105.000000</td>\n",
       "      <td id=\"T_e8b9d_row0_col24\" class=\"data row0 col24\" >2105.000000</td>\n",
       "      <td id=\"T_e8b9d_row0_col25\" class=\"data row0 col25\" >2105.000000</td>\n",
       "      <td id=\"T_e8b9d_row0_col26\" class=\"data row0 col26\" >2105.000000</td>\n",
       "      <td id=\"T_e8b9d_row0_col27\" class=\"data row0 col27\" >2105.000000</td>\n",
       "    </tr>\n",
       "    <tr>\n",
       "      <th id=\"T_e8b9d_level0_row1\" class=\"row_heading level0 row1\" >mean</th>\n",
       "      <td id=\"T_e8b9d_row1_col0\" class=\"data row1 col0\" >69.601900</td>\n",
       "      <td id=\"T_e8b9d_row1_col1\" class=\"data row1 col1\" >0.492637</td>\n",
       "      <td id=\"T_e8b9d_row1_col2\" class=\"data row1 col2\" >27.209493</td>\n",
       "      <td id=\"T_e8b9d_row1_col3\" class=\"data row1 col3\" >0.296437</td>\n",
       "      <td id=\"T_e8b9d_row1_col4\" class=\"data row1 col4\" >10.040413</td>\n",
       "      <td id=\"T_e8b9d_row1_col5\" class=\"data row1 col5\" >5.016674</td>\n",
       "      <td id=\"T_e8b9d_row1_col6\" class=\"data row1 col6\" >0.145843</td>\n",
       "      <td id=\"T_e8b9d_row1_col7\" class=\"data row1 col7\" >0.106413</td>\n",
       "      <td id=\"T_e8b9d_row1_col8\" class=\"data row1 col8\" >0.145843</td>\n",
       "      <td id=\"T_e8b9d_row1_col9\" class=\"data row1 col9\" >0.148219</td>\n",
       "      <td id=\"T_e8b9d_row1_col10\" class=\"data row1 col10\" >0.205226</td>\n",
       "      <td id=\"T_e8b9d_row1_col11\" class=\"data row1 col11\" >0.048931</td>\n",
       "      <td id=\"T_e8b9d_row1_col12\" class=\"data row1 col12\" >133.719715</td>\n",
       "      <td id=\"T_e8b9d_row1_col13\" class=\"data row1 col13\" >90.249881</td>\n",
       "      <td id=\"T_e8b9d_row1_col14\" class=\"data row1 col14\" >226.860840</td>\n",
       "      <td id=\"T_e8b9d_row1_col15\" class=\"data row1 col15\" >126.147858</td>\n",
       "      <td id=\"T_e8b9d_row1_col16\" class=\"data row1 col16\" >59.670352</td>\n",
       "      <td id=\"T_e8b9d_row1_col17\" class=\"data row1 col17\" >222.940500</td>\n",
       "      <td id=\"T_e8b9d_row1_col18\" class=\"data row1 col18\" >101.415318</td>\n",
       "      <td id=\"T_e8b9d_row1_col19\" class=\"data row1 col19\" >15.094314</td>\n",
       "      <td id=\"T_e8b9d_row1_col20\" class=\"data row1 col20\" >0.431829</td>\n",
       "      <td id=\"T_e8b9d_row1_col21\" class=\"data row1 col21\" >0.252732</td>\n",
       "      <td id=\"T_e8b9d_row1_col22\" class=\"data row1 col22\" >0.207601</td>\n",
       "      <td id=\"T_e8b9d_row1_col23\" class=\"data row1 col23\" >0.138717</td>\n",
       "      <td id=\"T_e8b9d_row1_col24\" class=\"data row1 col24\" >0.295012</td>\n",
       "      <td id=\"T_e8b9d_row1_col25\" class=\"data row1 col25\" >0.245131</td>\n",
       "      <td id=\"T_e8b9d_row1_col26\" class=\"data row1 col26\" >0.296912</td>\n",
       "      <td id=\"T_e8b9d_row1_col27\" class=\"data row1 col27\" >0.619477</td>\n",
       "    </tr>\n",
       "    <tr>\n",
       "      <th id=\"T_e8b9d_level0_row2\" class=\"row_heading level0 row2\" >std</th>\n",
       "      <td id=\"T_e8b9d_row2_col0\" class=\"data row2 col0\" >11.594511</td>\n",
       "      <td id=\"T_e8b9d_row2_col1\" class=\"data row2 col1\" >0.500065</td>\n",
       "      <td id=\"T_e8b9d_row2_col2\" class=\"data row2 col2\" >7.208099</td>\n",
       "      <td id=\"T_e8b9d_row2_col3\" class=\"data row2 col3\" >0.456795</td>\n",
       "      <td id=\"T_e8b9d_row2_col4\" class=\"data row2 col4\" >5.687014</td>\n",
       "      <td id=\"T_e8b9d_row2_col5\" class=\"data row2 col5\" >2.890919</td>\n",
       "      <td id=\"T_e8b9d_row2_col6\" class=\"data row2 col6\" >0.353033</td>\n",
       "      <td id=\"T_e8b9d_row2_col7\" class=\"data row2 col7\" >0.308439</td>\n",
       "      <td id=\"T_e8b9d_row2_col8\" class=\"data row2 col8\" >0.353033</td>\n",
       "      <td id=\"T_e8b9d_row2_col9\" class=\"data row2 col9\" >0.355401</td>\n",
       "      <td id=\"T_e8b9d_row2_col10\" class=\"data row2 col10\" >0.403962</td>\n",
       "      <td id=\"T_e8b9d_row2_col11\" class=\"data row2 col11\" >0.215775</td>\n",
       "      <td id=\"T_e8b9d_row2_col12\" class=\"data row2 col12\" >26.502355</td>\n",
       "      <td id=\"T_e8b9d_row2_col13\" class=\"data row2 col13\" >17.061488</td>\n",
       "      <td id=\"T_e8b9d_row2_col14\" class=\"data row2 col14\" >43.589406</td>\n",
       "      <td id=\"T_e8b9d_row2_col15\" class=\"data row2 col15\" >43.407036</td>\n",
       "      <td id=\"T_e8b9d_row2_col16\" class=\"data row2 col16\" >23.370920</td>\n",
       "      <td id=\"T_e8b9d_row2_col17\" class=\"data row2 col17\" >101.895822</td>\n",
       "      <td id=\"T_e8b9d_row2_col18\" class=\"data row2 col18\" >56.591448</td>\n",
       "      <td id=\"T_e8b9d_row2_col19\" class=\"data row2 col19\" >8.643014</td>\n",
       "      <td id=\"T_e8b9d_row2_col20\" class=\"data row2 col20\" >0.495449</td>\n",
       "      <td id=\"T_e8b9d_row2_col21\" class=\"data row2 col21\" >0.434682</td>\n",
       "      <td id=\"T_e8b9d_row2_col22\" class=\"data row2 col22\" >0.405686</td>\n",
       "      <td id=\"T_e8b9d_row2_col23\" class=\"data row2 col23\" >0.345733</td>\n",
       "      <td id=\"T_e8b9d_row2_col24\" class=\"data row2 col24\" >0.456156</td>\n",
       "      <td id=\"T_e8b9d_row2_col25\" class=\"data row2 col25\" >0.430267</td>\n",
       "      <td id=\"T_e8b9d_row2_col26\" class=\"data row2 col26\" >0.457006</td>\n",
       "      <td id=\"T_e8b9d_row2_col27\" class=\"data row2 col27\" >0.485631</td>\n",
       "    </tr>\n",
       "    <tr>\n",
       "      <th id=\"T_e8b9d_level0_row3\" class=\"row_heading level0 row3\" >min</th>\n",
       "      <td id=\"T_e8b9d_row3_col0\" class=\"data row3 col0\" >50.000000</td>\n",
       "      <td id=\"T_e8b9d_row3_col1\" class=\"data row3 col1\" >0.000000</td>\n",
       "      <td id=\"T_e8b9d_row3_col2\" class=\"data row3 col2\" >15.008333</td>\n",
       "      <td id=\"T_e8b9d_row3_col3\" class=\"data row3 col3\" >0.000000</td>\n",
       "      <td id=\"T_e8b9d_row3_col4\" class=\"data row3 col4\" >0.002228</td>\n",
       "      <td id=\"T_e8b9d_row3_col5\" class=\"data row3 col5\" >0.004157</td>\n",
       "      <td id=\"T_e8b9d_row3_col6\" class=\"data row3 col6\" >0.000000</td>\n",
       "      <td id=\"T_e8b9d_row3_col7\" class=\"data row3 col7\" >0.000000</td>\n",
       "      <td id=\"T_e8b9d_row3_col8\" class=\"data row3 col8\" >0.000000</td>\n",
       "      <td id=\"T_e8b9d_row3_col9\" class=\"data row3 col9\" >0.000000</td>\n",
       "      <td id=\"T_e8b9d_row3_col10\" class=\"data row3 col10\" >0.000000</td>\n",
       "      <td id=\"T_e8b9d_row3_col11\" class=\"data row3 col11\" >0.000000</td>\n",
       "      <td id=\"T_e8b9d_row3_col12\" class=\"data row3 col12\" >90.000000</td>\n",
       "      <td id=\"T_e8b9d_row3_col13\" class=\"data row3 col13\" >60.000000</td>\n",
       "      <td id=\"T_e8b9d_row3_col14\" class=\"data row3 col14\" >150.062698</td>\n",
       "      <td id=\"T_e8b9d_row3_col15\" class=\"data row3 col15\" >50.022828</td>\n",
       "      <td id=\"T_e8b9d_row3_col16\" class=\"data row3 col16\" >20.027981</td>\n",
       "      <td id=\"T_e8b9d_row3_col17\" class=\"data row3 col17\" >50.113604</td>\n",
       "      <td id=\"T_e8b9d_row3_col18\" class=\"data row3 col18\" >0.028441</td>\n",
       "      <td id=\"T_e8b9d_row3_col19\" class=\"data row3 col19\" >0.021191</td>\n",
       "      <td id=\"T_e8b9d_row3_col20\" class=\"data row3 col20\" >0.000000</td>\n",
       "      <td id=\"T_e8b9d_row3_col21\" class=\"data row3 col21\" >0.000000</td>\n",
       "      <td id=\"T_e8b9d_row3_col22\" class=\"data row3 col22\" >0.000000</td>\n",
       "      <td id=\"T_e8b9d_row3_col23\" class=\"data row3 col23\" >0.000000</td>\n",
       "      <td id=\"T_e8b9d_row3_col24\" class=\"data row3 col24\" >0.000000</td>\n",
       "      <td id=\"T_e8b9d_row3_col25\" class=\"data row3 col25\" >0.000000</td>\n",
       "      <td id=\"T_e8b9d_row3_col26\" class=\"data row3 col26\" >0.000000</td>\n",
       "      <td id=\"T_e8b9d_row3_col27\" class=\"data row3 col27\" >0.000000</td>\n",
       "    </tr>\n",
       "    <tr>\n",
       "      <th id=\"T_e8b9d_level0_row4\" class=\"row_heading level0 row4\" >25%</th>\n",
       "      <td id=\"T_e8b9d_row4_col0\" class=\"data row4 col0\" >60.000000</td>\n",
       "      <td id=\"T_e8b9d_row4_col1\" class=\"data row4 col1\" >0.000000</td>\n",
       "      <td id=\"T_e8b9d_row4_col2\" class=\"data row4 col2\" >20.782176</td>\n",
       "      <td id=\"T_e8b9d_row4_col3\" class=\"data row4 col3\" >0.000000</td>\n",
       "      <td id=\"T_e8b9d_row4_col4\" class=\"data row4 col4\" >5.150278</td>\n",
       "      <td id=\"T_e8b9d_row4_col5\" class=\"data row4 col5\" >2.455703</td>\n",
       "      <td id=\"T_e8b9d_row4_col6\" class=\"data row4 col6\" >0.000000</td>\n",
       "      <td id=\"T_e8b9d_row4_col7\" class=\"data row4 col7\" >0.000000</td>\n",
       "      <td id=\"T_e8b9d_row4_col8\" class=\"data row4 col8\" >0.000000</td>\n",
       "      <td id=\"T_e8b9d_row4_col9\" class=\"data row4 col9\" >0.000000</td>\n",
       "      <td id=\"T_e8b9d_row4_col10\" class=\"data row4 col10\" >0.000000</td>\n",
       "      <td id=\"T_e8b9d_row4_col11\" class=\"data row4 col11\" >0.000000</td>\n",
       "      <td id=\"T_e8b9d_row4_col12\" class=\"data row4 col12\" >110.000000</td>\n",
       "      <td id=\"T_e8b9d_row4_col13\" class=\"data row4 col13\" >75.000000</td>\n",
       "      <td id=\"T_e8b9d_row4_col14\" class=\"data row4 col14\" >189.385178</td>\n",
       "      <td id=\"T_e8b9d_row4_col15\" class=\"data row4 col15\" >88.841960</td>\n",
       "      <td id=\"T_e8b9d_row4_col16\" class=\"data row4 col16\" >39.538643</td>\n",
       "      <td id=\"T_e8b9d_row4_col17\" class=\"data row4 col17\" >132.520174</td>\n",
       "      <td id=\"T_e8b9d_row4_col18\" class=\"data row4 col18\" >53.048148</td>\n",
       "      <td id=\"T_e8b9d_row4_col19\" class=\"data row4 col19\" >7.517160</td>\n",
       "      <td id=\"T_e8b9d_row4_col20\" class=\"data row4 col20\" >0.000000</td>\n",
       "      <td id=\"T_e8b9d_row4_col21\" class=\"data row4 col21\" >0.000000</td>\n",
       "      <td id=\"T_e8b9d_row4_col22\" class=\"data row4 col22\" >0.000000</td>\n",
       "      <td id=\"T_e8b9d_row4_col23\" class=\"data row4 col23\" >0.000000</td>\n",
       "      <td id=\"T_e8b9d_row4_col24\" class=\"data row4 col24\" >0.000000</td>\n",
       "      <td id=\"T_e8b9d_row4_col25\" class=\"data row4 col25\" >0.000000</td>\n",
       "      <td id=\"T_e8b9d_row4_col26\" class=\"data row4 col26\" >0.000000</td>\n",
       "      <td id=\"T_e8b9d_row4_col27\" class=\"data row4 col27\" >0.000000</td>\n",
       "    </tr>\n",
       "    <tr>\n",
       "      <th id=\"T_e8b9d_level0_row5\" class=\"row_heading level0 row5\" >50%</th>\n",
       "      <td id=\"T_e8b9d_row5_col0\" class=\"data row5 col0\" >70.000000</td>\n",
       "      <td id=\"T_e8b9d_row5_col1\" class=\"data row5 col1\" >0.000000</td>\n",
       "      <td id=\"T_e8b9d_row5_col2\" class=\"data row5 col2\" >27.184571</td>\n",
       "      <td id=\"T_e8b9d_row5_col3\" class=\"data row5 col3\" >0.000000</td>\n",
       "      <td id=\"T_e8b9d_row5_col4\" class=\"data row5 col4\" >10.070337</td>\n",
       "      <td id=\"T_e8b9d_row5_col5\" class=\"data row5 col5\" >5.031550</td>\n",
       "      <td id=\"T_e8b9d_row5_col6\" class=\"data row5 col6\" >0.000000</td>\n",
       "      <td id=\"T_e8b9d_row5_col7\" class=\"data row5 col7\" >0.000000</td>\n",
       "      <td id=\"T_e8b9d_row5_col8\" class=\"data row5 col8\" >0.000000</td>\n",
       "      <td id=\"T_e8b9d_row5_col9\" class=\"data row5 col9\" >0.000000</td>\n",
       "      <td id=\"T_e8b9d_row5_col10\" class=\"data row5 col10\" >0.000000</td>\n",
       "      <td id=\"T_e8b9d_row5_col11\" class=\"data row5 col11\" >0.000000</td>\n",
       "      <td id=\"T_e8b9d_row5_col12\" class=\"data row5 col12\" >133.000000</td>\n",
       "      <td id=\"T_e8b9d_row5_col13\" class=\"data row5 col13\" >91.000000</td>\n",
       "      <td id=\"T_e8b9d_row5_col14\" class=\"data row5 col14\" >228.528256</td>\n",
       "      <td id=\"T_e8b9d_row5_col15\" class=\"data row5 col15\" >126.884570</td>\n",
       "      <td id=\"T_e8b9d_row5_col16\" class=\"data row5 col16\" >59.343357</td>\n",
       "      <td id=\"T_e8b9d_row5_col17\" class=\"data row5 col17\" >222.802452</td>\n",
       "      <td id=\"T_e8b9d_row5_col18\" class=\"data row5 col18\" >102.561023</td>\n",
       "      <td id=\"T_e8b9d_row5_col19\" class=\"data row5 col19\" >14.963574</td>\n",
       "      <td id=\"T_e8b9d_row5_col20\" class=\"data row5 col20\" >0.000000</td>\n",
       "      <td id=\"T_e8b9d_row5_col21\" class=\"data row5 col21\" >0.000000</td>\n",
       "      <td id=\"T_e8b9d_row5_col22\" class=\"data row5 col22\" >0.000000</td>\n",
       "      <td id=\"T_e8b9d_row5_col23\" class=\"data row5 col23\" >0.000000</td>\n",
       "      <td id=\"T_e8b9d_row5_col24\" class=\"data row5 col24\" >0.000000</td>\n",
       "      <td id=\"T_e8b9d_row5_col25\" class=\"data row5 col25\" >0.000000</td>\n",
       "      <td id=\"T_e8b9d_row5_col26\" class=\"data row5 col26\" >0.000000</td>\n",
       "      <td id=\"T_e8b9d_row5_col27\" class=\"data row5 col27\" >1.000000</td>\n",
       "    </tr>\n",
       "    <tr>\n",
       "      <th id=\"T_e8b9d_level0_row6\" class=\"row_heading level0 row6\" >75%</th>\n",
       "      <td id=\"T_e8b9d_row6_col0\" class=\"data row6 col0\" >80.000000</td>\n",
       "      <td id=\"T_e8b9d_row6_col1\" class=\"data row6 col1\" >1.000000</td>\n",
       "      <td id=\"T_e8b9d_row6_col2\" class=\"data row6 col2\" >33.462452</td>\n",
       "      <td id=\"T_e8b9d_row6_col3\" class=\"data row6 col3\" >1.000000</td>\n",
       "      <td id=\"T_e8b9d_row6_col4\" class=\"data row6 col4\" >14.829565</td>\n",
       "      <td id=\"T_e8b9d_row6_col5\" class=\"data row6 col5\" >7.512795</td>\n",
       "      <td id=\"T_e8b9d_row6_col6\" class=\"data row6 col6\" >0.000000</td>\n",
       "      <td id=\"T_e8b9d_row6_col7\" class=\"data row6 col7\" >0.000000</td>\n",
       "      <td id=\"T_e8b9d_row6_col8\" class=\"data row6 col8\" >0.000000</td>\n",
       "      <td id=\"T_e8b9d_row6_col9\" class=\"data row6 col9\" >0.000000</td>\n",
       "      <td id=\"T_e8b9d_row6_col10\" class=\"data row6 col10\" >0.000000</td>\n",
       "      <td id=\"T_e8b9d_row6_col11\" class=\"data row6 col11\" >0.000000</td>\n",
       "      <td id=\"T_e8b9d_row6_col12\" class=\"data row6 col12\" >157.000000</td>\n",
       "      <td id=\"T_e8b9d_row6_col13\" class=\"data row6 col13\" >105.000000</td>\n",
       "      <td id=\"T_e8b9d_row6_col14\" class=\"data row6 col14\" >264.608100</td>\n",
       "      <td id=\"T_e8b9d_row6_col15\" class=\"data row6 col15\" >163.912782</td>\n",
       "      <td id=\"T_e8b9d_row6_col16\" class=\"data row6 col16\" >79.366628</td>\n",
       "      <td id=\"T_e8b9d_row6_col17\" class=\"data row6 col17\" >311.699109</td>\n",
       "      <td id=\"T_e8b9d_row6_col18\" class=\"data row6 col18\" >149.831682</td>\n",
       "      <td id=\"T_e8b9d_row6_col19\" class=\"data row6 col19\" >22.608362</td>\n",
       "      <td id=\"T_e8b9d_row6_col20\" class=\"data row6 col20\" >1.000000</td>\n",
       "      <td id=\"T_e8b9d_row6_col21\" class=\"data row6 col21\" >1.000000</td>\n",
       "      <td id=\"T_e8b9d_row6_col22\" class=\"data row6 col22\" >0.000000</td>\n",
       "      <td id=\"T_e8b9d_row6_col23\" class=\"data row6 col23\" >0.000000</td>\n",
       "      <td id=\"T_e8b9d_row6_col24\" class=\"data row6 col24\" >1.000000</td>\n",
       "      <td id=\"T_e8b9d_row6_col25\" class=\"data row6 col25\" >0.000000</td>\n",
       "      <td id=\"T_e8b9d_row6_col26\" class=\"data row6 col26\" >1.000000</td>\n",
       "      <td id=\"T_e8b9d_row6_col27\" class=\"data row6 col27\" >1.000000</td>\n",
       "    </tr>\n",
       "    <tr>\n",
       "      <th id=\"T_e8b9d_level0_row7\" class=\"row_heading level0 row7\" >max</th>\n",
       "      <td id=\"T_e8b9d_row7_col0\" class=\"data row7 col0\" >89.000000</td>\n",
       "      <td id=\"T_e8b9d_row7_col1\" class=\"data row7 col1\" >1.000000</td>\n",
       "      <td id=\"T_e8b9d_row7_col2\" class=\"data row7 col2\" >39.999887</td>\n",
       "      <td id=\"T_e8b9d_row7_col3\" class=\"data row7 col3\" >1.000000</td>\n",
       "      <td id=\"T_e8b9d_row7_col4\" class=\"data row7 col4\" >19.988866</td>\n",
       "      <td id=\"T_e8b9d_row7_col5\" class=\"data row7 col5\" >9.995255</td>\n",
       "      <td id=\"T_e8b9d_row7_col6\" class=\"data row7 col6\" >1.000000</td>\n",
       "      <td id=\"T_e8b9d_row7_col7\" class=\"data row7 col7\" >1.000000</td>\n",
       "      <td id=\"T_e8b9d_row7_col8\" class=\"data row7 col8\" >1.000000</td>\n",
       "      <td id=\"T_e8b9d_row7_col9\" class=\"data row7 col9\" >1.000000</td>\n",
       "      <td id=\"T_e8b9d_row7_col10\" class=\"data row7 col10\" >1.000000</td>\n",
       "      <td id=\"T_e8b9d_row7_col11\" class=\"data row7 col11\" >1.000000</td>\n",
       "      <td id=\"T_e8b9d_row7_col12\" class=\"data row7 col12\" >179.000000</td>\n",
       "      <td id=\"T_e8b9d_row7_col13\" class=\"data row7 col13\" >119.000000</td>\n",
       "      <td id=\"T_e8b9d_row7_col14\" class=\"data row7 col14\" >299.963074</td>\n",
       "      <td id=\"T_e8b9d_row7_col15\" class=\"data row7 col15\" >199.985981</td>\n",
       "      <td id=\"T_e8b9d_row7_col16\" class=\"data row7 col16\" >99.982265</td>\n",
       "      <td id=\"T_e8b9d_row7_col17\" class=\"data row7 col17\" >399.975023</td>\n",
       "      <td id=\"T_e8b9d_row7_col18\" class=\"data row7 col18\" >198.953604</td>\n",
       "      <td id=\"T_e8b9d_row7_col19\" class=\"data row7 col19\" >29.970107</td>\n",
       "      <td id=\"T_e8b9d_row7_col20\" class=\"data row7 col20\" >1.000000</td>\n",
       "      <td id=\"T_e8b9d_row7_col21\" class=\"data row7 col21\" >1.000000</td>\n",
       "      <td id=\"T_e8b9d_row7_col22\" class=\"data row7 col22\" >1.000000</td>\n",
       "      <td id=\"T_e8b9d_row7_col23\" class=\"data row7 col23\" >1.000000</td>\n",
       "      <td id=\"T_e8b9d_row7_col24\" class=\"data row7 col24\" >1.000000</td>\n",
       "      <td id=\"T_e8b9d_row7_col25\" class=\"data row7 col25\" >1.000000</td>\n",
       "      <td id=\"T_e8b9d_row7_col26\" class=\"data row7 col26\" >1.000000</td>\n",
       "      <td id=\"T_e8b9d_row7_col27\" class=\"data row7 col27\" >1.000000</td>\n",
       "    </tr>\n",
       "  </tbody>\n",
       "</table>\n"
      ],
      "text/plain": [
       "<pandas.io.formats.style.Styler at 0x1c1877d97c0>"
      ]
     },
     "execution_count": 51,
     "metadata": {},
     "output_type": "execute_result"
    }
   ],
   "source": [
    "parkinsons_data.describe().style.background_gradient(cmap='plasma')"
   ]
  },
  {
   "cell_type": "code",
   "execution_count": 52,
   "metadata": {},
   "outputs": [
    {
     "data": {
      "text/plain": [
       "Age                         0\n",
       "Gender                      0\n",
       "BMI                         0\n",
       "Smoking                     0\n",
       "AlcoholConsumption          0\n",
       "PhysicalActivity            0\n",
       "FamilyHistoryParkinsons     0\n",
       "TraumaticBrainInjury        0\n",
       "Hypertension                0\n",
       "Diabetes                    0\n",
       "Depression                  0\n",
       "Stroke                      0\n",
       "SystolicBP                  0\n",
       "DiastolicBP                 0\n",
       "CholesterolTotal            0\n",
       "CholesterolLDL              0\n",
       "CholesterolHDL              0\n",
       "CholesterolTriglycerides    0\n",
       "UPDRS                       0\n",
       "MoCA                        0\n",
       "Tremor                      0\n",
       "Rigidity                    0\n",
       "Bradykinesia                0\n",
       "PosturalInstability         0\n",
       "SpeechProblems              0\n",
       "SleepDisorders              0\n",
       "Constipation                0\n",
       "Diagnosis                   0\n",
       "dtype: int64"
      ]
     },
     "execution_count": 52,
     "metadata": {},
     "output_type": "execute_result"
    }
   ],
   "source": [
    "parkinsons_data.isnull().sum()"
   ]
  },
  {
   "cell_type": "code",
   "execution_count": 53,
   "metadata": {},
   "outputs": [
    {
     "data": {
      "text/plain": [
       "0"
      ]
     },
     "execution_count": 53,
     "metadata": {},
     "output_type": "execute_result"
    }
   ],
   "source": [
    "parkinsons_data.duplicated().sum()"
   ]
  },
  {
   "cell_type": "markdown",
   "metadata": {},
   "source": [
    "## Exploratory Data Analysis (EDA)\n"
   ]
  },
  {
   "cell_type": "code",
   "execution_count": 55,
   "metadata": {},
   "outputs": [],
   "source": [
    "import matplotlib.pyplot as plt\n",
    "import seaborn as sns\n",
    "import plotly.graph_objects as go \n",
    "import plotly.express as px"
   ]
  },
  {
   "cell_type": "code",
   "execution_count": 56,
   "metadata": {},
   "outputs": [
    {
     "data": {
      "application/vnd.plotly.v1+json": {
       "config": {
        "plotlyServerURL": "https://plot.ly"
       },
       "data": [
        {
         "domain": {
          "x": [
           0,
           1
          ],
          "y": [
           0,
           1
          ]
         },
         "hovertemplate": "Diagnosis=%{label}<br>value=%{value}<extra></extra>",
         "labels": [
          1,
          0
         ],
         "legendgroup": "",
         "marker": {
          "line": {
           "color": "white",
           "width": 2
          }
         },
         "name": "",
         "showlegend": true,
         "textinfo": "percent+label",
         "textposition": "inside",
         "type": "pie",
         "values": [
          1304,
          801
         ]
        }
       ],
       "layout": {
        "legend": {
         "tracegroupgap": 0
        },
        "margin": {
         "t": 60
        },
        "piecolorway": [
         "rgb(103,0,31)",
         "rgb(178,24,43)",
         "rgb(214,96,77)",
         "rgb(244,165,130)",
         "rgb(253,219,199)",
         "rgb(247,247,247)",
         "rgb(209,229,240)",
         "rgb(146,197,222)",
         "rgb(67,147,195)",
         "rgb(33,102,172)",
         "rgb(5,48,97)"
        ],
        "template": {
         "data": {
          "bar": [
           {
            "error_x": {
             "color": "#2a3f5f"
            },
            "error_y": {
             "color": "#2a3f5f"
            },
            "marker": {
             "line": {
              "color": "#E5ECF6",
              "width": 0.5
             },
             "pattern": {
              "fillmode": "overlay",
              "size": 10,
              "solidity": 0.2
             }
            },
            "type": "bar"
           }
          ],
          "barpolar": [
           {
            "marker": {
             "line": {
              "color": "#E5ECF6",
              "width": 0.5
             },
             "pattern": {
              "fillmode": "overlay",
              "size": 10,
              "solidity": 0.2
             }
            },
            "type": "barpolar"
           }
          ],
          "carpet": [
           {
            "aaxis": {
             "endlinecolor": "#2a3f5f",
             "gridcolor": "white",
             "linecolor": "white",
             "minorgridcolor": "white",
             "startlinecolor": "#2a3f5f"
            },
            "baxis": {
             "endlinecolor": "#2a3f5f",
             "gridcolor": "white",
             "linecolor": "white",
             "minorgridcolor": "white",
             "startlinecolor": "#2a3f5f"
            },
            "type": "carpet"
           }
          ],
          "choropleth": [
           {
            "colorbar": {
             "outlinewidth": 0,
             "ticks": ""
            },
            "type": "choropleth"
           }
          ],
          "contour": [
           {
            "colorbar": {
             "outlinewidth": 0,
             "ticks": ""
            },
            "colorscale": [
             [
              0,
              "#0d0887"
             ],
             [
              0.1111111111111111,
              "#46039f"
             ],
             [
              0.2222222222222222,
              "#7201a8"
             ],
             [
              0.3333333333333333,
              "#9c179e"
             ],
             [
              0.4444444444444444,
              "#bd3786"
             ],
             [
              0.5555555555555556,
              "#d8576b"
             ],
             [
              0.6666666666666666,
              "#ed7953"
             ],
             [
              0.7777777777777778,
              "#fb9f3a"
             ],
             [
              0.8888888888888888,
              "#fdca26"
             ],
             [
              1,
              "#f0f921"
             ]
            ],
            "type": "contour"
           }
          ],
          "contourcarpet": [
           {
            "colorbar": {
             "outlinewidth": 0,
             "ticks": ""
            },
            "type": "contourcarpet"
           }
          ],
          "heatmap": [
           {
            "colorbar": {
             "outlinewidth": 0,
             "ticks": ""
            },
            "colorscale": [
             [
              0,
              "#0d0887"
             ],
             [
              0.1111111111111111,
              "#46039f"
             ],
             [
              0.2222222222222222,
              "#7201a8"
             ],
             [
              0.3333333333333333,
              "#9c179e"
             ],
             [
              0.4444444444444444,
              "#bd3786"
             ],
             [
              0.5555555555555556,
              "#d8576b"
             ],
             [
              0.6666666666666666,
              "#ed7953"
             ],
             [
              0.7777777777777778,
              "#fb9f3a"
             ],
             [
              0.8888888888888888,
              "#fdca26"
             ],
             [
              1,
              "#f0f921"
             ]
            ],
            "type": "heatmap"
           }
          ],
          "heatmapgl": [
           {
            "colorbar": {
             "outlinewidth": 0,
             "ticks": ""
            },
            "colorscale": [
             [
              0,
              "#0d0887"
             ],
             [
              0.1111111111111111,
              "#46039f"
             ],
             [
              0.2222222222222222,
              "#7201a8"
             ],
             [
              0.3333333333333333,
              "#9c179e"
             ],
             [
              0.4444444444444444,
              "#bd3786"
             ],
             [
              0.5555555555555556,
              "#d8576b"
             ],
             [
              0.6666666666666666,
              "#ed7953"
             ],
             [
              0.7777777777777778,
              "#fb9f3a"
             ],
             [
              0.8888888888888888,
              "#fdca26"
             ],
             [
              1,
              "#f0f921"
             ]
            ],
            "type": "heatmapgl"
           }
          ],
          "histogram": [
           {
            "marker": {
             "pattern": {
              "fillmode": "overlay",
              "size": 10,
              "solidity": 0.2
             }
            },
            "type": "histogram"
           }
          ],
          "histogram2d": [
           {
            "colorbar": {
             "outlinewidth": 0,
             "ticks": ""
            },
            "colorscale": [
             [
              0,
              "#0d0887"
             ],
             [
              0.1111111111111111,
              "#46039f"
             ],
             [
              0.2222222222222222,
              "#7201a8"
             ],
             [
              0.3333333333333333,
              "#9c179e"
             ],
             [
              0.4444444444444444,
              "#bd3786"
             ],
             [
              0.5555555555555556,
              "#d8576b"
             ],
             [
              0.6666666666666666,
              "#ed7953"
             ],
             [
              0.7777777777777778,
              "#fb9f3a"
             ],
             [
              0.8888888888888888,
              "#fdca26"
             ],
             [
              1,
              "#f0f921"
             ]
            ],
            "type": "histogram2d"
           }
          ],
          "histogram2dcontour": [
           {
            "colorbar": {
             "outlinewidth": 0,
             "ticks": ""
            },
            "colorscale": [
             [
              0,
              "#0d0887"
             ],
             [
              0.1111111111111111,
              "#46039f"
             ],
             [
              0.2222222222222222,
              "#7201a8"
             ],
             [
              0.3333333333333333,
              "#9c179e"
             ],
             [
              0.4444444444444444,
              "#bd3786"
             ],
             [
              0.5555555555555556,
              "#d8576b"
             ],
             [
              0.6666666666666666,
              "#ed7953"
             ],
             [
              0.7777777777777778,
              "#fb9f3a"
             ],
             [
              0.8888888888888888,
              "#fdca26"
             ],
             [
              1,
              "#f0f921"
             ]
            ],
            "type": "histogram2dcontour"
           }
          ],
          "mesh3d": [
           {
            "colorbar": {
             "outlinewidth": 0,
             "ticks": ""
            },
            "type": "mesh3d"
           }
          ],
          "parcoords": [
           {
            "line": {
             "colorbar": {
              "outlinewidth": 0,
              "ticks": ""
             }
            },
            "type": "parcoords"
           }
          ],
          "pie": [
           {
            "automargin": true,
            "type": "pie"
           }
          ],
          "scatter": [
           {
            "fillpattern": {
             "fillmode": "overlay",
             "size": 10,
             "solidity": 0.2
            },
            "type": "scatter"
           }
          ],
          "scatter3d": [
           {
            "line": {
             "colorbar": {
              "outlinewidth": 0,
              "ticks": ""
             }
            },
            "marker": {
             "colorbar": {
              "outlinewidth": 0,
              "ticks": ""
             }
            },
            "type": "scatter3d"
           }
          ],
          "scattercarpet": [
           {
            "marker": {
             "colorbar": {
              "outlinewidth": 0,
              "ticks": ""
             }
            },
            "type": "scattercarpet"
           }
          ],
          "scattergeo": [
           {
            "marker": {
             "colorbar": {
              "outlinewidth": 0,
              "ticks": ""
             }
            },
            "type": "scattergeo"
           }
          ],
          "scattergl": [
           {
            "marker": {
             "colorbar": {
              "outlinewidth": 0,
              "ticks": ""
             }
            },
            "type": "scattergl"
           }
          ],
          "scattermapbox": [
           {
            "marker": {
             "colorbar": {
              "outlinewidth": 0,
              "ticks": ""
             }
            },
            "type": "scattermapbox"
           }
          ],
          "scatterpolar": [
           {
            "marker": {
             "colorbar": {
              "outlinewidth": 0,
              "ticks": ""
             }
            },
            "type": "scatterpolar"
           }
          ],
          "scatterpolargl": [
           {
            "marker": {
             "colorbar": {
              "outlinewidth": 0,
              "ticks": ""
             }
            },
            "type": "scatterpolargl"
           }
          ],
          "scatterternary": [
           {
            "marker": {
             "colorbar": {
              "outlinewidth": 0,
              "ticks": ""
             }
            },
            "type": "scatterternary"
           }
          ],
          "surface": [
           {
            "colorbar": {
             "outlinewidth": 0,
             "ticks": ""
            },
            "colorscale": [
             [
              0,
              "#0d0887"
             ],
             [
              0.1111111111111111,
              "#46039f"
             ],
             [
              0.2222222222222222,
              "#7201a8"
             ],
             [
              0.3333333333333333,
              "#9c179e"
             ],
             [
              0.4444444444444444,
              "#bd3786"
             ],
             [
              0.5555555555555556,
              "#d8576b"
             ],
             [
              0.6666666666666666,
              "#ed7953"
             ],
             [
              0.7777777777777778,
              "#fb9f3a"
             ],
             [
              0.8888888888888888,
              "#fdca26"
             ],
             [
              1,
              "#f0f921"
             ]
            ],
            "type": "surface"
           }
          ],
          "table": [
           {
            "cells": {
             "fill": {
              "color": "#EBF0F8"
             },
             "line": {
              "color": "white"
             }
            },
            "header": {
             "fill": {
              "color": "#C8D4E3"
             },
             "line": {
              "color": "white"
             }
            },
            "type": "table"
           }
          ]
         },
         "layout": {
          "annotationdefaults": {
           "arrowcolor": "#2a3f5f",
           "arrowhead": 0,
           "arrowwidth": 1
          },
          "autotypenumbers": "strict",
          "coloraxis": {
           "colorbar": {
            "outlinewidth": 0,
            "ticks": ""
           }
          },
          "colorscale": {
           "diverging": [
            [
             0,
             "#8e0152"
            ],
            [
             0.1,
             "#c51b7d"
            ],
            [
             0.2,
             "#de77ae"
            ],
            [
             0.3,
             "#f1b6da"
            ],
            [
             0.4,
             "#fde0ef"
            ],
            [
             0.5,
             "#f7f7f7"
            ],
            [
             0.6,
             "#e6f5d0"
            ],
            [
             0.7,
             "#b8e186"
            ],
            [
             0.8,
             "#7fbc41"
            ],
            [
             0.9,
             "#4d9221"
            ],
            [
             1,
             "#276419"
            ]
           ],
           "sequential": [
            [
             0,
             "#0d0887"
            ],
            [
             0.1111111111111111,
             "#46039f"
            ],
            [
             0.2222222222222222,
             "#7201a8"
            ],
            [
             0.3333333333333333,
             "#9c179e"
            ],
            [
             0.4444444444444444,
             "#bd3786"
            ],
            [
             0.5555555555555556,
             "#d8576b"
            ],
            [
             0.6666666666666666,
             "#ed7953"
            ],
            [
             0.7777777777777778,
             "#fb9f3a"
            ],
            [
             0.8888888888888888,
             "#fdca26"
            ],
            [
             1,
             "#f0f921"
            ]
           ],
           "sequentialminus": [
            [
             0,
             "#0d0887"
            ],
            [
             0.1111111111111111,
             "#46039f"
            ],
            [
             0.2222222222222222,
             "#7201a8"
            ],
            [
             0.3333333333333333,
             "#9c179e"
            ],
            [
             0.4444444444444444,
             "#bd3786"
            ],
            [
             0.5555555555555556,
             "#d8576b"
            ],
            [
             0.6666666666666666,
             "#ed7953"
            ],
            [
             0.7777777777777778,
             "#fb9f3a"
            ],
            [
             0.8888888888888888,
             "#fdca26"
            ],
            [
             1,
             "#f0f921"
            ]
           ]
          },
          "colorway": [
           "#636efa",
           "#EF553B",
           "#00cc96",
           "#ab63fa",
           "#FFA15A",
           "#19d3f3",
           "#FF6692",
           "#B6E880",
           "#FF97FF",
           "#FECB52"
          ],
          "font": {
           "color": "#2a3f5f"
          },
          "geo": {
           "bgcolor": "white",
           "lakecolor": "white",
           "landcolor": "#E5ECF6",
           "showlakes": true,
           "showland": true,
           "subunitcolor": "white"
          },
          "hoverlabel": {
           "align": "left"
          },
          "hovermode": "closest",
          "mapbox": {
           "style": "light"
          },
          "paper_bgcolor": "white",
          "plot_bgcolor": "#E5ECF6",
          "polar": {
           "angularaxis": {
            "gridcolor": "white",
            "linecolor": "white",
            "ticks": ""
           },
           "bgcolor": "#E5ECF6",
           "radialaxis": {
            "gridcolor": "white",
            "linecolor": "white",
            "ticks": ""
           }
          },
          "scene": {
           "xaxis": {
            "backgroundcolor": "#E5ECF6",
            "gridcolor": "white",
            "gridwidth": 2,
            "linecolor": "white",
            "showbackground": true,
            "ticks": "",
            "zerolinecolor": "white"
           },
           "yaxis": {
            "backgroundcolor": "#E5ECF6",
            "gridcolor": "white",
            "gridwidth": 2,
            "linecolor": "white",
            "showbackground": true,
            "ticks": "",
            "zerolinecolor": "white"
           },
           "zaxis": {
            "backgroundcolor": "#E5ECF6",
            "gridcolor": "white",
            "gridwidth": 2,
            "linecolor": "white",
            "showbackground": true,
            "ticks": "",
            "zerolinecolor": "white"
           }
          },
          "shapedefaults": {
           "line": {
            "color": "#2a3f5f"
           }
          },
          "ternary": {
           "aaxis": {
            "gridcolor": "white",
            "linecolor": "white",
            "ticks": ""
           },
           "baxis": {
            "gridcolor": "white",
            "linecolor": "white",
            "ticks": ""
           },
           "bgcolor": "#E5ECF6",
           "caxis": {
            "gridcolor": "white",
            "linecolor": "white",
            "ticks": ""
           }
          },
          "title": {
           "x": 0.05
          },
          "xaxis": {
           "automargin": true,
           "gridcolor": "white",
           "linecolor": "white",
           "ticks": "",
           "title": {
            "standoff": 15
           },
           "zerolinecolor": "white",
           "zerolinewidth": 2
          },
          "yaxis": {
           "automargin": true,
           "gridcolor": "white",
           "linecolor": "white",
           "ticks": "",
           "title": {
            "standoff": 15
           },
           "zerolinecolor": "white",
           "zerolinewidth": 2
          }
         }
        }
       }
      }
     },
     "metadata": {},
     "output_type": "display_data"
    }
   ],
   "source": [
    "target_counts = parkinsons_data['Diagnosis'].value_counts()\n",
    "\n",
    "fig = px.pie(target_counts, \n",
    "             values=target_counts.values, \n",
    "             names=target_counts.index, \n",
    "             color_discrete_sequence=px.colors.sequential.RdBu)\n",
    "\n",
    "fig.update_traces(textposition='inside', \n",
    "                  textinfo='percent+label', \n",
    "                  marker=dict(line=dict(color='white', width=2)))\n",
    "\n",
    "fig.show()\n"
   ]
  },
  {
   "cell_type": "code",
   "execution_count": 57,
   "metadata": {},
   "outputs": [
    {
     "data": {
      "image/png": "[encoded data removed]",
      "text/plain": [
       "<Figure size 800x600 with 1 Axes>"
      ]
     },
     "metadata": {},
     "output_type": "display_data"
    }
   ],
   "source": [
    "plt.figure(figsize=(8, 6))\n",
    "sns.histplot(parkinsons_data, x=\"Age\", hue=\"Diagnosis\", kde=True, bins=30, palette=\"coolwarm\", alpha=0.6)\n",
    "\n",
    "plt.xlabel(\"Age\")\n",
    "plt.ylabel(\"Count\")\n",
    "plt.title(\"Age Distribution by Parkinson's Diagnosis\")\n",
    "\n",
    "plt.show()\n"
   ]
  },
  {
   "cell_type": "code",
   "execution_count": 58,
   "metadata": {},
   "outputs": [
    {
     "data": {
      "image/png": "[encoded data removed]",
      "text/plain": [
       "<Figure size 1200x500 with 1 Axes>"
      ]
     },
     "metadata": {},
     "output_type": "display_data"
    }
   ],
   "source": [
    "plt.figure(figsize=(12, 5))\n",
    "sns.histplot(parkinsons_data['Age'], bins=20, kde=True, color='blue')\n",
    "plt.title('Distribution of Age')\n",
    "plt.xlabel('Age')\n",
    "plt.ylabel('Frequency')\n",
    "plt.show()"
   ]
  },
  {
   "cell_type": "code",
   "execution_count": 59,
   "metadata": {},
   "outputs": [
    {
     "data": {
      "image/png": "[encoded data removed]",
      "text/plain": [
       "<Figure size 1000x800 with 2 Axes>"
      ]
     },
     "metadata": {},
     "output_type": "display_data"
    }
   ],
   "source": [
    "numerical_columns = [\n",
    "    'Age', 'BMI', 'SystolicBP', 'DiastolicBP', 'CholesterolTotal',\n",
    "    'CholesterolLDL', 'CholesterolHDL', 'CholesterolTriglycerides', 'UPDRS',\n",
    "    'MoCA'\n",
    "]\n",
    "\n",
    "plt.figure(figsize=(10, 8))\n",
    "numeric_data = parkinsons_data[numerical_columns]\n",
    "sns.heatmap(numeric_data.corr(), annot=True, cmap='coolwarm', fmt='.2f')\n",
    "plt.title('Correlation Heatmap')\n",
    "plt.show()"
   ]
  },
  {
   "cell_type": "markdown",
   "metadata": {},
   "source": [
    "## Splitting the Features and Target"
   ]
  },
  {
   "cell_type": "code",
   "execution_count": 60,
   "metadata": {},
   "outputs": [],
   "source": [
    "Features=parkinsons_data.drop(columns='Diagnosis',axis=1)\n",
    "Target=parkinsons_data['Diagnosis']"
   ]
  },
  {
   "cell_type": "code",
   "execution_count": 61,
   "metadata": {},
   "outputs": [
    {
     "data": {
      "text/html": [
       "<div>\n",
       "<style scoped>\n",
       "    .dataframe tbody tr th:only-of-type {\n",
       "        vertical-align: middle;\n",
       "    }\n",
       "\n",
       "    .dataframe tbody tr th {\n",
       "        vertical-align: top;\n",
       "    }\n",
       "\n",
       "    .dataframe thead th {\n",
       "        text-align: right;\n",
       "    }\n",
       "</style>\n",
       "<table border=\"1\" class=\"dataframe\">\n",
       "  <thead>\n",
       "    <tr style=\"text-align: right;\">\n",
       "      <th></th>\n",
       "      <th>Age</th>\n",
       "      <th>Gender</th>\n",
       "      <th>BMI</th>\n",
       "      <th>Smoking</th>\n",
       "      <th>AlcoholConsumption</th>\n",
       "      <th>PhysicalActivity</th>\n",
       "      <th>FamilyHistoryParkinsons</th>\n",
       "      <th>TraumaticBrainInjury</th>\n",
       "      <th>Hypertension</th>\n",
       "      <th>Diabetes</th>\n",
       "      <th>...</th>\n",
       "      <th>CholesterolTriglycerides</th>\n",
       "      <th>UPDRS</th>\n",
       "      <th>MoCA</th>\n",
       "      <th>Tremor</th>\n",
       "      <th>Rigidity</th>\n",
       "      <th>Bradykinesia</th>\n",
       "      <th>PosturalInstability</th>\n",
       "      <th>SpeechProblems</th>\n",
       "      <th>SleepDisorders</th>\n",
       "      <th>Constipation</th>\n",
       "    </tr>\n",
       "  </thead>\n",
       "  <tbody>\n",
       "    <tr>\n",
       "      <th>0</th>\n",
       "      <td>85</td>\n",
       "      <td>0</td>\n",
       "      <td>19.619878</td>\n",
       "      <td>0</td>\n",
       "      <td>5.108241</td>\n",
       "      <td>1.380660</td>\n",
       "      <td>0</td>\n",
       "      <td>0</td>\n",
       "      <td>0</td>\n",
       "      <td>0</td>\n",
       "      <td>...</td>\n",
       "      <td>337.307114</td>\n",
       "      <td>6.458713</td>\n",
       "      <td>29.181289</td>\n",
       "      <td>1</td>\n",
       "      <td>0</td>\n",
       "      <td>0</td>\n",
       "      <td>0</td>\n",
       "      <td>0</td>\n",
       "      <td>0</td>\n",
       "      <td>0</td>\n",
       "    </tr>\n",
       "    <tr>\n",
       "      <th>1</th>\n",
       "      <td>75</td>\n",
       "      <td>0</td>\n",
       "      <td>16.247339</td>\n",
       "      <td>1</td>\n",
       "      <td>6.027648</td>\n",
       "      <td>8.409804</td>\n",
       "      <td>0</td>\n",
       "      <td>0</td>\n",
       "      <td>0</td>\n",
       "      <td>0</td>\n",
       "      <td>...</td>\n",
       "      <td>264.635521</td>\n",
       "      <td>37.306703</td>\n",
       "      <td>12.332639</td>\n",
       "      <td>0</td>\n",
       "      <td>1</td>\n",
       "      <td>0</td>\n",
       "      <td>1</td>\n",
       "      <td>0</td>\n",
       "      <td>1</td>\n",
       "      <td>0</td>\n",
       "    </tr>\n",
       "    <tr>\n",
       "      <th>2</th>\n",
       "      <td>70</td>\n",
       "      <td>1</td>\n",
       "      <td>15.368239</td>\n",
       "      <td>0</td>\n",
       "      <td>2.242135</td>\n",
       "      <td>0.213275</td>\n",
       "      <td>0</td>\n",
       "      <td>0</td>\n",
       "      <td>0</td>\n",
       "      <td>1</td>\n",
       "      <td>...</td>\n",
       "      <td>395.662649</td>\n",
       "      <td>67.838170</td>\n",
       "      <td>29.927783</td>\n",
       "      <td>1</td>\n",
       "      <td>0</td>\n",
       "      <td>0</td>\n",
       "      <td>0</td>\n",
       "      <td>1</td>\n",
       "      <td>0</td>\n",
       "      <td>1</td>\n",
       "    </tr>\n",
       "    <tr>\n",
       "      <th>3</th>\n",
       "      <td>52</td>\n",
       "      <td>0</td>\n",
       "      <td>15.454557</td>\n",
       "      <td>0</td>\n",
       "      <td>5.997788</td>\n",
       "      <td>1.375045</td>\n",
       "      <td>0</td>\n",
       "      <td>0</td>\n",
       "      <td>0</td>\n",
       "      <td>0</td>\n",
       "      <td>...</td>\n",
       "      <td>362.189688</td>\n",
       "      <td>52.964696</td>\n",
       "      <td>21.304268</td>\n",
       "      <td>1</td>\n",
       "      <td>1</td>\n",
       "      <td>1</td>\n",
       "      <td>0</td>\n",
       "      <td>0</td>\n",
       "      <td>0</td>\n",
       "      <td>1</td>\n",
       "    </tr>\n",
       "    <tr>\n",
       "      <th>4</th>\n",
       "      <td>87</td>\n",
       "      <td>0</td>\n",
       "      <td>18.616042</td>\n",
       "      <td>0</td>\n",
       "      <td>9.775243</td>\n",
       "      <td>1.188607</td>\n",
       "      <td>0</td>\n",
       "      <td>0</td>\n",
       "      <td>0</td>\n",
       "      <td>0</td>\n",
       "      <td>...</td>\n",
       "      <td>149.956586</td>\n",
       "      <td>21.804880</td>\n",
       "      <td>8.336364</td>\n",
       "      <td>0</td>\n",
       "      <td>0</td>\n",
       "      <td>0</td>\n",
       "      <td>1</td>\n",
       "      <td>0</td>\n",
       "      <td>1</td>\n",
       "      <td>0</td>\n",
       "    </tr>\n",
       "    <tr>\n",
       "      <th>...</th>\n",
       "      <td>...</td>\n",
       "      <td>...</td>\n",
       "      <td>...</td>\n",
       "      <td>...</td>\n",
       "      <td>...</td>\n",
       "      <td>...</td>\n",
       "      <td>...</td>\n",
       "      <td>...</td>\n",
       "      <td>...</td>\n",
       "      <td>...</td>\n",
       "      <td>...</td>\n",
       "      <td>...</td>\n",
       "      <td>...</td>\n",
       "      <td>...</td>\n",
       "      <td>...</td>\n",
       "      <td>...</td>\n",
       "      <td>...</td>\n",
       "      <td>...</td>\n",
       "      <td>...</td>\n",
       "      <td>...</td>\n",
       "      <td>...</td>\n",
       "    </tr>\n",
       "    <tr>\n",
       "      <th>2100</th>\n",
       "      <td>87</td>\n",
       "      <td>1</td>\n",
       "      <td>38.483841</td>\n",
       "      <td>0</td>\n",
       "      <td>12.674393</td>\n",
       "      <td>5.325900</td>\n",
       "      <td>0</td>\n",
       "      <td>0</td>\n",
       "      <td>1</td>\n",
       "      <td>0</td>\n",
       "      <td>...</td>\n",
       "      <td>161.291730</td>\n",
       "      <td>187.887925</td>\n",
       "      <td>28.634010</td>\n",
       "      <td>1</td>\n",
       "      <td>0</td>\n",
       "      <td>0</td>\n",
       "      <td>0</td>\n",
       "      <td>1</td>\n",
       "      <td>1</td>\n",
       "      <td>0</td>\n",
       "    </tr>\n",
       "    <tr>\n",
       "      <th>2101</th>\n",
       "      <td>67</td>\n",
       "      <td>0</td>\n",
       "      <td>33.694396</td>\n",
       "      <td>1</td>\n",
       "      <td>0.977018</td>\n",
       "      <td>0.108599</td>\n",
       "      <td>1</td>\n",
       "      <td>0</td>\n",
       "      <td>0</td>\n",
       "      <td>0</td>\n",
       "      <td>...</td>\n",
       "      <td>240.086616</td>\n",
       "      <td>172.325253</td>\n",
       "      <td>13.106537</td>\n",
       "      <td>0</td>\n",
       "      <td>0</td>\n",
       "      <td>0</td>\n",
       "      <td>1</td>\n",
       "      <td>0</td>\n",
       "      <td>1</td>\n",
       "      <td>1</td>\n",
       "    </tr>\n",
       "    <tr>\n",
       "      <th>2102</th>\n",
       "      <td>65</td>\n",
       "      <td>0</td>\n",
       "      <td>22.829631</td>\n",
       "      <td>0</td>\n",
       "      <td>6.152286</td>\n",
       "      <td>5.775103</td>\n",
       "      <td>1</td>\n",
       "      <td>0</td>\n",
       "      <td>0</td>\n",
       "      <td>1</td>\n",
       "      <td>...</td>\n",
       "      <td>222.231014</td>\n",
       "      <td>111.851581</td>\n",
       "      <td>26.527734</td>\n",
       "      <td>0</td>\n",
       "      <td>0</td>\n",
       "      <td>0</td>\n",
       "      <td>0</td>\n",
       "      <td>1</td>\n",
       "      <td>1</td>\n",
       "      <td>0</td>\n",
       "    </tr>\n",
       "    <tr>\n",
       "      <th>2103</th>\n",
       "      <td>61</td>\n",
       "      <td>1</td>\n",
       "      <td>16.871030</td>\n",
       "      <td>1</td>\n",
       "      <td>0.292094</td>\n",
       "      <td>2.280475</td>\n",
       "      <td>0</td>\n",
       "      <td>0</td>\n",
       "      <td>0</td>\n",
       "      <td>0</td>\n",
       "      <td>...</td>\n",
       "      <td>167.980929</td>\n",
       "      <td>144.474453</td>\n",
       "      <td>19.873404</td>\n",
       "      <td>1</td>\n",
       "      <td>0</td>\n",
       "      <td>1</td>\n",
       "      <td>0</td>\n",
       "      <td>0</td>\n",
       "      <td>1</td>\n",
       "      <td>1</td>\n",
       "    </tr>\n",
       "    <tr>\n",
       "      <th>2104</th>\n",
       "      <td>56</td>\n",
       "      <td>0</td>\n",
       "      <td>16.569934</td>\n",
       "      <td>0</td>\n",
       "      <td>1.985084</td>\n",
       "      <td>1.400441</td>\n",
       "      <td>0</td>\n",
       "      <td>0</td>\n",
       "      <td>0</td>\n",
       "      <td>0</td>\n",
       "      <td>...</td>\n",
       "      <td>194.476929</td>\n",
       "      <td>30.797680</td>\n",
       "      <td>12.192612</td>\n",
       "      <td>0</td>\n",
       "      <td>0</td>\n",
       "      <td>0</td>\n",
       "      <td>0</td>\n",
       "      <td>1</td>\n",
       "      <td>0</td>\n",
       "      <td>1</td>\n",
       "    </tr>\n",
       "  </tbody>\n",
       "</table>\n",
       "<p>2105 rows × 27 columns</p>\n",
       "</div>"
      ],
      "text/plain": [
       "      Age  Gender        BMI  Smoking  AlcoholConsumption  PhysicalActivity  \\\n",
       "0      85       0  19.619878        0            5.108241          1.380660   \n",
       "1      75       0  16.247339        1            6.027648          8.409804   \n",
       "2      70       1  15.368239        0            2.242135          0.213275   \n",
       "3      52       0  15.454557        0            5.997788          1.375045   \n",
       "4      87       0  18.616042        0            9.775243          1.188607   \n",
       "...   ...     ...        ...      ...                 ...               ...   \n",
       "2100   87       1  38.483841        0           12.674393          5.325900   \n",
       "2101   67       0  33.694396        1            0.977018          0.108599   \n",
       "2102   65       0  22.829631        0            6.152286          5.775103   \n",
       "2103   61       1  16.871030        1            0.292094          2.280475   \n",
       "2104   56       0  16.569934        0            1.985084          1.400441   \n",
       "\n",
       "      FamilyHistoryParkinsons  TraumaticBrainInjury  Hypertension  Diabetes  \\\n",
       "0                           0                     0             0         0   \n",
       "1                           0                     0             0         0   \n",
       "2                           0                     0             0         1   \n",
       "3                           0                     0             0         0   \n",
       "4                           0                     0             0         0   \n",
       "...                       ...                   ...           ...       ...   \n",
       "2100                        0                     0             1         0   \n",
       "2101                        1                     0             0         0   \n",
       "2102                        1                     0             0         1   \n",
       "2103                        0                     0             0         0   \n",
       "2104                        0                     0             0         0   \n",
       "\n",
       "      ...  CholesterolTriglycerides       UPDRS       MoCA  Tremor  Rigidity  \\\n",
       "0     ...                337.307114    6.458713  29.181289       1         0   \n",
       "1     ...                264.635521   37.306703  12.332639       0         1   \n",
       "2     ...                395.662649   67.838170  29.927783       1         0   \n",
       "3     ...                362.189688   52.964696  21.304268       1         1   \n",
       "4     ...                149.956586   21.804880   8.336364       0         0   \n",
       "...   ...                       ...         ...        ...     ...       ...   \n",
       "2100  ...                161.291730  187.887925  28.634010       1         0   \n",
       "2101  ...                240.086616  172.325253  13.106537       0         0   \n",
       "2102  ...                222.231014  111.851581  26.527734       0         0   \n",
       "2103  ...                167.980929  144.474453  19.873404       1         0   \n",
       "2104  ...                194.476929   30.797680  12.192612       0         0   \n",
       "\n",
       "      Bradykinesia  PosturalInstability  SpeechProblems  SleepDisorders  \\\n",
       "0                0                    0               0               0   \n",
       "1                0                    1               0               1   \n",
       "2                0                    0               1               0   \n",
       "3                1                    0               0               0   \n",
       "4                0                    1               0               1   \n",
       "...            ...                  ...             ...             ...   \n",
       "2100             0                    0               1               1   \n",
       "2101             0                    1               0               1   \n",
       "2102             0                    0               1               1   \n",
       "2103             1                    0               0               1   \n",
       "2104             0                    0               1               0   \n",
       "\n",
       "      Constipation  \n",
       "0                0  \n",
       "1                0  \n",
       "2                1  \n",
       "3                1  \n",
       "4                0  \n",
       "...            ...  \n",
       "2100             0  \n",
       "2101             1  \n",
       "2102             0  \n",
       "2103             1  \n",
       "2104             1  \n",
       "\n",
       "[2105 rows x 27 columns]"
      ]
     },
     "execution_count": 61,
     "metadata": {},
     "output_type": "execute_result"
    }
   ],
   "source": [
    "Features"
   ]
  },
  {
   "cell_type": "code",
   "execution_count": 62,
   "metadata": {},
   "outputs": [
    {
     "data": {
      "text/plain": [
       "0       0\n",
       "1       1\n",
       "2       1\n",
       "3       1\n",
       "4       0\n",
       "       ..\n",
       "2100    0\n",
       "2101    1\n",
       "2102    1\n",
       "2103    1\n",
       "2104    0\n",
       "Name: Diagnosis, Length: 2105, dtype: int64"
      ]
     },
     "execution_count": 62,
     "metadata": {},
     "output_type": "execute_result"
    }
   ],
   "source": [
    "Target"
   ]
  },
  {
   "cell_type": "markdown",
   "metadata": {},
   "source": [
    "## The model "
   ]
  },
  {
   "cell_type": "code",
   "execution_count": 63,
   "metadata": {},
   "outputs": [],
   "source": [
    "from sklearn.model_selection import train_test_split\n",
    "from sklearn.metrics import classification_report\n",
    "from sklearn.ensemble import GradientBoostingClassifier\n",
    "from sklearn.metrics import accuracy_score, precision_score, recall_score, f1_score, roc_auc_score"
   ]
  },
  {
   "cell_type": "markdown",
   "metadata": {},
   "source": [
    "## Splitting the Data into Training data & Test Data"
   ]
  },
  {
   "cell_type": "code",
   "execution_count": 64,
   "metadata": {},
   "outputs": [],
   "source": [
    "X_train,X_test,y_train,y_test=train_test_split(Features,Target,test_size=0.2,random_state=42)"
   ]
  },
  {
   "cell_type": "markdown",
   "metadata": {},
   "source": [
    "##  Define Gradient Boosting classifier\n"
   ]
  },
  {
   "cell_type": "code",
   "execution_count": 68,
   "metadata": {},
   "outputs": [],
   "source": [
    "model = GradientBoostingClassifier()\n",
    "\n",
    "model.fit(X_train, y_train)\n",
    "\n",
    "y_train_pred = model.predict(X_train)\n",
    "y_test_pred = model.predict(X_test)\n"
   ]
  },
  {
   "cell_type": "markdown",
   "metadata": {},
   "source": [
    "## Accuracy Score"
   ]
  },
  {
   "cell_type": "code",
   "execution_count": 69,
   "metadata": {},
   "outputs": [
    {
     "name": "stdout",
     "output_type": "stream",
     "text": [
      "Gradient Boosting Train Accuracy: 92.58%\n",
      "Gradient Boosting Test Accuracy: 84.32%\n",
      "              precision    recall  f1-score   support\n",
      "\n",
      "           0       0.76      0.81      0.79       150\n",
      "           1       0.89      0.86      0.88       271\n",
      "\n",
      "    accuracy                           0.84       421\n",
      "   macro avg       0.83      0.84      0.83       421\n",
      "weighted avg       0.85      0.84      0.84       421\n",
      "\n"
     ]
    }
   ],
   "source": [
    "train_acc = accuracy_score(y_train, y_train_pred) * 100\n",
    "test_acc = accuracy_score(y_test, y_test_pred) * 100\n",
    "\n",
    "\n",
    "print(f\"Gradient Boosting Train Accuracy: {train_acc:.2f}%\")\n",
    "print(f\"Gradient Boosting Test Accuracy: {test_acc:.2f}%\")\n",
    "\n",
    "print(classification_report(y_test, y_test_pred))"
   ]
  },
  {
   "cell_type": "code",
   "execution_count": null,
   "metadata": {},
   "outputs": [
    {
     "data": {
      "image/png": "[encoded data removed]",
      "text/plain": [
       "<Figure size 800x500 with 1 Axes>"
      ]
     },
     "metadata": {},
     "output_type": "display_data"
    }
   ],
   "source": [
    "models = ['Parkinson’s Model']\n",
    "training_accuracy = [92.58]\n",
    "testing_accuracy = [84.32]\n",
    "\n",
    "x = np.arange(len(models))  \n",
    "width = 0.3  \n",
    "spacing = 0.2  \n",
    "\n",
    "fig, ax = plt.subplots(figsize=(8, 5))\n",
    "\n",
    "bars1 = ax.barh(x - (width + spacing)/2, training_accuracy, width, label='Training Accuracy', color='lightseagreen')\n",
    "bars2 = ax.barh(x + (width + spacing)/2, testing_accuracy, width, label='Testing Accuracy', color='seagreen')\n",
    "\n",
    "ax.set_xlabel('Accuracy (%)')\n",
    "ax.set_ylabel('Models')\n",
    "ax.set_yticks(x)\n",
    "ax.set_yticklabels(models)\n",
    "ax.legend()\n",
    "\n",
    "for bars in [bars1, bars2]:\n",
    "    for bar in bars:\n",
    "        ax.text(bar.get_width() + 1, bar.get_y() + bar.get_height()/2, f'{bar.get_width()}%', va='center', fontsize=10)\n",
    "\n",
    "plt.show()\n"
   ]
  },
  {
   "cell_type": "markdown",
   "metadata": {},
   "source": [
    "## Test model"
   ]
  },
  {
   "cell_type": "code",
   "execution_count": 74,
   "metadata": {},
   "outputs": [
    {
     "name": "stdout",
     "output_type": "stream",
     "text": [
      "[1]\n",
      "The Person has Heart Disease\n"
     ]
    },
    {
     "name": "stderr",
     "output_type": "stream",
     "text": [
      "c:\\Users\\lenovo\\AppData\\Local\\Programs\\Python\\Python312\\Lib\\site-packages\\sklearn\\base.py:493: UserWarning:\n",
      "\n",
      "X does not have valid feature names, but GradientBoostingClassifier was fitted with feature names\n",
      "\n"
     ]
    }
   ],
   "source": [
    "input_data = (70,1,15.36823871,0,2.242135331,0.213274591,0,0,0,1,0,0,113,93,287.3879957,118.7025999,85.5883043,395.662649,67.83817038,29.92778257,1,0,0,0,1,0,1)\n",
    "\n",
    "# change the input data to a numpy array\n",
    "input_data_as_numpy_array= np.asarray(input_data)\n",
    "\n",
    "# reshape the numpy array as we are predicting for only on instance\n",
    "input_data_reshaped = input_data_as_numpy_array.reshape(1,-1)\n",
    "\n",
    "prediction = model.predict(input_data_reshaped)\n",
    "print(prediction)\n",
    "\n",
    "if (prediction[0]== 0):\n",
    "  print('The Person does not have a Heart Disease')\n",
    "else:\n",
    "  print('The Person has Heart Disease')\n"
   ]
  },
  {
   "cell_type": "markdown",
   "metadata": {},
   "source": [
    "## Saving the trained model"
   ]
  },
  {
   "cell_type": "code",
   "execution_count": 71,
   "metadata": {},
   "outputs": [],
   "source": [
    "import pickle"
   ]
  },
  {
   "cell_type": "code",
   "execution_count": 72,
   "metadata": {},
   "outputs": [],
   "source": [
    "filename = 'parkinsons_data_model.sav'\n",
    "pickle.dump(model, open(filename, 'wb'))"
   ]
  },
  {
   "cell_type": "code",
   "execution_count": 73,
   "metadata": {},
   "outputs": [],
   "source": [
    "loaded_model = pickle.load(open('parkinsons_data_model.sav', 'rb'))"
   ]
  }
 ],
 "metadata": {
  "kernelspec": {
   "display_name": "Python 3",
   "language": "python",
   "name": "python3"
  },
  "language_info": {
   "codemirror_mode": {
    "name": "ipython",
    "version": 3
   },
   "file_extension": ".py",
   "mimetype": "text/x-python",
   "name": "python",
   "nbconvert_exporter": "python",
   "pygments_lexer": "ipython3",
   "version": "3.12.2"
  }
 },
 "nbformat": 4,
 "nbformat_minor": 2
}
