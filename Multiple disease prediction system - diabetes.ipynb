{
 "cells": [
  {
   "cell_type": "markdown",
   "metadata": {},
   "source": [
    "# Diabetes Disease Dataset Analysis and Machine Learning\n"
   ]
  },
  {
   "cell_type": "markdown",
   "metadata": {},
   "source": [
    "---"
   ]
  },
  {
   "cell_type": "markdown",
   "metadata": {
    "id": "LnPbntVRnfvV"
   },
   "source": [
    "## Importing the Dependencies"
   ]
  },
  {
   "cell_type": "code",
   "execution_count": 1,
   "metadata": {
    "executionInfo": {
     "elapsed": 1362,
     "status": "ok",
     "timestamp": 1653200161038,
     "user": {
      "displayName": "siddhardh selvam",
      "userId": "13966379820454708749"
     },
     "user_tz": -330
    },
    "id": "-71UtHzNVWjB"
   },
   "outputs": [],
   "source": [
    "import numpy as np\n",
    "import pandas as pd\n",
    "from sklearn.model_selection import train_test_split\n",
    "from sklearn import svm\n",
    "from sklearn.metrics import accuracy_score"
   ]
  },
  {
   "cell_type": "markdown",
   "metadata": {
    "id": "bmfOfG8joBBy"
   },
   "source": [
    "## Data Collection and Analysis\n"
   ]
  },
  {
   "cell_type": "code",
   "execution_count": 2,
   "metadata": {
    "executionInfo": {
     "elapsed": 37,
     "status": "ok",
     "timestamp": 1653200161039,
     "user": {
      "displayName": "siddhardh selvam",
      "userId": "13966379820454708749"
     },
     "user_tz": -330
    },
    "id": "Xpw6Mj_pn_TL"
   },
   "outputs": [],
   "source": [
    "diabetes_dataset = pd.read_csv(r'E:/College/Training/NTI/multiple-disease-prediction-streamlit-app-main/dataset/imbalanced_diabetes.csv') "
   ]
  },
  {
   "cell_type": "code",
   "execution_count": 3,
   "metadata": {
    "colab": {
     "base_uri": "https://localhost:8080/",
     "height": 206
    },
    "executionInfo": {
     "elapsed": 36,
     "status": "ok",
     "timestamp": 1653200161040,
     "user": {
      "displayName": "siddhardh selvam",
      "userId": "13966379820454708749"
     },
     "user_tz": -330
    },
    "id": "-tjO09ncovoh",
    "outputId": "f4faaf8a-3fc8-413a-bbd4-bb272589a73c"
   },
   "outputs": [
    {
     "data": {
      "text/html": [
       "<div>\n",
       "<style scoped>\n",
       "    .dataframe tbody tr th:only-of-type {\n",
       "        vertical-align: middle;\n",
       "    }\n",
       "\n",
       "    .dataframe tbody tr th {\n",
       "        vertical-align: top;\n",
       "    }\n",
       "\n",
       "    .dataframe thead th {\n",
       "        text-align: right;\n",
       "    }\n",
       "</style>\n",
       "<table border=\"1\" class=\"dataframe\">\n",
       "  <thead>\n",
       "    <tr style=\"text-align: right;\">\n",
       "      <th></th>\n",
       "      <th>Pregnancies</th>\n",
       "      <th>Glucose</th>\n",
       "      <th>BloodPressure</th>\n",
       "      <th>SkinThickness</th>\n",
       "      <th>Insulin</th>\n",
       "      <th>BMI</th>\n",
       "      <th>DiabetesPedigreeFunction</th>\n",
       "      <th>Age</th>\n",
       "      <th>Outcome</th>\n",
       "    </tr>\n",
       "  </thead>\n",
       "  <tbody>\n",
       "    <tr>\n",
       "      <th>0</th>\n",
       "      <td>1</td>\n",
       "      <td>79</td>\n",
       "      <td>80</td>\n",
       "      <td>25</td>\n",
       "      <td>37</td>\n",
       "      <td>25.4</td>\n",
       "      <td>0.6</td>\n",
       "      <td>22</td>\n",
       "      <td>0</td>\n",
       "    </tr>\n",
       "    <tr>\n",
       "      <th>1</th>\n",
       "      <td>9</td>\n",
       "      <td>91</td>\n",
       "      <td>68</td>\n",
       "      <td>0</td>\n",
       "      <td>0</td>\n",
       "      <td>24.2</td>\n",
       "      <td>0.2</td>\n",
       "      <td>58</td>\n",
       "      <td>0</td>\n",
       "    </tr>\n",
       "    <tr>\n",
       "      <th>2</th>\n",
       "      <td>6</td>\n",
       "      <td>123</td>\n",
       "      <td>70</td>\n",
       "      <td>34</td>\n",
       "      <td>219</td>\n",
       "      <td>25.4</td>\n",
       "      <td>0.2</td>\n",
       "      <td>37</td>\n",
       "      <td>0</td>\n",
       "    </tr>\n",
       "    <tr>\n",
       "      <th>3</th>\n",
       "      <td>6</td>\n",
       "      <td>144</td>\n",
       "      <td>72</td>\n",
       "      <td>27</td>\n",
       "      <td>228</td>\n",
       "      <td>33.9</td>\n",
       "      <td>0.3</td>\n",
       "      <td>40</td>\n",
       "      <td>0</td>\n",
       "    </tr>\n",
       "    <tr>\n",
       "      <th>4</th>\n",
       "      <td>6</td>\n",
       "      <td>99</td>\n",
       "      <td>60</td>\n",
       "      <td>19</td>\n",
       "      <td>54</td>\n",
       "      <td>26.9</td>\n",
       "      <td>0.5</td>\n",
       "      <td>32</td>\n",
       "      <td>0</td>\n",
       "    </tr>\n",
       "  </tbody>\n",
       "</table>\n",
       "</div>"
      ],
      "text/plain": [
       "   Pregnancies  Glucose  BloodPressure  SkinThickness  Insulin   BMI  \\\n",
       "0            1       79             80             25       37  25.4   \n",
       "1            9       91             68              0        0  24.2   \n",
       "2            6      123             70             34      219  25.4   \n",
       "3            6      144             72             27      228  33.9   \n",
       "4            6       99             60             19       54  26.9   \n",
       "\n",
       "   DiabetesPedigreeFunction  Age  Outcome  \n",
       "0                       0.6   22        0  \n",
       "1                       0.2   58        0  \n",
       "2                       0.2   37        0  \n",
       "3                       0.3   40        0  \n",
       "4                       0.5   32        0  "
      ]
     },
     "execution_count": 3,
     "metadata": {},
     "output_type": "execute_result"
    }
   ],
   "source": [
    "diabetes_dataset.head()"
   ]
  },
  {
   "cell_type": "code",
   "execution_count": 4,
   "metadata": {},
   "outputs": [
    {
     "name": "stdout",
     "output_type": "stream",
     "text": [
      "<class 'pandas.core.frame.DataFrame'>\n",
      "RangeIndex: 3090 entries, 0 to 3089\n",
      "Data columns (total 9 columns):\n",
      " #   Column                    Non-Null Count  Dtype  \n",
      "---  ------                    --------------  -----  \n",
      " 0   Pregnancies               3090 non-null   int64  \n",
      " 1   Glucose                   3090 non-null   int64  \n",
      " 2   BloodPressure             3090 non-null   int64  \n",
      " 3   SkinThickness             3090 non-null   int64  \n",
      " 4   Insulin                   3090 non-null   int64  \n",
      " 5   BMI                       3090 non-null   float64\n",
      " 6   DiabetesPedigreeFunction  3090 non-null   float64\n",
      " 7   Age                       3090 non-null   int64  \n",
      " 8   Outcome                   3090 non-null   int64  \n",
      "dtypes: float64(2), int64(7)\n",
      "memory usage: 217.4 KB\n"
     ]
    }
   ],
   "source": [
    "diabetes_dataset.info()"
   ]
  },
  {
   "cell_type": "code",
   "execution_count": 5,
   "metadata": {
    "colab": {
     "base_uri": "https://localhost:8080/"
    },
    "executionInfo": {
     "elapsed": 28,
     "status": "ok",
     "timestamp": 1653200161040,
     "user": {
      "displayName": "siddhardh selvam",
      "userId": "13966379820454708749"
     },
     "user_tz": -330
    },
    "id": "lynParo6pEMB",
    "outputId": "b8e97658-d5ae-4407-e3c0-f4b7b0d0321e"
   },
   "outputs": [
    {
     "data": {
      "text/plain": [
       "(3090, 9)"
      ]
     },
     "execution_count": 5,
     "metadata": {},
     "output_type": "execute_result"
    }
   ],
   "source": [
    "diabetes_dataset.shape"
   ]
  },
  {
   "cell_type": "code",
   "execution_count": 6,
   "metadata": {},
   "outputs": [
    {
     "data": {
      "text/plain": [
       "Pregnancies                 0\n",
       "Glucose                     0\n",
       "BloodPressure               0\n",
       "SkinThickness               0\n",
       "Insulin                     0\n",
       "BMI                         0\n",
       "DiabetesPedigreeFunction    0\n",
       "Age                         0\n",
       "Outcome                     0\n",
       "dtype: int64"
      ]
     },
     "execution_count": 6,
     "metadata": {},
     "output_type": "execute_result"
    }
   ],
   "source": [
    "diabetes_dataset.isnull().sum()"
   ]
  },
  {
   "cell_type": "code",
   "execution_count": 7,
   "metadata": {},
   "outputs": [
    {
     "data": {
      "text/html": [
       "<style type=\"text/css\">\n",
       "#T_aed56_row0_col0, #T_aed56_row0_col1, #T_aed56_row0_col2, #T_aed56_row0_col3, #T_aed56_row0_col4, #T_aed56_row0_col5, #T_aed56_row0_col6, #T_aed56_row0_col7, #T_aed56_row0_col8 {\n",
       "  background-color: #b40426;\n",
       "  color: #f1f1f1;\n",
       "}\n",
       "#T_aed56_row1_col0, #T_aed56_row1_col6, #T_aed56_row1_col8, #T_aed56_row2_col0, #T_aed56_row2_col5, #T_aed56_row2_col6, #T_aed56_row2_col7, #T_aed56_row2_col8, #T_aed56_row3_col0, #T_aed56_row3_col1, #T_aed56_row3_col2, #T_aed56_row3_col3, #T_aed56_row3_col4, #T_aed56_row3_col5, #T_aed56_row3_col6, #T_aed56_row3_col7, #T_aed56_row3_col8, #T_aed56_row4_col0, #T_aed56_row4_col3, #T_aed56_row4_col4, #T_aed56_row4_col6, #T_aed56_row4_col8, #T_aed56_row5_col0, #T_aed56_row5_col6, #T_aed56_row5_col8, #T_aed56_row6_col0, #T_aed56_row6_col6, #T_aed56_row6_col8, #T_aed56_row7_col6, #T_aed56_row7_col8 {\n",
       "  background-color: #3b4cc0;\n",
       "  color: #f1f1f1;\n",
       "}\n",
       "#T_aed56_row1_col1, #T_aed56_row5_col1, #T_aed56_row7_col2 {\n",
       "  background-color: #465ecf;\n",
       "  color: #f1f1f1;\n",
       "}\n",
       "#T_aed56_row1_col2, #T_aed56_row4_col2, #T_aed56_row5_col2, #T_aed56_row7_col5, #T_aed56_row7_col7 {\n",
       "  background-color: #4055c8;\n",
       "  color: #f1f1f1;\n",
       "}\n",
       "#T_aed56_row1_col3, #T_aed56_row1_col7, #T_aed56_row2_col2, #T_aed56_row2_col3, #T_aed56_row4_col7, #T_aed56_row5_col3, #T_aed56_row5_col7, #T_aed56_row7_col0 {\n",
       "  background-color: #3c4ec2;\n",
       "  color: #f1f1f1;\n",
       "}\n",
       "#T_aed56_row1_col4, #T_aed56_row6_col2 {\n",
       "  background-color: #4257c9;\n",
       "  color: #f1f1f1;\n",
       "}\n",
       "#T_aed56_row1_col5, #T_aed56_row2_col1, #T_aed56_row4_col5, #T_aed56_row5_col5, #T_aed56_row6_col3, #T_aed56_row6_col7 {\n",
       "  background-color: #3d50c3;\n",
       "  color: #f1f1f1;\n",
       "}\n",
       "#T_aed56_row2_col4 {\n",
       "  background-color: #455cce;\n",
       "  color: #f1f1f1;\n",
       "}\n",
       "#T_aed56_row4_col1, #T_aed56_row7_col3 {\n",
       "  background-color: #445acc;\n",
       "  color: #f1f1f1;\n",
       "}\n",
       "#T_aed56_row5_col4, #T_aed56_row6_col5 {\n",
       "  background-color: #3e51c5;\n",
       "  color: #f1f1f1;\n",
       "}\n",
       "#T_aed56_row6_col1, #T_aed56_row6_col4 {\n",
       "  background-color: #4961d2;\n",
       "  color: #f1f1f1;\n",
       "}\n",
       "#T_aed56_row7_col1 {\n",
       "  background-color: #4e68d8;\n",
       "  color: #f1f1f1;\n",
       "}\n",
       "#T_aed56_row7_col4 {\n",
       "  background-color: #96b7ff;\n",
       "  color: #000000;\n",
       "}\n",
       "</style>\n",
       "<table id=\"T_aed56\">\n",
       "  <thead>\n",
       "    <tr>\n",
       "      <th class=\"blank level0\" >&nbsp;</th>\n",
       "      <th id=\"T_aed56_level0_col0\" class=\"col_heading level0 col0\" >Pregnancies</th>\n",
       "      <th id=\"T_aed56_level0_col1\" class=\"col_heading level0 col1\" >Glucose</th>\n",
       "      <th id=\"T_aed56_level0_col2\" class=\"col_heading level0 col2\" >BloodPressure</th>\n",
       "      <th id=\"T_aed56_level0_col3\" class=\"col_heading level0 col3\" >SkinThickness</th>\n",
       "      <th id=\"T_aed56_level0_col4\" class=\"col_heading level0 col4\" >Insulin</th>\n",
       "      <th id=\"T_aed56_level0_col5\" class=\"col_heading level0 col5\" >BMI</th>\n",
       "      <th id=\"T_aed56_level0_col6\" class=\"col_heading level0 col6\" >DiabetesPedigreeFunction</th>\n",
       "      <th id=\"T_aed56_level0_col7\" class=\"col_heading level0 col7\" >Age</th>\n",
       "      <th id=\"T_aed56_level0_col8\" class=\"col_heading level0 col8\" >Outcome</th>\n",
       "    </tr>\n",
       "  </thead>\n",
       "  <tbody>\n",
       "    <tr>\n",
       "      <th id=\"T_aed56_level0_row0\" class=\"row_heading level0 row0\" >count</th>\n",
       "      <td id=\"T_aed56_row0_col0\" class=\"data row0 col0\" >3090.000000</td>\n",
       "      <td id=\"T_aed56_row0_col1\" class=\"data row0 col1\" >3090.000000</td>\n",
       "      <td id=\"T_aed56_row0_col2\" class=\"data row0 col2\" >3090.000000</td>\n",
       "      <td id=\"T_aed56_row0_col3\" class=\"data row0 col3\" >3090.000000</td>\n",
       "      <td id=\"T_aed56_row0_col4\" class=\"data row0 col4\" >3090.000000</td>\n",
       "      <td id=\"T_aed56_row0_col5\" class=\"data row0 col5\" >3090.000000</td>\n",
       "      <td id=\"T_aed56_row0_col6\" class=\"data row0 col6\" >3090.000000</td>\n",
       "      <td id=\"T_aed56_row0_col7\" class=\"data row0 col7\" >3090.000000</td>\n",
       "      <td id=\"T_aed56_row0_col8\" class=\"data row0 col8\" >3090.000000</td>\n",
       "    </tr>\n",
       "    <tr>\n",
       "      <th id=\"T_aed56_level0_row1\" class=\"row_heading level0 row1\" >mean</th>\n",
       "      <td id=\"T_aed56_row1_col0\" class=\"data row1 col0\" >4.055016</td>\n",
       "      <td id=\"T_aed56_row1_col1\" class=\"data row1 col1\" >125.750809</td>\n",
       "      <td id=\"T_aed56_row1_col2\" class=\"data row1 col2\" >69.945955</td>\n",
       "      <td id=\"T_aed56_row1_col3\" class=\"data row1 col3\" >21.168608</td>\n",
       "      <td id=\"T_aed56_row1_col4\" class=\"data row1 col4\" >84.098382</td>\n",
       "      <td id=\"T_aed56_row1_col5\" class=\"data row1 col5\" >32.819515</td>\n",
       "      <td id=\"T_aed56_row1_col6\" class=\"data row1 col6\" >0.473236</td>\n",
       "      <td id=\"T_aed56_row1_col7\" class=\"data row1 col7\" >33.288026</td>\n",
       "      <td id=\"T_aed56_row1_col8\" class=\"data row1 col8\" >0.504854</td>\n",
       "    </tr>\n",
       "    <tr>\n",
       "      <th id=\"T_aed56_level0_row2\" class=\"row_heading level0 row2\" >std</th>\n",
       "      <td id=\"T_aed56_row2_col0\" class=\"data row2 col0\" >3.507779</td>\n",
       "      <td id=\"T_aed56_row2_col1\" class=\"data row2 col1\" >32.224940</td>\n",
       "      <td id=\"T_aed56_row2_col2\" class=\"data row2 col2\" >18.529005</td>\n",
       "      <td id=\"T_aed56_row2_col3\" class=\"data row2 col3\" >16.117539</td>\n",
       "      <td id=\"T_aed56_row2_col4\" class=\"data row2 col4\" >116.322522</td>\n",
       "      <td id=\"T_aed56_row2_col5\" class=\"data row2 col5\" >7.566396</td>\n",
       "      <td id=\"T_aed56_row2_col6\" class=\"data row2 col6\" >0.323883</td>\n",
       "      <td id=\"T_aed56_row2_col7\" class=\"data row2 col7\" >11.211808</td>\n",
       "      <td id=\"T_aed56_row2_col8\" class=\"data row2 col8\" >0.500057</td>\n",
       "    </tr>\n",
       "    <tr>\n",
       "      <th id=\"T_aed56_level0_row3\" class=\"row_heading level0 row3\" >min</th>\n",
       "      <td id=\"T_aed56_row3_col0\" class=\"data row3 col0\" >0.000000</td>\n",
       "      <td id=\"T_aed56_row3_col1\" class=\"data row3 col1\" >0.000000</td>\n",
       "      <td id=\"T_aed56_row3_col2\" class=\"data row3 col2\" >0.000000</td>\n",
       "      <td id=\"T_aed56_row3_col3\" class=\"data row3 col3\" >0.000000</td>\n",
       "      <td id=\"T_aed56_row3_col4\" class=\"data row3 col4\" >0.000000</td>\n",
       "      <td id=\"T_aed56_row3_col5\" class=\"data row3 col5\" >0.000000</td>\n",
       "      <td id=\"T_aed56_row3_col6\" class=\"data row3 col6\" >0.100000</td>\n",
       "      <td id=\"T_aed56_row3_col7\" class=\"data row3 col7\" >20.000000</td>\n",
       "      <td id=\"T_aed56_row3_col8\" class=\"data row3 col8\" >0.000000</td>\n",
       "    </tr>\n",
       "    <tr>\n",
       "      <th id=\"T_aed56_level0_row4\" class=\"row_heading level0 row4\" >25%</th>\n",
       "      <td id=\"T_aed56_row4_col0\" class=\"data row4 col0\" >1.000000</td>\n",
       "      <td id=\"T_aed56_row4_col1\" class=\"data row4 col1\" >102.000000</td>\n",
       "      <td id=\"T_aed56_row4_col2\" class=\"data row4 col2\" >64.000000</td>\n",
       "      <td id=\"T_aed56_row4_col3\" class=\"data row4 col3\" >0.000000</td>\n",
       "      <td id=\"T_aed56_row4_col4\" class=\"data row4 col4\" >0.000000</td>\n",
       "      <td id=\"T_aed56_row4_col5\" class=\"data row4 col5\" >27.900000</td>\n",
       "      <td id=\"T_aed56_row4_col6\" class=\"data row4 col6\" >0.300000</td>\n",
       "      <td id=\"T_aed56_row4_col7\" class=\"data row4 col7\" >24.000000</td>\n",
       "      <td id=\"T_aed56_row4_col8\" class=\"data row4 col8\" >0.000000</td>\n",
       "    </tr>\n",
       "    <tr>\n",
       "      <th id=\"T_aed56_level0_row5\" class=\"row_heading level0 row5\" >50%</th>\n",
       "      <td id=\"T_aed56_row5_col0\" class=\"data row5 col0\" >3.000000</td>\n",
       "      <td id=\"T_aed56_row5_col1\" class=\"data row5 col1\" >122.000000</td>\n",
       "      <td id=\"T_aed56_row5_col2\" class=\"data row5 col2\" >72.000000</td>\n",
       "      <td id=\"T_aed56_row5_col3\" class=\"data row5 col3\" >24.000000</td>\n",
       "      <td id=\"T_aed56_row5_col4\" class=\"data row5 col4\" >37.000000</td>\n",
       "      <td id=\"T_aed56_row5_col5\" class=\"data row5 col5\" >32.800000</td>\n",
       "      <td id=\"T_aed56_row5_col6\" class=\"data row5 col6\" >0.400000</td>\n",
       "      <td id=\"T_aed56_row5_col7\" class=\"data row5 col7\" >30.000000</td>\n",
       "      <td id=\"T_aed56_row5_col8\" class=\"data row5 col8\" >1.000000</td>\n",
       "    </tr>\n",
       "    <tr>\n",
       "      <th id=\"T_aed56_level0_row6\" class=\"row_heading level0 row6\" >75%</th>\n",
       "      <td id=\"T_aed56_row6_col0\" class=\"data row6 col0\" >6.000000</td>\n",
       "      <td id=\"T_aed56_row6_col1\" class=\"data row6 col1\" >146.000000</td>\n",
       "      <td id=\"T_aed56_row6_col2\" class=\"data row6 col2\" >80.000000</td>\n",
       "      <td id=\"T_aed56_row6_col3\" class=\"data row6 col3\" >34.000000</td>\n",
       "      <td id=\"T_aed56_row6_col4\" class=\"data row6 col4\" >145.000000</td>\n",
       "      <td id=\"T_aed56_row6_col5\" class=\"data row6 col5\" >37.500000</td>\n",
       "      <td id=\"T_aed56_row6_col6\" class=\"data row6 col6\" >0.600000</td>\n",
       "      <td id=\"T_aed56_row6_col7\" class=\"data row6 col7\" >40.000000</td>\n",
       "      <td id=\"T_aed56_row6_col8\" class=\"data row6 col8\" >1.000000</td>\n",
       "    </tr>\n",
       "    <tr>\n",
       "      <th id=\"T_aed56_level0_row7\" class=\"row_heading level0 row7\" >max</th>\n",
       "      <td id=\"T_aed56_row7_col0\" class=\"data row7 col0\" >17.000000</td>\n",
       "      <td id=\"T_aed56_row7_col1\" class=\"data row7 col1\" >199.000000</td>\n",
       "      <td id=\"T_aed56_row7_col2\" class=\"data row7 col2\" >122.000000</td>\n",
       "      <td id=\"T_aed56_row7_col3\" class=\"data row7 col3\" >99.000000</td>\n",
       "      <td id=\"T_aed56_row7_col4\" class=\"data row7 col4\" >846.000000</td>\n",
       "      <td id=\"T_aed56_row7_col5\" class=\"data row7 col5\" >67.100000</td>\n",
       "      <td id=\"T_aed56_row7_col6\" class=\"data row7 col6\" >2.300000</td>\n",
       "      <td id=\"T_aed56_row7_col7\" class=\"data row7 col7\" >81.000000</td>\n",
       "      <td id=\"T_aed56_row7_col8\" class=\"data row7 col8\" >1.000000</td>\n",
       "    </tr>\n",
       "  </tbody>\n",
       "</table>\n"
      ],
      "text/plain": [
       "<pandas.io.formats.style.Styler at 0x1429719c3b0>"
      ]
     },
     "execution_count": 7,
     "metadata": {},
     "output_type": "execute_result"
    }
   ],
   "source": [
    "diabetes_dataset.describe().style.background_gradient(cmap='coolwarm')"
   ]
  },
  {
   "cell_type": "markdown",
   "metadata": {
    "id": "cB1qRaNcqeh5"
   },
   "source": [
    "0 --> Non-Diabetic\n",
    "\n",
    "1 --> Diabetic"
   ]
  },
  {
   "cell_type": "markdown",
   "metadata": {},
   "source": [
    "## Exploratory Data Analysis (EDA)"
   ]
  },
  {
   "cell_type": "code",
   "execution_count": 8,
   "metadata": {},
   "outputs": [],
   "source": [
    "import matplotlib.pyplot as plt\n",
    "import seaborn as sns\n",
    "import plotly.graph_objects as go\n",
    "import plotly.express as px"
   ]
  },
  {
   "cell_type": "code",
   "execution_count": 9,
   "metadata": {},
   "outputs": [
    {
     "data": {
      "application/vnd.plotly.v1+json": {
       "config": {
        "plotlyServerURL": "https://plot.ly"
       },
       "data": [
        {
         "domain": {
          "x": [
           0,
           1
          ],
          "y": [
           0,
           1
          ]
         },
         "hovertemplate": "Outcome=%{label}<br>value=%{value}<extra></extra>",
         "labels": [
          1,
          0
         ],
         "legendgroup": "",
         "marker": {
          "line": {
           "color": "white",
           "width": 2
          }
         },
         "name": "",
         "showlegend": true,
         "textinfo": "percent+label",
         "textposition": "inside",
         "type": "pie",
         "values": [
          1560,
          1530
         ]
        }
       ],
       "layout": {
        "legend": {
         "tracegroupgap": 0
        },
        "margin": {
         "t": 60
        },
        "piecolorway": [
         "rgb(103,0,31)",
         "rgb(178,24,43)",
         "rgb(214,96,77)",
         "rgb(244,165,130)",
         "rgb(253,219,199)",
         "rgb(247,247,247)",
         "rgb(209,229,240)",
         "rgb(146,197,222)",
         "rgb(67,147,195)",
         "rgb(33,102,172)",
         "rgb(5,48,97)"
        ],
        "template": {
         "data": {
          "bar": [
           {
            "error_x": {
             "color": "#2a3f5f"
            },
            "error_y": {
             "color": "#2a3f5f"
            },
            "marker": {
             "line": {
              "color": "#E5ECF6",
              "width": 0.5
             },
             "pattern": {
              "fillmode": "overlay",
              "size": 10,
              "solidity": 0.2
             }
            },
            "type": "bar"
           }
          ],
          "barpolar": [
           {
            "marker": {
             "line": {
              "color": "#E5ECF6",
              "width": 0.5
             },
             "pattern": {
              "fillmode": "overlay",
              "size": 10,
              "solidity": 0.2
             }
            },
            "type": "barpolar"
           }
          ],
          "carpet": [
           {
            "aaxis": {
             "endlinecolor": "#2a3f5f",
             "gridcolor": "white",
             "linecolor": "white",
             "minorgridcolor": "white",
             "startlinecolor": "#2a3f5f"
            },
            "baxis": {
             "endlinecolor": "#2a3f5f",
             "gridcolor": "white",
             "linecolor": "white",
             "minorgridcolor": "white",
             "startlinecolor": "#2a3f5f"
            },
            "type": "carpet"
           }
          ],
          "choropleth": [
           {
            "colorbar": {
             "outlinewidth": 0,
             "ticks": ""
            },
            "type": "choropleth"
           }
          ],
          "contour": [
           {
            "colorbar": {
             "outlinewidth": 0,
             "ticks": ""
            },
            "colorscale": [
             [
              0,
              "#0d0887"
             ],
             [
              0.1111111111111111,
              "#46039f"
             ],
             [
              0.2222222222222222,
              "#7201a8"
             ],
             [
              0.3333333333333333,
              "#9c179e"
             ],
             [
              0.4444444444444444,
              "#bd3786"
             ],
             [
              0.5555555555555556,
              "#d8576b"
             ],
             [
              0.6666666666666666,
              "#ed7953"
             ],
             [
              0.7777777777777778,
              "#fb9f3a"
             ],
             [
              0.8888888888888888,
              "#fdca26"
             ],
             [
              1,
              "#f0f921"
             ]
            ],
            "type": "contour"
           }
          ],
          "contourcarpet": [
           {
            "colorbar": {
             "outlinewidth": 0,
             "ticks": ""
            },
            "type": "contourcarpet"
           }
          ],
          "heatmap": [
           {
            "colorbar": {
             "outlinewidth": 0,
             "ticks": ""
            },
            "colorscale": [
             [
              0,
              "#0d0887"
             ],
             [
              0.1111111111111111,
              "#46039f"
             ],
             [
              0.2222222222222222,
              "#7201a8"
             ],
             [
              0.3333333333333333,
              "#9c179e"
             ],
             [
              0.4444444444444444,
              "#bd3786"
             ],
             [
              0.5555555555555556,
              "#d8576b"
             ],
             [
              0.6666666666666666,
              "#ed7953"
             ],
             [
              0.7777777777777778,
              "#fb9f3a"
             ],
             [
              0.8888888888888888,
              "#fdca26"
             ],
             [
              1,
              "#f0f921"
             ]
            ],
            "type": "heatmap"
           }
          ],
          "heatmapgl": [
           {
            "colorbar": {
             "outlinewidth": 0,
             "ticks": ""
            },
            "colorscale": [
             [
              0,
              "#0d0887"
             ],
             [
              0.1111111111111111,
              "#46039f"
             ],
             [
              0.2222222222222222,
              "#7201a8"
             ],
             [
              0.3333333333333333,
              "#9c179e"
             ],
             [
              0.4444444444444444,
              "#bd3786"
             ],
             [
              0.5555555555555556,
              "#d8576b"
             ],
             [
              0.6666666666666666,
              "#ed7953"
             ],
             [
              0.7777777777777778,
              "#fb9f3a"
             ],
             [
              0.8888888888888888,
              "#fdca26"
             ],
             [
              1,
              "#f0f921"
             ]
            ],
            "type": "heatmapgl"
           }
          ],
          "histogram": [
           {
            "marker": {
             "pattern": {
              "fillmode": "overlay",
              "size": 10,
              "solidity": 0.2
             }
            },
            "type": "histogram"
           }
          ],
          "histogram2d": [
           {
            "colorbar": {
             "outlinewidth": 0,
             "ticks": ""
            },
            "colorscale": [
             [
              0,
              "#0d0887"
             ],
             [
              0.1111111111111111,
              "#46039f"
             ],
             [
              0.2222222222222222,
              "#7201a8"
             ],
             [
              0.3333333333333333,
              "#9c179e"
             ],
             [
              0.4444444444444444,
              "#bd3786"
             ],
             [
              0.5555555555555556,
              "#d8576b"
             ],
             [
              0.6666666666666666,
              "#ed7953"
             ],
             [
              0.7777777777777778,
              "#fb9f3a"
             ],
             [
              0.8888888888888888,
              "#fdca26"
             ],
             [
              1,
              "#f0f921"
             ]
            ],
            "type": "histogram2d"
           }
          ],
          "histogram2dcontour": [
           {
            "colorbar": {
             "outlinewidth": 0,
             "ticks": ""
            },
            "colorscale": [
             [
              0,
              "#0d0887"
             ],
             [
              0.1111111111111111,
              "#46039f"
             ],
             [
              0.2222222222222222,
              "#7201a8"
             ],
             [
              0.3333333333333333,
              "#9c179e"
             ],
             [
              0.4444444444444444,
              "#bd3786"
             ],
             [
              0.5555555555555556,
              "#d8576b"
             ],
             [
              0.6666666666666666,
              "#ed7953"
             ],
             [
              0.7777777777777778,
              "#fb9f3a"
             ],
             [
              0.8888888888888888,
              "#fdca26"
             ],
             [
              1,
              "#f0f921"
             ]
            ],
            "type": "histogram2dcontour"
           }
          ],
          "mesh3d": [
           {
            "colorbar": {
             "outlinewidth": 0,
             "ticks": ""
            },
            "type": "mesh3d"
           }
          ],
          "parcoords": [
           {
            "line": {
             "colorbar": {
              "outlinewidth": 0,
              "ticks": ""
             }
            },
            "type": "parcoords"
           }
          ],
          "pie": [
           {
            "automargin": true,
            "type": "pie"
           }
          ],
          "scatter": [
           {
            "fillpattern": {
             "fillmode": "overlay",
             "size": 10,
             "solidity": 0.2
            },
            "type": "scatter"
           }
          ],
          "scatter3d": [
           {
            "line": {
             "colorbar": {
              "outlinewidth": 0,
              "ticks": ""
             }
            },
            "marker": {
             "colorbar": {
              "outlinewidth": 0,
              "ticks": ""
             }
            },
            "type": "scatter3d"
           }
          ],
          "scattercarpet": [
           {
            "marker": {
             "colorbar": {
              "outlinewidth": 0,
              "ticks": ""
             }
            },
            "type": "scattercarpet"
           }
          ],
          "scattergeo": [
           {
            "marker": {
             "colorbar": {
              "outlinewidth": 0,
              "ticks": ""
             }
            },
            "type": "scattergeo"
           }
          ],
          "scattergl": [
           {
            "marker": {
             "colorbar": {
              "outlinewidth": 0,
              "ticks": ""
             }
            },
            "type": "scattergl"
           }
          ],
          "scattermapbox": [
           {
            "marker": {
             "colorbar": {
              "outlinewidth": 0,
              "ticks": ""
             }
            },
            "type": "scattermapbox"
           }
          ],
          "scatterpolar": [
           {
            "marker": {
             "colorbar": {
              "outlinewidth": 0,
              "ticks": ""
             }
            },
            "type": "scatterpolar"
           }
          ],
          "scatterpolargl": [
           {
            "marker": {
             "colorbar": {
              "outlinewidth": 0,
              "ticks": ""
             }
            },
            "type": "scatterpolargl"
           }
          ],
          "scatterternary": [
           {
            "marker": {
             "colorbar": {
              "outlinewidth": 0,
              "ticks": ""
             }
            },
            "type": "scatterternary"
           }
          ],
          "surface": [
           {
            "colorbar": {
             "outlinewidth": 0,
             "ticks": ""
            },
            "colorscale": [
             [
              0,
              "#0d0887"
             ],
             [
              0.1111111111111111,
              "#46039f"
             ],
             [
              0.2222222222222222,
              "#7201a8"
             ],
             [
              0.3333333333333333,
              "#9c179e"
             ],
             [
              0.4444444444444444,
              "#bd3786"
             ],
             [
              0.5555555555555556,
              "#d8576b"
             ],
             [
              0.6666666666666666,
              "#ed7953"
             ],
             [
              0.7777777777777778,
              "#fb9f3a"
             ],
             [
              0.8888888888888888,
              "#fdca26"
             ],
             [
              1,
              "#f0f921"
             ]
            ],
            "type": "surface"
           }
          ],
          "table": [
           {
            "cells": {
             "fill": {
              "color": "#EBF0F8"
             },
             "line": {
              "color": "white"
             }
            },
            "header": {
             "fill": {
              "color": "#C8D4E3"
             },
             "line": {
              "color": "white"
             }
            },
            "type": "table"
           }
          ]
         },
         "layout": {
          "annotationdefaults": {
           "arrowcolor": "#2a3f5f",
           "arrowhead": 0,
           "arrowwidth": 1
          },
          "autotypenumbers": "strict",
          "coloraxis": {
           "colorbar": {
            "outlinewidth": 0,
            "ticks": ""
           }
          },
          "colorscale": {
           "diverging": [
            [
             0,
             "#8e0152"
            ],
            [
             0.1,
             "#c51b7d"
            ],
            [
             0.2,
             "#de77ae"
            ],
            [
             0.3,
             "#f1b6da"
            ],
            [
             0.4,
             "#fde0ef"
            ],
            [
             0.5,
             "#f7f7f7"
            ],
            [
             0.6,
             "#e6f5d0"
            ],
            [
             0.7,
             "#b8e186"
            ],
            [
             0.8,
             "#7fbc41"
            ],
            [
             0.9,
             "#4d9221"
            ],
            [
             1,
             "#276419"
            ]
           ],
           "sequential": [
            [
             0,
             "#0d0887"
            ],
            [
             0.1111111111111111,
             "#46039f"
            ],
            [
             0.2222222222222222,
             "#7201a8"
            ],
            [
             0.3333333333333333,
             "#9c179e"
            ],
            [
             0.4444444444444444,
             "#bd3786"
            ],
            [
             0.5555555555555556,
             "#d8576b"
            ],
            [
             0.6666666666666666,
             "#ed7953"
            ],
            [
             0.7777777777777778,
             "#fb9f3a"
            ],
            [
             0.8888888888888888,
             "#fdca26"
            ],
            [
             1,
             "#f0f921"
            ]
           ],
           "sequentialminus": [
            [
             0,
             "#0d0887"
            ],
            [
             0.1111111111111111,
             "#46039f"
            ],
            [
             0.2222222222222222,
             "#7201a8"
            ],
            [
             0.3333333333333333,
             "#9c179e"
            ],
            [
             0.4444444444444444,
             "#bd3786"
            ],
            [
             0.5555555555555556,
             "#d8576b"
            ],
            [
             0.6666666666666666,
             "#ed7953"
            ],
            [
             0.7777777777777778,
             "#fb9f3a"
            ],
            [
             0.8888888888888888,
             "#fdca26"
            ],
            [
             1,
             "#f0f921"
            ]
           ]
          },
          "colorway": [
           "#636efa",
           "#EF553B",
           "#00cc96",
           "#ab63fa",
           "#FFA15A",
           "#19d3f3",
           "#FF6692",
           "#B6E880",
           "#FF97FF",
           "#FECB52"
          ],
          "font": {
           "color": "#2a3f5f"
          },
          "geo": {
           "bgcolor": "white",
           "lakecolor": "white",
           "landcolor": "#E5ECF6",
           "showlakes": true,
           "showland": true,
           "subunitcolor": "white"
          },
          "hoverlabel": {
           "align": "left"
          },
          "hovermode": "closest",
          "mapbox": {
           "style": "light"
          },
          "paper_bgcolor": "white",
          "plot_bgcolor": "#E5ECF6",
          "polar": {
           "angularaxis": {
            "gridcolor": "white",
            "linecolor": "white",
            "ticks": ""
           },
           "bgcolor": "#E5ECF6",
           "radialaxis": {
            "gridcolor": "white",
            "linecolor": "white",
            "ticks": ""
           }
          },
          "scene": {
           "xaxis": {
            "backgroundcolor": "#E5ECF6",
            "gridcolor": "white",
            "gridwidth": 2,
            "linecolor": "white",
            "showbackground": true,
            "ticks": "",
            "zerolinecolor": "white"
           },
           "yaxis": {
            "backgroundcolor": "#E5ECF6",
            "gridcolor": "white",
            "gridwidth": 2,
            "linecolor": "white",
            "showbackground": true,
            "ticks": "",
            "zerolinecolor": "white"
           },
           "zaxis": {
            "backgroundcolor": "#E5ECF6",
            "gridcolor": "white",
            "gridwidth": 2,
            "linecolor": "white",
            "showbackground": true,
            "ticks": "",
            "zerolinecolor": "white"
           }
          },
          "shapedefaults": {
           "line": {
            "color": "#2a3f5f"
           }
          },
          "ternary": {
           "aaxis": {
            "gridcolor": "white",
            "linecolor": "white",
            "ticks": ""
           },
           "baxis": {
            "gridcolor": "white",
            "linecolor": "white",
            "ticks": ""
           },
           "bgcolor": "#E5ECF6",
           "caxis": {
            "gridcolor": "white",
            "linecolor": "white",
            "ticks": ""
           }
          },
          "title": {
           "x": 0.05
          },
          "xaxis": {
           "automargin": true,
           "gridcolor": "white",
           "linecolor": "white",
           "ticks": "",
           "title": {
            "standoff": 15
           },
           "zerolinecolor": "white",
           "zerolinewidth": 2
          },
          "yaxis": {
           "automargin": true,
           "gridcolor": "white",
           "linecolor": "white",
           "ticks": "",
           "title": {
            "standoff": 15
           },
           "zerolinecolor": "white",
           "zerolinewidth": 2
          }
         }
        }
       }
      }
     },
     "metadata": {},
     "output_type": "display_data"
    }
   ],
   "source": [
    "target_counts = diabetes_dataset['Outcome'].value_counts()\n",
    "\n",
    "fig = px.pie(target_counts, \n",
    "             values=target_counts.values, \n",
    "             names=target_counts.index, \n",
    "             color_discrete_sequence=px.colors.sequential.RdBu)\n",
    "\n",
    "fig.update_traces(textposition='inside', \n",
    "                  textinfo='percent+label', \n",
    "                  marker=dict(line=dict(color='white', width=2)))\n",
    "\n",
    "fig.show()\n"
   ]
  },
  {
   "cell_type": "code",
   "execution_count": 10,
   "metadata": {},
   "outputs": [
    {
     "data": {
      "image/png": "[encoded data removed]",
      "text/plain": [
       "<Figure size 1200x500 with 1 Axes>"
      ]
     },
     "metadata": {},
     "output_type": "display_data"
    }
   ],
   "source": [
    "plt.figure(figsize=(12, 5))\n",
    "sns.histplot(diabetes_dataset['Age'], bins=20, kde=True, color='blue')\n",
    "plt.title('Distribution of Age')\n",
    "plt.xlabel('Age')\n",
    "plt.ylabel('Frequency')\n",
    "plt.show()"
   ]
  },
  {
   "cell_type": "code",
   "execution_count": 11,
   "metadata": {},
   "outputs": [
    {
     "data": {
      "image/png": "[encoded data removed]",
      "text/plain": [
       "<Figure size 1000x600 with 2 Axes>"
      ]
     },
     "metadata": {},
     "output_type": "display_data"
    }
   ],
   "source": [
    "corr_matrix = diabetes_dataset.corr()\n",
    "\n",
    "plt.figure(figsize=(10, 6))\n",
    "sns.heatmap(corr_matrix, annot=True, cmap='coolwarm', fmt='.2f', linewidths=0.5)\n",
    "plt.title('Heatmap of Feature Correlations')\n",
    "plt.show()"
   ]
  },
  {
   "cell_type": "markdown",
   "metadata": {},
   "source": [
    "## Splitting the Features and Target"
   ]
  },
  {
   "cell_type": "code",
   "execution_count": 12,
   "metadata": {
    "executionInfo": {
     "elapsed": 27,
     "status": "ok",
     "timestamp": 1653200161046,
     "user": {
      "displayName": "siddhardh selvam",
      "userId": "13966379820454708749"
     },
     "user_tz": -330
    },
    "id": "RoDW7l9mqqHZ"
   },
   "outputs": [],
   "source": [
    "Feature = diabetes_dataset.drop(columns = 'Outcome', axis=1)\n",
    "Target = diabetes_dataset['Outcome']"
   ]
  },
  {
   "cell_type": "code",
   "execution_count": 13,
   "metadata": {
    "colab": {
     "base_uri": "https://localhost:8080/"
    },
    "executionInfo": {
     "elapsed": 26,
     "status": "ok",
     "timestamp": 1653200161046,
     "user": {
      "displayName": "siddhardh selvam",
      "userId": "13966379820454708749"
     },
     "user_tz": -330
    },
    "id": "3eiRW9M9raMm",
    "outputId": "107aefe8-a40e-4a8c-efa4-e6a4929b8343"
   },
   "outputs": [
    {
     "name": "stdout",
     "output_type": "stream",
     "text": [
      "      Pregnancies  Glucose  BloodPressure  SkinThickness  Insulin   BMI  \\\n",
      "0               1       79             80             25       37  25.4   \n",
      "1               9       91             68              0        0  24.2   \n",
      "2               6      123             70             34      219  25.4   \n",
      "3               6      144             72             27      228  33.9   \n",
      "4               6       99             60             19       54  26.9   \n",
      "...           ...      ...            ...            ...      ...   ...   \n",
      "3085            3      163             70             18      105  31.6   \n",
      "3086            2      155             52             27      540  38.7   \n",
      "3087            3      173             82             48      465  38.4   \n",
      "3088            4      173             70             14      168  29.7   \n",
      "3089            4      173             70             14      168  29.7   \n",
      "\n",
      "      DiabetesPedigreeFunction  Age  \n",
      "0                          0.6   22  \n",
      "1                          0.2   58  \n",
      "2                          0.2   37  \n",
      "3                          0.3   40  \n",
      "4                          0.5   32  \n",
      "...                        ...  ...  \n",
      "3085                       0.3   28  \n",
      "3086                       0.2   25  \n",
      "3087                       2.1   25  \n",
      "3088                       0.4   33  \n",
      "3089                       0.4   33  \n",
      "\n",
      "[3090 rows x 8 columns]\n"
     ]
    }
   ],
   "source": [
    "print(Feature)"
   ]
  },
  {
   "cell_type": "code",
   "execution_count": 14,
   "metadata": {
    "colab": {
     "base_uri": "https://localhost:8080/"
    },
    "executionInfo": {
     "elapsed": 25,
     "status": "ok",
     "timestamp": 1653200161047,
     "user": {
      "displayName": "siddhardh selvam",
      "userId": "13966379820454708749"
     },
     "user_tz": -330
    },
    "id": "AoxgTJAMrcCl",
    "outputId": "afb40f51-fd9c-43ff-c51f-7b49a7f9b152"
   },
   "outputs": [
    {
     "name": "stdout",
     "output_type": "stream",
     "text": [
      "0       0\n",
      "1       0\n",
      "2       0\n",
      "3       0\n",
      "4       0\n",
      "       ..\n",
      "3085    1\n",
      "3086    1\n",
      "3087    1\n",
      "3088    1\n",
      "3089    1\n",
      "Name: Outcome, Length: 3090, dtype: int64\n"
     ]
    }
   ],
   "source": [
    "print(Target)"
   ]
  },
  {
   "cell_type": "code",
   "execution_count": 15,
   "metadata": {},
   "outputs": [],
   "source": [
    "import xgboost as xgb\n",
    "from sklearn.model_selection import GridSearchCV, train_test_split\n",
    "from sklearn.metrics import classification_report"
   ]
  },
  {
   "cell_type": "markdown",
   "metadata": {},
   "source": [
    "## Splitting the Data into Training data & Test Data"
   ]
  },
  {
   "cell_type": "code",
   "execution_count": 16,
   "metadata": {},
   "outputs": [],
   "source": [
    "X_train, X_test, y_train, y_test = train_test_split(Feature, Target, test_size=0.2, random_state=42, stratify=Target)"
   ]
  },
  {
   "cell_type": "markdown",
   "metadata": {},
   "source": [
    "\n",
    "## Define XGBoost classifier"
   ]
  },
  {
   "cell_type": "code",
   "execution_count": 17,
   "metadata": {},
   "outputs": [],
   "source": [
    "xgb_clf = xgb.XGBClassifier(use_label_encoder=False, eval_metric='logloss')"
   ]
  },
  {
   "cell_type": "markdown",
   "metadata": {},
   "source": [
    "## Hyperparameter tuning using GridSearchCV\n"
   ]
  },
  {
   "cell_type": "code",
   "execution_count": 20,
   "metadata": {},
   "outputs": [
    {
     "name": "stdout",
     "output_type": "stream",
     "text": [
      "Best Parameters: {'learning_rate': 0.05, 'max_depth': 4, 'min_child_weight': 5, 'n_estimators': 150, 'reg_alpha': 1.0, 'reg_lambda': 1.0, 'subsample': 0.8}\n"
     ]
    },
    {
     "name": "stderr",
     "output_type": "stream",
     "text": [
      "c:\\Users\\lenovo\\AppData\\Local\\Programs\\Python\\Python312\\Lib\\site-packages\\xgboost\\training.py:183: UserWarning:\n",
      "\n",
      "[16:03:53] WARNING: C:\\actions-runner\\_work\\xgboost\\xgboost\\src\\learner.cc:738: \n",
      "Parameters: { \"use_label_encoder\" } are not used.\n",
      "\n",
      "\n"
     ]
    }
   ],
   "source": [
    "param_grid = {\n",
    "    'n_estimators': [50, 100, 150],  # Reduced range\n",
    "    'learning_rate': [0.01, 0.03, 0.05],  # Lower learning rate for better generalization\n",
    "    'max_depth': [2, 3, 4],  # Reduce complexity\n",
    "    'subsample': [0.7, 0.8, 0.9],  # Slightly lower subsample\n",
    "    'reg_lambda': [1.0, 1.5, 2.0, 2.5],  # Stronger L2 regularization\n",
    "    'reg_alpha': [0.1, 0.5, 1.0],  # Stronger L1 regularization\n",
    "    'min_child_weight': [5, 7, 9]  # Higher values prevent small splits (new update)\n",
    "}\n",
    "\n",
    "grid_search = GridSearchCV(xgb_clf, param_grid, cv=7, scoring='accuracy', n_jobs=-1)\n",
    "grid_search.fit(X_train, y_train)\n",
    "\n",
    "# Best model\n",
    "best_xgb = grid_search.best_estimator_\n",
    "\n",
    "print(\"Best Parameters:\", grid_search.best_params_)"
   ]
  },
  {
   "cell_type": "markdown",
   "metadata": {},
   "source": [
    "## Accuracy Score"
   ]
  },
  {
   "cell_type": "code",
   "execution_count": null,
   "metadata": {},
   "outputs": [
    {
     "name": "stdout",
     "output_type": "stream",
     "text": [
      "XGBoost Train Accuracy: 93.69%\n",
      "XGBoost Test Accuracy: 90.45%\n",
      "Classification Report:\n",
      "              precision    recall  f1-score   support\n",
      "\n",
      "           0       0.93      0.88      0.90       306\n",
      "           1       0.88      0.93      0.91       312\n",
      "\n",
      "    accuracy                           0.90       618\n",
      "   macro avg       0.91      0.90      0.90       618\n",
      "weighted avg       0.91      0.90      0.90       618\n",
      "\n"
     ]
    }
   ],
   "source": [
    "train_acc = best_xgb.score(X_train, y_train) * 100\n",
    "test_acc = best_xgb.score(X_test, y_test) * 100\n",
    "\n",
    "print(f\"XGBoost Train Accuracy: {train_acc:.2f}%\")\n",
    "print(f\"XGBoost Test Accuracy: {test_acc:.2f}%\")\n",
    "\n",
    "y_pred = best_xgb.predict(X_test)\n",
    "print(\"Classification Report:\")\n",
    "print(classification_report(y_test, y_pred))\n"
   ]
  },
  {
   "cell_type": "code",
   "execution_count": 22,
   "metadata": {},
   "outputs": [
    {
     "data": {
      "image/png": "[encoded data removed]",
      "text/plain": [
       "<Figure size 800x500 with 1 Axes>"
      ]
     },
     "metadata": {},
     "output_type": "display_data"
    }
   ],
   "source": [
    "models = ['Diabetes Model']\n",
    "training_accuracy = [93.69]\n",
    "testing_accuracy = [90.45]\n",
    "\n",
    "x = np.arange(len(models))  # Label locations\n",
    "width = 0.3  # Reduced bar width for more spacing\n",
    "spacing = 0.2  # Additional spacing between bars\n",
    "\n",
    "fig, ax = plt.subplots(figsize=(8, 5))\n",
    "\n",
    "# Bars\n",
    "bars1 = ax.barh(x - (width + spacing)/2, training_accuracy, width, label='Training Accuracy', color='lightseagreen')\n",
    "bars2 = ax.barh(x + (width + spacing)/2, testing_accuracy, width, label='Testing Accuracy', color='seagreen')\n",
    "\n",
    "# Labels and Title\n",
    "ax.set_xlabel('Accuracy (%)')\n",
    "ax.set_ylabel('Models')\n",
    "ax.set_yticks(x)\n",
    "ax.set_yticklabels(models)\n",
    "ax.legend()\n",
    "\n",
    "# Adding percentage labels\n",
    "for bars in [bars1, bars2]:\n",
    "    for bar in bars:\n",
    "        ax.text(bar.get_width() + 1, bar.get_y() + bar.get_height()/2, f'{bar.get_width()}%', va='center', fontsize=10)\n",
    "\n",
    "plt.show()\n"
   ]
  },
  {
   "cell_type": "markdown",
   "metadata": {},
   "source": [
    "## Test model"
   ]
  },
  {
   "cell_type": "code",
   "execution_count": 31,
   "metadata": {
    "colab": {
     "base_uri": "https://localhost:8080/"
    },
    "executionInfo": {
     "elapsed": 21,
     "status": "ok",
     "timestamp": 1653200163543,
     "user": {
      "displayName": "siddhardh selvam",
      "userId": "13966379820454708749"
     },
     "user_tz": -330
    },
    "id": "U-ULRe4yv5tH",
    "outputId": "6d829789-0c86-469d-ec6a-f20276f0a3ed"
   },
   "outputs": [
    {
     "name": "stdout",
     "output_type": "stream",
     "text": [
      "[1]\n",
      "The person is diabetic\n"
     ]
    }
   ],
   "source": [
    "input_data = (5,166,72,19,175,25.8,0.587,51)\n",
    "\n",
    "# changing the input_data to numpy array\n",
    "input_data_as_numpy_array = np.asarray(input_data)\n",
    "\n",
    "# reshape the array as we are predicting for one instance\n",
    "input_data_reshaped = input_data_as_numpy_array.reshape(1,-1)\n",
    "\n",
    "prediction = best_xgb.predict(input_data_reshaped)\n",
    "print(prediction)\n",
    "\n",
    "if (prediction[0] == 0):\n",
    "  print('The person is not diabetic')\n",
    "else:\n",
    "  print('The person is diabetic')"
   ]
  },
  {
   "cell_type": "markdown",
   "metadata": {
    "id": "FCHCMHpshHU4"
   },
   "source": [
    "## Saving the trained model"
   ]
  },
  {
   "cell_type": "code",
   "execution_count": 36,
   "metadata": {
    "executionInfo": {
     "elapsed": 18,
     "status": "ok",
     "timestamp": 1653200163543,
     "user": {
      "displayName": "siddhardh selvam",
      "userId": "13966379820454708749"
     },
     "user_tz": -330
    },
    "id": "cdmTOR4MhHCB"
   },
   "outputs": [],
   "source": [
    "import pickle"
   ]
  },
  {
   "cell_type": "code",
   "execution_count": 37,
   "metadata": {
    "executionInfo": {
     "elapsed": 17,
     "status": "ok",
     "timestamp": 1653200163543,
     "user": {
      "displayName": "siddhardh selvam",
      "userId": "13966379820454708749"
     },
     "user_tz": -330
    },
    "id": "4gN09lokhKuZ"
   },
   "outputs": [],
   "source": [
    "filename = 'diabetes_model.sav'\n",
    "pickle.dump(best_xgb, open(filename, 'wb'))"
   ]
  },
  {
   "cell_type": "code",
   "execution_count": null,
   "metadata": {
    "executionInfo": {
     "elapsed": 18,
     "status": "ok",
     "timestamp": 1653200163544,
     "user": {
      "displayName": "siddhardh selvam",
      "userId": "13966379820454708749"
     },
     "user_tz": -330
    },
    "id": "IKW4D5CqhP5X"
   },
   "outputs": [],
   "source": [
    "loaded_model = pickle.load(open('diabetes_model.sav', 'rb'))"
   ]
  }
 ],
 "metadata": {
  "colab": {
   "authorship_tag": "ABX9TyNUMtWtqiQOs+bSuSretvw5",
   "collapsed_sections": [],
   "name": "Multiple disease prediction system - diabetes.ipynb",
   "provenance": []
  },
  "kernelspec": {
   "display_name": "Python 3",
   "name": "python3"
  },
  "language_info": {
   "codemirror_mode": {
    "name": "ipython",
    "version": 3
   },
   "file_extension": ".py",
   "mimetype": "text/x-python",
   "name": "python",
   "nbconvert_exporter": "python",
   "pygments_lexer": "ipython3",
   "version": "3.12.2"
  }
 },
 "nbformat": 4,
 "nbformat_minor": 0
}
